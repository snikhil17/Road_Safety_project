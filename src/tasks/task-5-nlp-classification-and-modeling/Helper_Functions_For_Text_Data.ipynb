{
  "nbformat": 4,
  "nbformat_minor": 0,
  "metadata": {
    "colab": {
      "name": "HelperFunctionsForReference.ipynb",
      "provenance": []
    },
    "kernelspec": {
      "name": "python3",
      "display_name": "Python 3"
    },
    "language_info": {
      "name": "python"
    }
  },
  "cells": [
    {
      "cell_type": "markdown",
      "metadata": {
        "id": "_JnWcK27ZTLp"
      },
      "source": [
        "## **Some Helpful Libraries**\n",
        "- pip install those not available in your environment"
      ]
    },
    {
      "cell_type": "code",
      "metadata": {
        "colab": {
          "base_uri": "https://localhost:8080/"
        },
        "id": "W8I7PRnMZSWx",
        "outputId": "dd63566e-3623-4a4d-ad60-bd4b35b69f43"
      },
      "source": [
        "import nltk\n",
        "nltk.download('punkt')\n",
        "from nltk.corpus import stopwords\n",
        "nltk.download('stopwords')\n",
        "import string\n",
        "\n",
        "import re\n",
        "\n",
        "import warnings\n",
        "warnings.filterwarnings('ignore')\n",
        "\n",
        "\n",
        "from nltk.stem.porter import PorterStemmer"
      ],
      "execution_count": 3,
      "outputs": [
        {
          "output_type": "stream",
          "name": "stdout",
          "text": [
            "[nltk_data] Downloading package punkt to /root/nltk_data...\n",
            "[nltk_data]   Unzipping tokenizers/punkt.zip.\n",
            "[nltk_data] Downloading package stopwords to /root/nltk_data...\n",
            "[nltk_data]   Unzipping corpora/stopwords.zip.\n"
          ]
        }
      ]
    },
    {
      "cell_type": "markdown",
      "metadata": {
        "id": "CJDQdu9FYofn"
      },
      "source": [
        "## **Function to remove Unwanted Letters using Reges**"
      ]
    },
    {
      "cell_type": "code",
      "metadata": {
        "id": "gkRR-xPiYi2F"
      },
      "source": [
        "import re\n",
        "ip_addr_regex = re.compile(r'\\b(?:[0-9]{1,3}\\.){3}[0-9]{1,3}\\b')\n",
        "emoji_pattern = re.compile(\"[\"\n",
        "        u\"\\U0001F600-\\U0001F64F\"  # emoticons\n",
        "        u\"\\U0001F300-\\U0001F5FF\"  # symbols & pictographs\n",
        "        u\"\\U0001F680-\\U0001F6FF\"  # transport & map symbols\n",
        "        u\"\\U0001F1E0-\\U0001F1FF\"  # flags (iOS)\n",
        "                           \"]+\", flags=re.UNICODE)\n",
        "def decontracted(phrase):\n",
        "    # specific\n",
        "    phrase = re.sub(r\"won\\'t\", \"will not\", phrase)\n",
        "    phrase = re.sub(r\"can\\'t\", \"can not\", phrase)\n",
        "\n",
        "    # general\n",
        "    phrase = re.sub(r\"n\\'t\", \" not\", phrase)\n",
        "    phrase = re.sub(r\"\\'re\", \" are\", phrase)\n",
        "    phrase = re.sub(r\"\\'s\", \" is\", phrase)\n",
        "    phrase = re.sub(r\"\\'d\", \" would\", phrase)\n",
        "    phrase = re.sub(r\"\\'ll\", \" will\", phrase)\n",
        "    phrase = re.sub(r\"\\'t\", \" not\", phrase)\n",
        "    phrase = re.sub(r\"\\'ve\", \" have\", phrase)\n",
        "    phrase = re.sub(r\"\\'m\", \" am\", phrase)\n",
        "    phrase = re.sub(r\"\\r\\n\", \"\", phrase)            # Removing additional line\n",
        "    phrase = re.sub(r\"\\n\", \"\", phrase)              # Removing additional line \n",
        "    phrase = re.sub(r\"\\S*@\\S*\\s?\", \"\", phrase)      # Removing email-addresses \n",
        "    phrase = re.sub(r'http\\S+', '', phrase)         # Removing website links\n",
        "    phrase = re.sub(ip_addr_regex, \"\", phrase)      # Removing IP address link.\n",
        "    phrase = re.sub(r'[!\"\\$%&\\'()*+,\\-.\\/:;=#@?\\[\\\\\\]^_`{|}~]*', \"\", phrase)\n",
        "    phrase = emoji_pattern.sub(r'', phrase)         # Remove Emojis\n",
        "    \n",
        "    return phrase"
      ],
      "execution_count": 4,
      "outputs": []
    },
    {
      "cell_type": "markdown",
      "metadata": {
        "id": "VL1Rc7irY4db"
      },
      "source": [
        "## **Removing Certain Stopwords from English-Stopwords list**"
      ]
    },
    {
      "cell_type": "code",
      "metadata": {
        "id": "CNex16nvY0ON"
      },
      "source": [
        "# Removing important words from Stopwords list. ( ‘no’, ‘not’, ‘don’, ‘won’)\n",
        "# To Remove more keeo adding word to the list\n",
        "stop_words = stopwords.words('english')\n",
        "words_to_be_removed = ['no', 'not', 'don', 'won']\n",
        "for word in words_to_be_removed:\n",
        "  stop_words.remove(word)"
      ],
      "execution_count": 5,
      "outputs": []
    },
    {
      "cell_type": "markdown",
      "metadata": {
        "id": "ZpzuDLX_Zgua"
      },
      "source": [
        "## **Function that can be used to:**\n",
        "- **Preprocess text**\n",
        "- **can be passed as analyzer to the CountVectorizer function (for preprocessing and creating BoW etc.**"
      ]
    },
    {
      "cell_type": "code",
      "metadata": {
        "id": "pEV7t0BuZMzQ"
      },
      "source": [
        "def textPreprocessing(document):\n",
        "  # storing nltk_words (english) in a variable\n",
        "  nltk_words = set(nltk.corpus.words.words())\n",
        "\n",
        "  # Word Tokenization\n",
        "  words = [\" \".join(nltk.wordpunct_tokenize(title)) for title in document.split()]\n",
        "\n",
        "  # Selecting Only English Words\n",
        "  only_eng = [word for word in words if word.lower() in nltk_words or not word.isalpha()]\n",
        "\n",
        "  # Remove Punctuations\n",
        "  sentWithoutPunct = ' '.join([char for char in only_eng if char not in string.punctuation])\n",
        "\n",
        "  # Normalize the data (lowercase)\n",
        "  wordNormalized = ' '.join([word.lower() for word in sentWithoutPunct.split() if len(word)  > 3 ])\n",
        "\n",
        "  # Remove Stopwords\n",
        "  vocabulary = [word for word in wordNormalized.split() if word not in stopwords.words('english')]\n",
        "\n",
        "  # Apply Stemming\n",
        "  # Creating an instance of PorterStemmer class, for stemming.\n",
        "  # stemObject = PorterStemmer() # Could be written outside this Function. Putting here for reference only\n",
        "  # stem_words = ''.join([stemObject.stem(word) for word in vocabulary])\n",
        "  # vocab= stem_words.split()\n",
        "\n",
        "\n",
        "  return vocabulary"
      ],
      "execution_count": 6,
      "outputs": []
    },
    {
      "cell_type": "markdown",
      "metadata": {
        "id": "yMTS2mHzaB-5"
      },
      "source": [
        "## **Using CountVectorizer to create BoW**"
      ]
    },
    {
      "cell_type": "code",
      "metadata": {
        "id": "4w-bUxJ8Z9LJ"
      },
      "source": [
        "\"\"\"\n",
        "features = X\n",
        "labels = Y\n",
        "\"\"\"\n",
        "# Create BOW in SKlearn\n",
        "wordVector = CountVectorizer(analyzer=textPreprocessing)\n",
        "\n",
        "#Build the Vocabulary\n",
        "finalWordVectorVocab = wordVector.fit(features)\n",
        "\n",
        "# To create BOW\n",
        "bagOfWords = finalWordVectorVocab.transform(features)"
      ],
      "execution_count": null,
      "outputs": []
    },
    {
      "cell_type": "code",
      "metadata": {
        "id": "vo1WMjQCcNgj"
      },
      "source": [
        "\"\"\"CountVectorizer inbuild text cleaning\"\"\"\n",
        "#Create Document Term Matrix\n",
        "from sklearn.feature_extraction.text import CountVectorizer\n",
        "\n",
        "tf_vectorizer = CountVectorizer(stop_words=stop_words, #Stopwords\n",
        "                              lowercase=True, # Normalization\n",
        "                              token_pattern= r'\\b[a-zA-Z]{3,}', #Tokenization\n",
        "                                strip_accents='unicode',  #Trims all unicode chars which is not a part of eng language\n",
        "                              )\n",
        "\n",
        "tfObject = tf_vectorizer.fit_transform(df['content'])\n",
        "tfObject.shape"
      ],
      "execution_count": null,
      "outputs": []
    },
    {
      "cell_type": "code",
      "metadata": {
        "id": "b-PxlezLcY_T"
      },
      "source": [
        "\"\"\"Create TF-IDF for the above BoW\"\"\"\n",
        "#Create TF-IDF\n",
        "\n",
        "from sklearn.feature_extraction.text import TfidfVectorizer\n",
        "\n",
        "tfidfVectorizer = TfidfVectorizer(**tf_vectorizer.get_params())\n",
        "tfidfObject = tfidfVectorizer.fit_transform(df['content'])\n",
        "tfidfObject.shape\n",
        "\n"
      ],
      "execution_count": null,
      "outputs": []
    },
    {
      "cell_type": "markdown",
      "metadata": {
        "id": "y_BP32IabGQe"
      },
      "source": [
        "## **TF-IDF object**"
      ]
    },
    {
      "cell_type": "code",
      "metadata": {
        "id": "ImxxA4xhbI5S"
      },
      "source": [
        "# Apply TFIDF Algo on BOW to create a feature set\n",
        "tfidfObject = TfidfTransformer().fit(bagOfWords)  #Calc IDF Values\n",
        "\n",
        "# Lets create Numeric Feature set\n",
        "processedFeatures = tfidfObject.transform(bagOfWords)"
      ],
      "execution_count": null,
      "outputs": []
    },
    {
      "cell_type": "markdown",
      "metadata": {
        "id": "tHBntXjobS9u"
      },
      "source": [
        "## **Using ``Vader`` for Sentimental-Analysis**"
      ]
    },
    {
      "cell_type": "code",
      "metadata": {
        "id": "2of_yX_qbW1w"
      },
      "source": [
        "\"\"\"Libraries Required\"\"\"\n",
        "nltk.download('vader_lexicon')\n",
        "from nltk.sentiment.vader import SentimentIntensityAnalyzer\n",
        "sentimentAnalyser = SentimentIntensityAnalyzer()\n",
        "\n",
        "\"\"\"Code for creating a new column in same dataset with sentiments.\"\"\"\n",
        "df['labelFromVADER'] = df['text_column'].apply(lambda review: \"positive\" if sentimentAnalyser.polarity_scores(review)['compound'] > 0.5 else \"negative\")"
      ],
      "execution_count": 8,
      "outputs": []
    },
    {
      "cell_type": "markdown",
      "metadata": {
        "id": "DJRxL7PEb6eX"
      },
      "source": [
        "## **For creating ``Latent Dirichlet Allocation (LDA)`` model**"
      ]
    },
    {
      "cell_type": "code",
      "metadata": {
        "id": "3fIUU_CBbuGt"
      },
      "source": [
        "import pandas as pd\n",
        "import numpy as np\n",
        "\n",
        "#Visualizing the LDA model\n",
        "import pyLDAvis\n",
        "import pyLDAvis.sklearn\n",
        "pyLDAvis.enable_notebook()"
      ],
      "execution_count": null,
      "outputs": []
    },
    {
      "cell_type": "code",
      "metadata": {
        "id": "3u9iJi35cDTr"
      },
      "source": [
        "#Apply LDA to create topic clusters for Bag of Words\n",
        "\n",
        "from sklearn.decomposition import LatentDirichletAllocation\n",
        "lda_tf = LatentDirichletAllocation(n_components=4 , random_state=0)\n",
        "lda_tf.fit(tfObject) # as per books"
      ],
      "execution_count": null,
      "outputs": []
    },
    {
      "cell_type": "code",
      "metadata": {
        "id": "Hsxw0sP3cp0y"
      },
      "source": [
        "#---------------------LDAModel,BOW/TFIDF Object,CountVectorizerObject ----------\n",
        "pyLDAvis.sklearn.prepare(lda_tf,tfObject,tf_vectorizer)"
      ],
      "execution_count": null,
      "outputs": []
    }
  ]
}