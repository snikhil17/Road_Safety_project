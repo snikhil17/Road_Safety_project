{
  "cells": [
    {
      "cell_type": "markdown",
      "metadata": {
        "id": "01qjCBteCx85"
      },
      "source": [
        "## Importing the Required Libraries"
      ]
    },
    {
      "cell_type": "code",
      "source": [
        "!pip install pyLDAvis"
      ],
      "metadata": {
        "id": "Kx9KMv2BC8I6",
        "colab": {
          "base_uri": "https://localhost:8080/"
        },
        "outputId": "5ba6e349-2100-4f38-8942-3dc6e4fb1521"
      },
      "execution_count": 192,
      "outputs": [
        {
          "output_type": "stream",
          "name": "stdout",
          "text": [
            "Requirement already satisfied: pyLDAvis in /usr/local/lib/python3.7/dist-packages (3.3.1)\n",
            "Requirement already satisfied: numexpr in /usr/local/lib/python3.7/dist-packages (from pyLDAvis) (2.8.1)\n",
            "Requirement already satisfied: sklearn in /usr/local/lib/python3.7/dist-packages (from pyLDAvis) (0.0)\n",
            "Requirement already satisfied: gensim in /usr/local/lib/python3.7/dist-packages (from pyLDAvis) (3.6.0)\n",
            "Requirement already satisfied: pandas>=1.2.0 in /usr/local/lib/python3.7/dist-packages (from pyLDAvis) (1.3.5)\n",
            "Requirement already satisfied: funcy in /usr/local/lib/python3.7/dist-packages (from pyLDAvis) (1.17)\n",
            "Requirement already satisfied: joblib in /usr/local/lib/python3.7/dist-packages (from pyLDAvis) (1.1.0)\n",
            "Requirement already satisfied: future in /usr/local/lib/python3.7/dist-packages (from pyLDAvis) (0.16.0)\n",
            "Requirement already satisfied: scikit-learn in /usr/local/lib/python3.7/dist-packages (from pyLDAvis) (1.0.2)\n",
            "Requirement already satisfied: jinja2 in /usr/local/lib/python3.7/dist-packages (from pyLDAvis) (2.11.3)\n",
            "Requirement already satisfied: scipy in /usr/local/lib/python3.7/dist-packages (from pyLDAvis) (1.4.1)\n",
            "Requirement already satisfied: setuptools in /usr/local/lib/python3.7/dist-packages (from pyLDAvis) (57.4.0)\n",
            "Requirement already satisfied: numpy>=1.20.0 in /usr/local/lib/python3.7/dist-packages (from pyLDAvis) (1.21.5)\n",
            "Requirement already satisfied: pytz>=2017.3 in /usr/local/lib/python3.7/dist-packages (from pandas>=1.2.0->pyLDAvis) (2018.9)\n",
            "Requirement already satisfied: python-dateutil>=2.7.3 in /usr/local/lib/python3.7/dist-packages (from pandas>=1.2.0->pyLDAvis) (2.8.2)\n",
            "Requirement already satisfied: six>=1.5 in /usr/local/lib/python3.7/dist-packages (from python-dateutil>=2.7.3->pandas>=1.2.0->pyLDAvis) (1.15.0)\n",
            "Requirement already satisfied: smart-open>=1.2.1 in /usr/local/lib/python3.7/dist-packages (from gensim->pyLDAvis) (5.2.1)\n",
            "Requirement already satisfied: MarkupSafe>=0.23 in /usr/local/lib/python3.7/dist-packages (from jinja2->pyLDAvis) (2.0.1)\n",
            "Requirement already satisfied: packaging in /usr/local/lib/python3.7/dist-packages (from numexpr->pyLDAvis) (21.3)\n",
            "Requirement already satisfied: pyparsing!=3.0.5,>=2.0.2 in /usr/local/lib/python3.7/dist-packages (from packaging->numexpr->pyLDAvis) (3.0.6)\n",
            "Requirement already satisfied: threadpoolctl>=2.0.0 in /usr/local/lib/python3.7/dist-packages (from scikit-learn->pyLDAvis) (3.0.0)\n"
          ]
        }
      ]
    },
    {
      "cell_type": "code",
      "source": [
        "!wget https://raw.githubusercontent.com/snikhil17/Road_Safety/main/Data/road_accident_india_40k_tweets.csv"
      ],
      "metadata": {
        "colab": {
          "base_uri": "https://localhost:8080/"
        },
        "id": "mqDYvnT1DJ77",
        "outputId": "41361e21-4006-42ad-e4a1-557eeb2262a3"
      },
      "execution_count": 193,
      "outputs": [
        {
          "output_type": "stream",
          "name": "stdout",
          "text": [
            "--2022-01-14 08:57:58--  https://raw.githubusercontent.com/snikhil17/Road_Safety/main/Data/road_accident_india_40k_tweets.csv\n",
            "Resolving raw.githubusercontent.com (raw.githubusercontent.com)... 185.199.108.133, 185.199.109.133, 185.199.110.133, ...\n",
            "Connecting to raw.githubusercontent.com (raw.githubusercontent.com)|185.199.108.133|:443... connected.\n",
            "HTTP request sent, awaiting response... 200 OK\n",
            "Length: 9251114 (8.8M) [text/plain]\n",
            "Saving to: ‘road_accident_india_40k_tweets.csv.1’\n",
            "\n",
            "road_accident_india 100%[===================>]   8.82M  --.-KB/s    in 0.09s   \n",
            "\n",
            "2022-01-14 08:57:59 (99.7 MB/s) - ‘road_accident_india_40k_tweets.csv.1’ saved [9251114/9251114]\n",
            "\n"
          ]
        }
      ]
    },
    {
      "cell_type": "code",
      "execution_count": null,
      "metadata": {
        "id": "aQf3RHc2Cx86",
        "colab": {
          "base_uri": "https://localhost:8080/"
        },
        "outputId": "c56b68e5-2786-4251-bc8a-a4346b2920ff"
      },
      "outputs": [
        {
          "output_type": "stream",
          "name": "stdout",
          "text": [
            "[nltk_data] Downloading package stopwords to /root/nltk_data...\n",
            "[nltk_data]   Package stopwords is already up-to-date!\n"
          ]
        }
      ],
      "source": [
        "#https://www.machinelearningplus.com/nlp/topic-modeling-gensim-python/#1introduction\n",
        "import numpy as np\n",
        "import pandas as pd\n",
        "import json\n",
        "import glob\n",
        "\n",
        "#Gensim\n",
        "import gensim\n",
        "import gensim.corpora as corpora\n",
        "from gensim.utils import simple_preprocess\n",
        "from gensim.models import CoherenceModel\n",
        "\n",
        "#spacy\n",
        "import spacy\n",
        "from nltk.corpus import stopwords\n",
        "\n",
        "#vis\n",
        "import pyLDAvis\n",
        "import pyLDAvis.sklearn\n",
        "pyLDAvis.enable_notebook()\n",
        "\n",
        "import warnings\n",
        "warnings.filterwarnings(\"ignore\", category=DeprecationWarning)\n",
        "\n",
        "import nltk\n",
        "nltk.download('stopwords')\n",
        "\n",
        "import gensim\n",
        "from gensim.corpora import Dictionary\n",
        "\n",
        "from IPython.display import clear_output\n",
        "\n",
        "import pyLDAvis.gensim_models as gensim_models\n",
        "from gensim.models.coherencemodel import CoherenceModel"
      ]
    },
    {
      "cell_type": "markdown",
      "metadata": {
        "id": "cSwny9pcCx88"
      },
      "source": [
        "## Preparing the Data"
      ]
    },
    {
      "cell_type": "code",
      "execution_count": null,
      "metadata": {
        "id": "atMdid0_Cx89",
        "colab": {
          "base_uri": "https://localhost:8080/",
          "height": 206
        },
        "outputId": "93507e9d-5261-4b99-ea3e-eccfcc00649a"
      },
      "outputs": [
        {
          "output_type": "execute_result",
          "data": {
            "text/html": [
              "\n",
              "  <div id=\"df-c1c4a333-fa84-43ff-b972-6c84cee81adc\">\n",
              "    <div class=\"colab-df-container\">\n",
              "      <div>\n",
              "<style scoped>\n",
              "    .dataframe tbody tr th:only-of-type {\n",
              "        vertical-align: middle;\n",
              "    }\n",
              "\n",
              "    .dataframe tbody tr th {\n",
              "        vertical-align: top;\n",
              "    }\n",
              "\n",
              "    .dataframe thead th {\n",
              "        text-align: right;\n",
              "    }\n",
              "</style>\n",
              "<table border=\"1\" class=\"dataframe\">\n",
              "  <thead>\n",
              "    <tr style=\"text-align: right;\">\n",
              "      <th></th>\n",
              "      <th>id</th>\n",
              "      <th>tweet</th>\n",
              "      <th>time</th>\n",
              "    </tr>\n",
              "  </thead>\n",
              "  <tbody>\n",
              "    <tr>\n",
              "      <th>0</th>\n",
              "      <td>1480483510896902145</td>\n",
              "      <td>If you get to know about the statistics of roa...</td>\n",
              "      <td>Mon Jan 10 10:15:49 +0000 2022</td>\n",
              "    </tr>\n",
              "    <tr>\n",
              "      <th>1</th>\n",
              "      <td>1480500301941522433</td>\n",
              "      <td>That’s how a people’s leader acts.</td>\n",
              "      <td>Mon Jan 10 11:22:33 +0000 2022</td>\n",
              "    </tr>\n",
              "    <tr>\n",
              "      <th>2</th>\n",
              "      <td>1480537770539978752</td>\n",
              "      <td>who has posed a direct/Indirect challenge to E...</td>\n",
              "      <td>Mon Jan 10 13:51:26 +0000 2022</td>\n",
              "    </tr>\n",
              "    <tr>\n",
              "      <th>3</th>\n",
              "      <td>1480666410418331657</td>\n",
              "      <td>@Suhelseth No real life that we normally see i...</td>\n",
              "      <td>Mon Jan 10 22:22:36 +0000 2022</td>\n",
              "    </tr>\n",
              "    <tr>\n",
              "      <th>4</th>\n",
              "      <td>1480384703232294913</td>\n",
              "      <td>Namaskar,\\nrequest u all 2 help us Mysuru resi...</td>\n",
              "      <td>Mon Jan 10 03:43:12 +0000 2022</td>\n",
              "    </tr>\n",
              "  </tbody>\n",
              "</table>\n",
              "</div>\n",
              "      <button class=\"colab-df-convert\" onclick=\"convertToInteractive('df-c1c4a333-fa84-43ff-b972-6c84cee81adc')\"\n",
              "              title=\"Convert this dataframe to an interactive table.\"\n",
              "              style=\"display:none;\">\n",
              "        \n",
              "  <svg xmlns=\"http://www.w3.org/2000/svg\" height=\"24px\"viewBox=\"0 0 24 24\"\n",
              "       width=\"24px\">\n",
              "    <path d=\"M0 0h24v24H0V0z\" fill=\"none\"/>\n",
              "    <path d=\"M18.56 5.44l.94 2.06.94-2.06 2.06-.94-2.06-.94-.94-2.06-.94 2.06-2.06.94zm-11 1L8.5 8.5l.94-2.06 2.06-.94-2.06-.94L8.5 2.5l-.94 2.06-2.06.94zm10 10l.94 2.06.94-2.06 2.06-.94-2.06-.94-.94-2.06-.94 2.06-2.06.94z\"/><path d=\"M17.41 7.96l-1.37-1.37c-.4-.4-.92-.59-1.43-.59-.52 0-1.04.2-1.43.59L10.3 9.45l-7.72 7.72c-.78.78-.78 2.05 0 2.83L4 21.41c.39.39.9.59 1.41.59.51 0 1.02-.2 1.41-.59l7.78-7.78 2.81-2.81c.8-.78.8-2.07 0-2.86zM5.41 20L4 18.59l7.72-7.72 1.47 1.35L5.41 20z\"/>\n",
              "  </svg>\n",
              "      </button>\n",
              "      \n",
              "  <style>\n",
              "    .colab-df-container {\n",
              "      display:flex;\n",
              "      flex-wrap:wrap;\n",
              "      gap: 12px;\n",
              "    }\n",
              "\n",
              "    .colab-df-convert {\n",
              "      background-color: #E8F0FE;\n",
              "      border: none;\n",
              "      border-radius: 50%;\n",
              "      cursor: pointer;\n",
              "      display: none;\n",
              "      fill: #1967D2;\n",
              "      height: 32px;\n",
              "      padding: 0 0 0 0;\n",
              "      width: 32px;\n",
              "    }\n",
              "\n",
              "    .colab-df-convert:hover {\n",
              "      background-color: #E2EBFA;\n",
              "      box-shadow: 0px 1px 2px rgba(60, 64, 67, 0.3), 0px 1px 3px 1px rgba(60, 64, 67, 0.15);\n",
              "      fill: #174EA6;\n",
              "    }\n",
              "\n",
              "    [theme=dark] .colab-df-convert {\n",
              "      background-color: #3B4455;\n",
              "      fill: #D2E3FC;\n",
              "    }\n",
              "\n",
              "    [theme=dark] .colab-df-convert:hover {\n",
              "      background-color: #434B5C;\n",
              "      box-shadow: 0px 1px 3px 1px rgba(0, 0, 0, 0.15);\n",
              "      filter: drop-shadow(0px 1px 2px rgba(0, 0, 0, 0.3));\n",
              "      fill: #FFFFFF;\n",
              "    }\n",
              "  </style>\n",
              "\n",
              "      <script>\n",
              "        const buttonEl =\n",
              "          document.querySelector('#df-c1c4a333-fa84-43ff-b972-6c84cee81adc button.colab-df-convert');\n",
              "        buttonEl.style.display =\n",
              "          google.colab.kernel.accessAllowed ? 'block' : 'none';\n",
              "\n",
              "        async function convertToInteractive(key) {\n",
              "          const element = document.querySelector('#df-c1c4a333-fa84-43ff-b972-6c84cee81adc');\n",
              "          const dataTable =\n",
              "            await google.colab.kernel.invokeFunction('convertToInteractive',\n",
              "                                                     [key], {});\n",
              "          if (!dataTable) return;\n",
              "\n",
              "          const docLinkHtml = 'Like what you see? Visit the ' +\n",
              "            '<a target=\"_blank\" href=https://colab.research.google.com/notebooks/data_table.ipynb>data table notebook</a>'\n",
              "            + ' to learn more about interactive tables.';\n",
              "          element.innerHTML = '';\n",
              "          dataTable['output_type'] = 'display_data';\n",
              "          await google.colab.output.renderOutput(dataTable, element);\n",
              "          const docLink = document.createElement('div');\n",
              "          docLink.innerHTML = docLinkHtml;\n",
              "          element.appendChild(docLink);\n",
              "        }\n",
              "      </script>\n",
              "    </div>\n",
              "  </div>\n",
              "  "
            ],
            "text/plain": [
              "                    id  ...                            time\n",
              "0  1480483510896902145  ...  Mon Jan 10 10:15:49 +0000 2022\n",
              "1  1480500301941522433  ...  Mon Jan 10 11:22:33 +0000 2022\n",
              "2  1480537770539978752  ...  Mon Jan 10 13:51:26 +0000 2022\n",
              "3  1480666410418331657  ...  Mon Jan 10 22:22:36 +0000 2022\n",
              "4  1480384703232294913  ...  Mon Jan 10 03:43:12 +0000 2022\n",
              "\n",
              "[5 rows x 3 columns]"
            ]
          },
          "metadata": {},
          "execution_count": 97
        }
      ],
      "source": [
        "# def load_data(file):\n",
        "#     with open (file, \"r\", encoding=\"utf-8\") as f:\n",
        "#         data = json.load(f) \n",
        "#     return (data)\n",
        "\n",
        "# def write_data(file, data):\n",
        "#     with open (file, \"w\", encoding=\"utf-8\") as f:\n",
        "#         json.dump(data, f, indent=4)\n",
        "df = pd.read_csv('road_accident_india_40k_tweets.csv').drop('Unnamed: 0', axis =1)\n",
        "df.head()"
      ]
    },
    {
      "cell_type": "code",
      "source": [
        "df.isnull().sum()"
      ],
      "metadata": {
        "colab": {
          "base_uri": "https://localhost:8080/"
        },
        "id": "rSdnazrPDxpp",
        "outputId": "fc863aaf-4f42-4e91-9b68-33eec911673f"
      },
      "execution_count": null,
      "outputs": [
        {
          "output_type": "execute_result",
          "data": {
            "text/plain": [
              "id        1\n",
              "tweet     7\n",
              "time     13\n",
              "dtype: int64"
            ]
          },
          "metadata": {},
          "execution_count": 98
        }
      ]
    },
    {
      "cell_type": "code",
      "source": [
        "df[df.duplicated() == True]"
      ],
      "metadata": {
        "colab": {
          "base_uri": "https://localhost:8080/",
          "height": 1000
        },
        "id": "EKk5yutEIFF2",
        "outputId": "fe1fdb9f-a23c-4c58-f47c-4769d753f95d"
      },
      "execution_count": null,
      "outputs": [
        {
          "output_type": "execute_result",
          "data": {
            "text/html": [
              "\n",
              "  <div id=\"df-182eec3d-5f02-42b8-b8d1-e4a5aedbeb47\">\n",
              "    <div class=\"colab-df-container\">\n",
              "      <div>\n",
              "<style scoped>\n",
              "    .dataframe tbody tr th:only-of-type {\n",
              "        vertical-align: middle;\n",
              "    }\n",
              "\n",
              "    .dataframe tbody tr th {\n",
              "        vertical-align: top;\n",
              "    }\n",
              "\n",
              "    .dataframe thead th {\n",
              "        text-align: right;\n",
              "    }\n",
              "</style>\n",
              "<table border=\"1\" class=\"dataframe\">\n",
              "  <thead>\n",
              "    <tr style=\"text-align: right;\">\n",
              "      <th></th>\n",
              "      <th>id</th>\n",
              "      <th>tweet</th>\n",
              "      <th>time</th>\n",
              "    </tr>\n",
              "  </thead>\n",
              "  <tbody>\n",
              "    <tr>\n",
              "      <th>1269</th>\n",
              "      <td>1442753176663248900</td>\n",
              "      <td>@antiso_am LOL. Keep making up imaginary stuff...</td>\n",
              "      <td>Tue Sep 28 07:28:57 +0000 2021</td>\n",
              "    </tr>\n",
              "    <tr>\n",
              "      <th>1458</th>\n",
              "      <td>1436652411133706254</td>\n",
              "      <td>\"In India, 17 people die every hour due to roa...</td>\n",
              "      <td>Sat Sep 11 11:26:41 +0000 2021</td>\n",
              "    </tr>\n",
              "    <tr>\n",
              "      <th>1466</th>\n",
              "      <td>1436673691241226240</td>\n",
              "      <td>India should lead tech to reduce traffic accid...</td>\n",
              "      <td>Sat Sep 11 12:51:14 +0000 2021</td>\n",
              "    </tr>\n",
              "    <tr>\n",
              "      <th>3101</th>\n",
              "      <td>1377493635852165120</td>\n",
              "      <td>@uptransportdept\\nCheck this, right in city ce...</td>\n",
              "      <td>Thu Apr 01 05:30:50 +0000 2021</td>\n",
              "    </tr>\n",
              "    <tr>\n",
              "      <th>3784</th>\n",
              "      <td>1360967038643093504</td>\n",
              "      <td>With just 1 per cent of the world's vehicles, ...</td>\n",
              "      <td>Sun Feb 14 15:00:02 +0000 2021</td>\n",
              "    </tr>\n",
              "    <tr>\n",
              "      <th>3862</th>\n",
              "      <td>1360664296045248513</td>\n",
              "      <td>Road Accident In #India More Dangerous Than Co...</td>\n",
              "      <td>Sat Feb 13 18:57:02 +0000 2021</td>\n",
              "    </tr>\n",
              "    <tr>\n",
              "      <th>3876</th>\n",
              "      <td>1360624851912916992</td>\n",
              "      <td>Road accident in India more 'dangerous than CO...</td>\n",
              "      <td>Sat Feb 13 16:20:18 +0000 2021</td>\n",
              "    </tr>\n",
              "    <tr>\n",
              "      <th>3884</th>\n",
              "      <td>1360635113193758720</td>\n",
              "      <td>#Road accident in India more 'dangerous than C...</td>\n",
              "      <td>Sat Feb 13 17:01:05 +0000 2021</td>\n",
              "    </tr>\n",
              "    <tr>\n",
              "      <th>3992</th>\n",
              "      <td>1359192400611090433</td>\n",
              "      <td>Terming the road accidents scenario in India \"...</td>\n",
              "      <td>Tue Feb 09 17:28:15 +0000 2021</td>\n",
              "    </tr>\n",
              "    <tr>\n",
              "      <th>4051</th>\n",
              "      <td>1358020115426541575</td>\n",
              "      <td>दिल्ली की फ़रिश्ते योजना में अब तक 10 हज़ार से...</td>\n",
              "      <td>Sat Feb 06 11:50:00 +0000 2021</td>\n",
              "    </tr>\n",
              "    <tr>\n",
              "      <th>4502</th>\n",
              "      <td>1349981637086498816</td>\n",
              "      <td>Saddened by the loss of lives due to a road ac...</td>\n",
              "      <td>Fri Jan 15 07:27:58 +0000 2021</td>\n",
              "    </tr>\n",
              "    <tr>\n",
              "      <th>4986</th>\n",
              "      <td>1330731617879425024</td>\n",
              "      <td>I’ll often stop at intersections in India just...</td>\n",
              "      <td>Mon Nov 23 04:35:16 +0000 2020</td>\n",
              "    </tr>\n",
              "    <tr>\n",
              "      <th>5041</th>\n",
              "      <td>1329655479950135297</td>\n",
              "      <td>It’s very difficult to accept but murder and t...</td>\n",
              "      <td>Fri Nov 20 05:19:04 +0000 2020</td>\n",
              "    </tr>\n",
              "    <tr>\n",
              "      <th>5561</th>\n",
              "      <td>1312703060443983873</td>\n",
              "      <td>A reminder that India would have seen 1 L + de...</td>\n",
              "      <td>Sun Oct 04 10:36:13 +0000 2020</td>\n",
              "    </tr>\n",
              "    <tr>\n",
              "      <th>6053</th>\n",
              "      <td>1300027548819169286</td>\n",
              "      <td>The Indian subcontinent ranked first in terms ...</td>\n",
              "      <td>Sun Aug 30 11:08:15 +0000 2020</td>\n",
              "    </tr>\n",
              "    <tr>\n",
              "      <th>7557</th>\n",
              "      <td>1261542519965282304</td>\n",
              "      <td>मोदी सरकार के 6 साल...बेमिसाल https://t.co/1fo...</td>\n",
              "      <td>Sat May 16 06:22:29 +0000 2020</td>\n",
              "    </tr>\n",
              "    <tr>\n",
              "      <th>7617</th>\n",
              "      <td>1261503611038810117</td>\n",
              "      <td>BREAKING: not good news. 24 migrant labour dea...</td>\n",
              "      <td>Sat May 16 03:47:53 +0000 2020</td>\n",
              "    </tr>\n",
              "    <tr>\n",
              "      <th>7960</th>\n",
              "      <td>1258066533030428672</td>\n",
              "      <td>#COVID19 | PM @narendramodi assures help to Et...</td>\n",
              "      <td>Wed May 06 16:10:09 +0000 2020</td>\n",
              "    </tr>\n",
              "    <tr>\n",
              "      <th>9740</th>\n",
              "      <td>1230265842866114560</td>\n",
              "      <td>ETAuto | Gadkari reaffirms India's commitment ...</td>\n",
              "      <td>Wed Feb 19 23:00:08 +0000 2020</td>\n",
              "    </tr>\n",
              "    <tr>\n",
              "      <th>10003</th>\n",
              "      <td>1218544244991782912</td>\n",
              "      <td>The news of @AzmiShabana Ji’s injury in an acc...</td>\n",
              "      <td>Sat Jan 18 14:42:42 +0000 2020</td>\n",
              "    </tr>\n",
              "    <tr>\n",
              "      <th>10632</th>\n",
              "      <td>1199989111722889216</td>\n",
              "      <td>India🇮🇳has some 150k deaths a year from road a...</td>\n",
              "      <td>Thu Nov 28 09:51:13 +0000 2019</td>\n",
              "    </tr>\n",
              "    <tr>\n",
              "      <th>10739</th>\n",
              "      <td>1197439777664065536</td>\n",
              "      <td>With a high number of road accidents, India’s ...</td>\n",
              "      <td>Thu Nov 21 09:01:05 +0000 2019</td>\n",
              "    </tr>\n",
              "    <tr>\n",
              "      <th>10781</th>\n",
              "      <td>1196991817545175040</td>\n",
              "      <td>20/11/19: \"Road accidents in India occur more ...</td>\n",
              "      <td>Wed Nov 20 03:21:02 +0000 2019</td>\n",
              "    </tr>\n",
              "    <tr>\n",
              "      <th>11688</th>\n",
              "      <td>1168378906866413568</td>\n",
              "      <td>https://t.co/tsu36k9qTy</td>\n",
              "      <td>Mon Sep 02 04:23:33 +0000 2019</td>\n",
              "    </tr>\n",
              "    <tr>\n",
              "      <th>11730</th>\n",
              "      <td>1168378906866413568</td>\n",
              "      <td>https://t.co/tsu36k9qTy</td>\n",
              "      <td>Mon Sep 02 04:23:33 +0000 2019</td>\n",
              "    </tr>\n",
              "    <tr>\n",
              "      <th>11759</th>\n",
              "      <td>1172143336028659712</td>\n",
              "      <td>Affordability of chalan as a punishment as the...</td>\n",
              "      <td>Thu Sep 12 13:42:03 +0000 2019</td>\n",
              "    </tr>\n",
              "    <tr>\n",
              "      <th>11839</th>\n",
              "      <td>1171802750964916224</td>\n",
              "      <td>How many PPL dies in Road Accidents every Hour...</td>\n",
              "      <td>Wed Sep 11 15:08:41 +0000 2019</td>\n",
              "    </tr>\n",
              "    <tr>\n",
              "      <th>11906</th>\n",
              "      <td>1168378906866413568</td>\n",
              "      <td>https://t.co/tsu36k9qTy</td>\n",
              "      <td>Mon Sep 02 04:23:33 +0000 2019</td>\n",
              "    </tr>\n",
              "    <tr>\n",
              "      <th>12109</th>\n",
              "      <td>1168861906997673984</td>\n",
              "      <td>Dinesh Madan has been charged Rs 23,000 as cha...</td>\n",
              "      <td>Tue Sep 03 12:22:49 +0000 2019</td>\n",
              "    </tr>\n",
              "    <tr>\n",
              "      <th>12578</th>\n",
              "      <td>1156584500136206336</td>\n",
              "      <td>Congratulating every citizen on passing of 'Th...</td>\n",
              "      <td>Wed Jul 31 15:16:47 +0000 2019</td>\n",
              "    </tr>\n",
              "    <tr>\n",
              "      <th>12896</th>\n",
              "      <td>1151441448455114752</td>\n",
              "      <td>Dr Akshay Dhar, Group CEO of Bengaluru-based N...</td>\n",
              "      <td>Wed Jul 17 10:40:08 +0000 2019</td>\n",
              "    </tr>\n",
              "    <tr>\n",
              "      <th>12956</th>\n",
              "      <td>1150695094376230916</td>\n",
              "      <td>संसद में मैंने सभी दलों से अपील की है कि सड़क ...</td>\n",
              "      <td>Mon Jul 15 09:14:24 +0000 2019</td>\n",
              "    </tr>\n",
              "    <tr>\n",
              "      <th>13341</th>\n",
              "      <td>1142020516905136128</td>\n",
              "      <td>Road accident in the state of Himachal Pradesh...</td>\n",
              "      <td>Fri Jun 21 10:44:43 +0000 2019</td>\n",
              "    </tr>\n",
              "    <tr>\n",
              "      <th>14429</th>\n",
              "      <td>1103023279428648960</td>\n",
              "      <td>#25 Join the fight.\\n.\\n.\\n#fake #fakefree #fa...</td>\n",
              "      <td>Tue Mar 05 20:03:37 +0000 2019</td>\n",
              "    </tr>\n",
              "    <tr>\n",
              "      <th>15466</th>\n",
              "      <td>1078198636897435648</td>\n",
              "      <td>Breaking News !!\\n\\nDriverless vehicle success...</td>\n",
              "      <td>Thu Dec 27 07:59:21 +0000 2018</td>\n",
              "    </tr>\n",
              "    <tr>\n",
              "      <th>17482</th>\n",
              "      <td>1008959072681512960</td>\n",
              "      <td>One person dies every four minutes in a road a...</td>\n",
              "      <td>Tue Jun 19 06:26:03 +0000 2018</td>\n",
              "    </tr>\n",
              "    <tr>\n",
              "      <th>18674</th>\n",
              "      <td>976443640380768257</td>\n",
              "      <td>Uttar Pradesh recorded the highest number of r...</td>\n",
              "      <td>Wed Mar 21 13:01:19 +0000 2018</td>\n",
              "    </tr>\n",
              "    <tr>\n",
              "      <th>19196</th>\n",
              "      <td>953540326697795584</td>\n",
              "      <td>Speak Now Session 2 - Role of Accident Data An...</td>\n",
              "      <td>Wed Jan 17 08:11:44 +0000 2018</td>\n",
              "    </tr>\n",
              "    <tr>\n",
              "      <th>22634</th>\n",
              "      <td>808300731170045952</td>\n",
              "      <td>To Hackers who put out my bank details I have ...</td>\n",
              "      <td>Mon Dec 12 13:21:26 +0000 2016</td>\n",
              "    </tr>\n",
              "    <tr>\n",
              "      <th>24084</th>\n",
              "      <td>740276378709467136</td>\n",
              "      <td>What happens to victims of road accidents in I...</td>\n",
              "      <td>Tue Jun 07 20:16:57 +0000 2016</td>\n",
              "    </tr>\n",
              "    <tr>\n",
              "      <th>24420</th>\n",
              "      <td>731599885271588865</td>\n",
              "      <td>Every Day, 400 People Are Killed In Road Accid...</td>\n",
              "      <td>Sat May 14 21:39:39 +0000 2016</td>\n",
              "    </tr>\n",
              "    <tr>\n",
              "      <th>24522</th>\n",
              "      <td>729546175452323840</td>\n",
              "      <td>TamilNadu, Maharashtra, MP, Kerela &amp;amp; UP re...</td>\n",
              "      <td>Mon May 09 05:38:57 +0000 2016</td>\n",
              "    </tr>\n",
              "    <tr>\n",
              "      <th>25254</th>\n",
              "      <td>719780835461697536</td>\n",
              "      <td>India's first woman biker #VeenuPaliwal passes...</td>\n",
              "      <td>Tue Apr 12 06:54:58 +0000 2016</td>\n",
              "    </tr>\n",
              "    <tr>\n",
              "      <th>27188</th>\n",
              "      <td>646977413352673280</td>\n",
              "      <td>Road accidents kill 382 in India every day – 1...</td>\n",
              "      <td>Thu Sep 24 09:20:10 +0000 2015</td>\n",
              "    </tr>\n",
              "    <tr>\n",
              "      <th>28630</th>\n",
              "      <td>605614006863151104</td>\n",
              "      <td>#Interactive Road accident map of India: Death...</td>\n",
              "      <td>Tue Jun 02 05:56:45 +0000 2015</td>\n",
              "    </tr>\n",
              "    <tr>\n",
              "      <th>29114</th>\n",
              "      <td>582810581461127168</td>\n",
              "      <td>#India loses USD 20 billion every year due to ...</td>\n",
              "      <td>Tue Mar 31 07:44:05 +0000 2015</td>\n",
              "    </tr>\n",
              "  </tbody>\n",
              "</table>\n",
              "</div>\n",
              "      <button class=\"colab-df-convert\" onclick=\"convertToInteractive('df-182eec3d-5f02-42b8-b8d1-e4a5aedbeb47')\"\n",
              "              title=\"Convert this dataframe to an interactive table.\"\n",
              "              style=\"display:none;\">\n",
              "        \n",
              "  <svg xmlns=\"http://www.w3.org/2000/svg\" height=\"24px\"viewBox=\"0 0 24 24\"\n",
              "       width=\"24px\">\n",
              "    <path d=\"M0 0h24v24H0V0z\" fill=\"none\"/>\n",
              "    <path d=\"M18.56 5.44l.94 2.06.94-2.06 2.06-.94-2.06-.94-.94-2.06-.94 2.06-2.06.94zm-11 1L8.5 8.5l.94-2.06 2.06-.94-2.06-.94L8.5 2.5l-.94 2.06-2.06.94zm10 10l.94 2.06.94-2.06 2.06-.94-2.06-.94-.94-2.06-.94 2.06-2.06.94z\"/><path d=\"M17.41 7.96l-1.37-1.37c-.4-.4-.92-.59-1.43-.59-.52 0-1.04.2-1.43.59L10.3 9.45l-7.72 7.72c-.78.78-.78 2.05 0 2.83L4 21.41c.39.39.9.59 1.41.59.51 0 1.02-.2 1.41-.59l7.78-7.78 2.81-2.81c.8-.78.8-2.07 0-2.86zM5.41 20L4 18.59l7.72-7.72 1.47 1.35L5.41 20z\"/>\n",
              "  </svg>\n",
              "      </button>\n",
              "      \n",
              "  <style>\n",
              "    .colab-df-container {\n",
              "      display:flex;\n",
              "      flex-wrap:wrap;\n",
              "      gap: 12px;\n",
              "    }\n",
              "\n",
              "    .colab-df-convert {\n",
              "      background-color: #E8F0FE;\n",
              "      border: none;\n",
              "      border-radius: 50%;\n",
              "      cursor: pointer;\n",
              "      display: none;\n",
              "      fill: #1967D2;\n",
              "      height: 32px;\n",
              "      padding: 0 0 0 0;\n",
              "      width: 32px;\n",
              "    }\n",
              "\n",
              "    .colab-df-convert:hover {\n",
              "      background-color: #E2EBFA;\n",
              "      box-shadow: 0px 1px 2px rgba(60, 64, 67, 0.3), 0px 1px 3px 1px rgba(60, 64, 67, 0.15);\n",
              "      fill: #174EA6;\n",
              "    }\n",
              "\n",
              "    [theme=dark] .colab-df-convert {\n",
              "      background-color: #3B4455;\n",
              "      fill: #D2E3FC;\n",
              "    }\n",
              "\n",
              "    [theme=dark] .colab-df-convert:hover {\n",
              "      background-color: #434B5C;\n",
              "      box-shadow: 0px 1px 3px 1px rgba(0, 0, 0, 0.15);\n",
              "      filter: drop-shadow(0px 1px 2px rgba(0, 0, 0, 0.3));\n",
              "      fill: #FFFFFF;\n",
              "    }\n",
              "  </style>\n",
              "\n",
              "      <script>\n",
              "        const buttonEl =\n",
              "          document.querySelector('#df-182eec3d-5f02-42b8-b8d1-e4a5aedbeb47 button.colab-df-convert');\n",
              "        buttonEl.style.display =\n",
              "          google.colab.kernel.accessAllowed ? 'block' : 'none';\n",
              "\n",
              "        async function convertToInteractive(key) {\n",
              "          const element = document.querySelector('#df-182eec3d-5f02-42b8-b8d1-e4a5aedbeb47');\n",
              "          const dataTable =\n",
              "            await google.colab.kernel.invokeFunction('convertToInteractive',\n",
              "                                                     [key], {});\n",
              "          if (!dataTable) return;\n",
              "\n",
              "          const docLinkHtml = 'Like what you see? Visit the ' +\n",
              "            '<a target=\"_blank\" href=https://colab.research.google.com/notebooks/data_table.ipynb>data table notebook</a>'\n",
              "            + ' to learn more about interactive tables.';\n",
              "          element.innerHTML = '';\n",
              "          dataTable['output_type'] = 'display_data';\n",
              "          await google.colab.output.renderOutput(dataTable, element);\n",
              "          const docLink = document.createElement('div');\n",
              "          docLink.innerHTML = docLinkHtml;\n",
              "          element.appendChild(docLink);\n",
              "        }\n",
              "      </script>\n",
              "    </div>\n",
              "  </div>\n",
              "  "
            ],
            "text/plain": [
              "                        id  ...                            time\n",
              "1269   1442753176663248900  ...  Tue Sep 28 07:28:57 +0000 2021\n",
              "1458   1436652411133706254  ...  Sat Sep 11 11:26:41 +0000 2021\n",
              "1466   1436673691241226240  ...  Sat Sep 11 12:51:14 +0000 2021\n",
              "3101   1377493635852165120  ...  Thu Apr 01 05:30:50 +0000 2021\n",
              "3784   1360967038643093504  ...  Sun Feb 14 15:00:02 +0000 2021\n",
              "3862   1360664296045248513  ...  Sat Feb 13 18:57:02 +0000 2021\n",
              "3876   1360624851912916992  ...  Sat Feb 13 16:20:18 +0000 2021\n",
              "3884   1360635113193758720  ...  Sat Feb 13 17:01:05 +0000 2021\n",
              "3992   1359192400611090433  ...  Tue Feb 09 17:28:15 +0000 2021\n",
              "4051   1358020115426541575  ...  Sat Feb 06 11:50:00 +0000 2021\n",
              "4502   1349981637086498816  ...  Fri Jan 15 07:27:58 +0000 2021\n",
              "4986   1330731617879425024  ...  Mon Nov 23 04:35:16 +0000 2020\n",
              "5041   1329655479950135297  ...  Fri Nov 20 05:19:04 +0000 2020\n",
              "5561   1312703060443983873  ...  Sun Oct 04 10:36:13 +0000 2020\n",
              "6053   1300027548819169286  ...  Sun Aug 30 11:08:15 +0000 2020\n",
              "7557   1261542519965282304  ...  Sat May 16 06:22:29 +0000 2020\n",
              "7617   1261503611038810117  ...  Sat May 16 03:47:53 +0000 2020\n",
              "7960   1258066533030428672  ...  Wed May 06 16:10:09 +0000 2020\n",
              "9740   1230265842866114560  ...  Wed Feb 19 23:00:08 +0000 2020\n",
              "10003  1218544244991782912  ...  Sat Jan 18 14:42:42 +0000 2020\n",
              "10632  1199989111722889216  ...  Thu Nov 28 09:51:13 +0000 2019\n",
              "10739  1197439777664065536  ...  Thu Nov 21 09:01:05 +0000 2019\n",
              "10781  1196991817545175040  ...  Wed Nov 20 03:21:02 +0000 2019\n",
              "11688  1168378906866413568  ...  Mon Sep 02 04:23:33 +0000 2019\n",
              "11730  1168378906866413568  ...  Mon Sep 02 04:23:33 +0000 2019\n",
              "11759  1172143336028659712  ...  Thu Sep 12 13:42:03 +0000 2019\n",
              "11839  1171802750964916224  ...  Wed Sep 11 15:08:41 +0000 2019\n",
              "11906  1168378906866413568  ...  Mon Sep 02 04:23:33 +0000 2019\n",
              "12109  1168861906997673984  ...  Tue Sep 03 12:22:49 +0000 2019\n",
              "12578  1156584500136206336  ...  Wed Jul 31 15:16:47 +0000 2019\n",
              "12896  1151441448455114752  ...  Wed Jul 17 10:40:08 +0000 2019\n",
              "12956  1150695094376230916  ...  Mon Jul 15 09:14:24 +0000 2019\n",
              "13341  1142020516905136128  ...  Fri Jun 21 10:44:43 +0000 2019\n",
              "14429  1103023279428648960  ...  Tue Mar 05 20:03:37 +0000 2019\n",
              "15466  1078198636897435648  ...  Thu Dec 27 07:59:21 +0000 2018\n",
              "17482  1008959072681512960  ...  Tue Jun 19 06:26:03 +0000 2018\n",
              "18674   976443640380768257  ...  Wed Mar 21 13:01:19 +0000 2018\n",
              "19196   953540326697795584  ...  Wed Jan 17 08:11:44 +0000 2018\n",
              "22634   808300731170045952  ...  Mon Dec 12 13:21:26 +0000 2016\n",
              "24084   740276378709467136  ...  Tue Jun 07 20:16:57 +0000 2016\n",
              "24420   731599885271588865  ...  Sat May 14 21:39:39 +0000 2016\n",
              "24522   729546175452323840  ...  Mon May 09 05:38:57 +0000 2016\n",
              "25254   719780835461697536  ...  Tue Apr 12 06:54:58 +0000 2016\n",
              "27188   646977413352673280  ...  Thu Sep 24 09:20:10 +0000 2015\n",
              "28630   605614006863151104  ...  Tue Jun 02 05:56:45 +0000 2015\n",
              "29114   582810581461127168  ...  Tue Mar 31 07:44:05 +0000 2015\n",
              "\n",
              "[46 rows x 3 columns]"
            ]
          },
          "metadata": {},
          "execution_count": 99
        }
      ]
    },
    {
      "cell_type": "code",
      "source": [
        "df.dropna(inplace =True)"
      ],
      "metadata": {
        "id": "uW2PhwiRD0OE"
      },
      "execution_count": null,
      "outputs": []
    },
    {
      "cell_type": "code",
      "execution_count": null,
      "metadata": {
        "id": "0UuAq3hcCx8-"
      },
      "outputs": [],
      "source": [
        "stop_words = stopwords.words(\"english\")"
      ]
    },
    {
      "cell_type": "code",
      "source": [
        "import re\n",
        "\"\"\"Functions to clean text using Regex\"\"\"\n",
        "ip_addr_regex = re.compile(r'\\b(?:[0-9]{1,3}\\.){3}[0-9]{1,3}\\b')\n",
        "emoji_pattern = re.compile(\"[\"\n",
        "        u\"\\U0001F600-\\U0001F64F\"  # emoticons\n",
        "        u\"\\U0001F300-\\U0001F5FF\"  # symbols & pictographs\n",
        "        u\"\\U0001F680-\\U0001F6FF\"  # transport & map symbols\n",
        "        u\"\\U0001F1E0-\\U0001F1FF\"  # flags (iOS)\n",
        "                           \"]+\", flags=re.UNICODE)\n",
        "def regex_cleaning(phrase):\n",
        "    # specific\n",
        "    phrase = re.sub(r\"won\\'t\", \"will not\", phrase)\n",
        "    phrase = re.sub(r\"can\\'t\", \"can not\", phrase)\n",
        "\n",
        "    # general\n",
        "    phrase = re.sub(r\"n\\'t\", \" not\", phrase)\n",
        "    phrase = re.sub(r\"\\'re\", \" are\", phrase)\n",
        "    phrase = re.sub(r\"\\'s\", \" is\", phrase)\n",
        "    phrase = re.sub(r\"\\'d\", \" would\", phrase)\n",
        "    phrase = re.sub(r\"\\'ll\", \" will\", phrase)\n",
        "    phrase = re.sub(r\"\\'t\", \" not\", phrase)\n",
        "    phrase = re.sub(r\"\\'ve\", \" have\", phrase)\n",
        "    phrase = re.sub(r\"\\'m\", \" am\", phrase)\n",
        "    phrase = re.sub(r\"[^a-zA-Z0-9]+\", \" \", phrase)\n",
        "    phrase = re.sub(r\"\\r\\n\", \"\", phrase)            # Removing additional line\n",
        "    phrase = re.sub(r\"\\n\", \"\", phrase)              # Removing additional line \n",
        "    phrase = re.sub(r\"\\S*@\\S*\\s?\", \"\", phrase)      # Removing email-addresses \n",
        "    phrase = re.sub(r'http\\S+', '', phrase)         # Removing website links\n",
        "    phrase = re.sub(ip_addr_regex, \"\", phrase)      # Removing IP address link.\n",
        "    phrase = emoji_pattern.sub(r'', phrase)         # Removing Emojis\n",
        "    \n",
        "    return phrase.lower() \n",
        "\n",
        "df['cleaned_text'] = df['tweet'].apply(regex_cleaning)"
      ],
      "metadata": {
        "id": "5MaY4aJJJG38"
      },
      "execution_count": null,
      "outputs": []
    },
    {
      "cell_type": "code",
      "source": [
        "df.head()"
      ],
      "metadata": {
        "colab": {
          "base_uri": "https://localhost:8080/",
          "height": 206
        },
        "id": "z4QY1EjyJhfN",
        "outputId": "4127c356-5f4c-4b75-e75a-a43af7dc9d7c"
      },
      "execution_count": null,
      "outputs": [
        {
          "output_type": "execute_result",
          "data": {
            "text/html": [
              "\n",
              "  <div id=\"df-291cf622-feb8-4c82-8c7b-ff3289a8d6ae\">\n",
              "    <div class=\"colab-df-container\">\n",
              "      <div>\n",
              "<style scoped>\n",
              "    .dataframe tbody tr th:only-of-type {\n",
              "        vertical-align: middle;\n",
              "    }\n",
              "\n",
              "    .dataframe tbody tr th {\n",
              "        vertical-align: top;\n",
              "    }\n",
              "\n",
              "    .dataframe thead th {\n",
              "        text-align: right;\n",
              "    }\n",
              "</style>\n",
              "<table border=\"1\" class=\"dataframe\">\n",
              "  <thead>\n",
              "    <tr style=\"text-align: right;\">\n",
              "      <th></th>\n",
              "      <th>id</th>\n",
              "      <th>tweet</th>\n",
              "      <th>time</th>\n",
              "      <th>cleaned_text</th>\n",
              "    </tr>\n",
              "  </thead>\n",
              "  <tbody>\n",
              "    <tr>\n",
              "      <th>0</th>\n",
              "      <td>1480483510896902145</td>\n",
              "      <td>If you get to know about the statistics of roa...</td>\n",
              "      <td>Mon Jan 10 10:15:49 +0000 2022</td>\n",
              "      <td>if you get to know about the statistics of roa...</td>\n",
              "    </tr>\n",
              "    <tr>\n",
              "      <th>1</th>\n",
              "      <td>1480500301941522433</td>\n",
              "      <td>That’s how a people’s leader acts.</td>\n",
              "      <td>Mon Jan 10 11:22:33 +0000 2022</td>\n",
              "      <td>that s how a people s leader acts</td>\n",
              "    </tr>\n",
              "    <tr>\n",
              "      <th>2</th>\n",
              "      <td>1480537770539978752</td>\n",
              "      <td>who has posed a direct/Indirect challenge to E...</td>\n",
              "      <td>Mon Jan 10 13:51:26 +0000 2022</td>\n",
              "      <td>who has posed a direct indirect challenge to e...</td>\n",
              "    </tr>\n",
              "    <tr>\n",
              "      <th>3</th>\n",
              "      <td>1480666410418331657</td>\n",
              "      <td>@Suhelseth No real life that we normally see i...</td>\n",
              "      <td>Mon Jan 10 22:22:36 +0000 2022</td>\n",
              "      <td>suhelseth no real life that we normally see i...</td>\n",
              "    </tr>\n",
              "    <tr>\n",
              "      <th>4</th>\n",
              "      <td>1480384703232294913</td>\n",
              "      <td>Namaskar,\\nrequest u all 2 help us Mysuru resi...</td>\n",
              "      <td>Mon Jan 10 03:43:12 +0000 2022</td>\n",
              "      <td>namaskar request u all 2 help us mysuru reside...</td>\n",
              "    </tr>\n",
              "  </tbody>\n",
              "</table>\n",
              "</div>\n",
              "      <button class=\"colab-df-convert\" onclick=\"convertToInteractive('df-291cf622-feb8-4c82-8c7b-ff3289a8d6ae')\"\n",
              "              title=\"Convert this dataframe to an interactive table.\"\n",
              "              style=\"display:none;\">\n",
              "        \n",
              "  <svg xmlns=\"http://www.w3.org/2000/svg\" height=\"24px\"viewBox=\"0 0 24 24\"\n",
              "       width=\"24px\">\n",
              "    <path d=\"M0 0h24v24H0V0z\" fill=\"none\"/>\n",
              "    <path d=\"M18.56 5.44l.94 2.06.94-2.06 2.06-.94-2.06-.94-.94-2.06-.94 2.06-2.06.94zm-11 1L8.5 8.5l.94-2.06 2.06-.94-2.06-.94L8.5 2.5l-.94 2.06-2.06.94zm10 10l.94 2.06.94-2.06 2.06-.94-2.06-.94-.94-2.06-.94 2.06-2.06.94z\"/><path d=\"M17.41 7.96l-1.37-1.37c-.4-.4-.92-.59-1.43-.59-.52 0-1.04.2-1.43.59L10.3 9.45l-7.72 7.72c-.78.78-.78 2.05 0 2.83L4 21.41c.39.39.9.59 1.41.59.51 0 1.02-.2 1.41-.59l7.78-7.78 2.81-2.81c.8-.78.8-2.07 0-2.86zM5.41 20L4 18.59l7.72-7.72 1.47 1.35L5.41 20z\"/>\n",
              "  </svg>\n",
              "      </button>\n",
              "      \n",
              "  <style>\n",
              "    .colab-df-container {\n",
              "      display:flex;\n",
              "      flex-wrap:wrap;\n",
              "      gap: 12px;\n",
              "    }\n",
              "\n",
              "    .colab-df-convert {\n",
              "      background-color: #E8F0FE;\n",
              "      border: none;\n",
              "      border-radius: 50%;\n",
              "      cursor: pointer;\n",
              "      display: none;\n",
              "      fill: #1967D2;\n",
              "      height: 32px;\n",
              "      padding: 0 0 0 0;\n",
              "      width: 32px;\n",
              "    }\n",
              "\n",
              "    .colab-df-convert:hover {\n",
              "      background-color: #E2EBFA;\n",
              "      box-shadow: 0px 1px 2px rgba(60, 64, 67, 0.3), 0px 1px 3px 1px rgba(60, 64, 67, 0.15);\n",
              "      fill: #174EA6;\n",
              "    }\n",
              "\n",
              "    [theme=dark] .colab-df-convert {\n",
              "      background-color: #3B4455;\n",
              "      fill: #D2E3FC;\n",
              "    }\n",
              "\n",
              "    [theme=dark] .colab-df-convert:hover {\n",
              "      background-color: #434B5C;\n",
              "      box-shadow: 0px 1px 3px 1px rgba(0, 0, 0, 0.15);\n",
              "      filter: drop-shadow(0px 1px 2px rgba(0, 0, 0, 0.3));\n",
              "      fill: #FFFFFF;\n",
              "    }\n",
              "  </style>\n",
              "\n",
              "      <script>\n",
              "        const buttonEl =\n",
              "          document.querySelector('#df-291cf622-feb8-4c82-8c7b-ff3289a8d6ae button.colab-df-convert');\n",
              "        buttonEl.style.display =\n",
              "          google.colab.kernel.accessAllowed ? 'block' : 'none';\n",
              "\n",
              "        async function convertToInteractive(key) {\n",
              "          const element = document.querySelector('#df-291cf622-feb8-4c82-8c7b-ff3289a8d6ae');\n",
              "          const dataTable =\n",
              "            await google.colab.kernel.invokeFunction('convertToInteractive',\n",
              "                                                     [key], {});\n",
              "          if (!dataTable) return;\n",
              "\n",
              "          const docLinkHtml = 'Like what you see? Visit the ' +\n",
              "            '<a target=\"_blank\" href=https://colab.research.google.com/notebooks/data_table.ipynb>data table notebook</a>'\n",
              "            + ' to learn more about interactive tables.';\n",
              "          element.innerHTML = '';\n",
              "          dataTable['output_type'] = 'display_data';\n",
              "          await google.colab.output.renderOutput(dataTable, element);\n",
              "          const docLink = document.createElement('div');\n",
              "          docLink.innerHTML = docLinkHtml;\n",
              "          element.appendChild(docLink);\n",
              "        }\n",
              "      </script>\n",
              "    </div>\n",
              "  </div>\n",
              "  "
            ],
            "text/plain": [
              "                    id  ...                                       cleaned_text\n",
              "0  1480483510896902145  ...  if you get to know about the statistics of roa...\n",
              "1  1480500301941522433  ...                 that s how a people s leader acts \n",
              "2  1480537770539978752  ...  who has posed a direct indirect challenge to e...\n",
              "3  1480666410418331657  ...   suhelseth no real life that we normally see i...\n",
              "4  1480384703232294913  ...  namaskar request u all 2 help us mysuru reside...\n",
              "\n",
              "[5 rows x 4 columns]"
            ]
          },
          "metadata": {},
          "execution_count": 103
        }
      ]
    },
    {
      "cell_type": "code",
      "execution_count": null,
      "metadata": {
        "id": "pUflE9M_Cx9A",
        "outputId": "53c9af0b-ea6a-49e4-fac3-a6562304d103",
        "colab": {
          "base_uri": "https://localhost:8080/"
        }
      },
      "outputs": [
        {
          "output_type": "stream",
          "name": "stdout",
          "text": [
            "get know statistic road accident minute will shock people love good irresponsible assuranc\n"
          ]
        }
      ],
      "source": [
        "def lemmatization(texts, allowed_postags=[\"NOUN\", \"ADJ\", \"VERB\", \"ADV\"]):\n",
        "    nlp = spacy.load(\"en_core_web_sm\")\n",
        "    texts_out = []\n",
        "    for text in texts:\n",
        "        doc = nlp(text)\n",
        "        new_text = []\n",
        "        for token in doc:\n",
        "            if token.pos_ in allowed_postags:\n",
        "                new_text.append(token.lemma_)\n",
        "        final = \" \".join(new_text)\n",
        "        texts_out.append(final)\n",
        "    return (texts_out)\n",
        "\n",
        "\n",
        "df['cleaned_text'] = lemmatization(df.cleaned_text)\n",
        "print (df['cleaned_text'][0][0:90])"
      ]
    },
    {
      "cell_type": "code",
      "execution_count": null,
      "metadata": {
        "id": "RZbwttgECx9A",
        "outputId": "7e88fcb2-b809-40e9-b9be-96d3b55dee00",
        "colab": {
          "base_uri": "https://localhost:8080/"
        }
      },
      "outputs": [
        {
          "output_type": "stream",
          "name": "stdout",
          "text": [
            "['get', 'know', 'statistic', 'road', 'accident', 'minute', 'will', 'shock', 'people', 'love', 'good', 'irresponsible', 'assurance', 'must', 'there', 'come', 'may']\n"
          ]
        }
      ],
      "source": [
        "def gen_words(texts):\n",
        "    final = []\n",
        "    for text in texts:\n",
        "        new = gensim.utils.simple_preprocess(text, deacc=True)\n",
        "        final.append(new)\n",
        "    return (final)\n",
        "\n",
        "df['cleaned_text1'] = gen_words(df['cleaned_text'])\n",
        "\n",
        "print (df['cleaned_text1'][0][0:20])"
      ]
    },
    {
      "cell_type": "code",
      "execution_count": null,
      "metadata": {
        "id": "plxvARn6Cx9B",
        "outputId": "26a0ae5c-37c1-4eb2-ec86-eebe69fcfb0d",
        "colab": {
          "base_uri": "https://localhost:8080/"
        }
      },
      "outputs": [
        {
          "output_type": "stream",
          "name": "stderr",
          "text": [
            "/usr/local/lib/python3.7/dist-packages/gensim/models/phrases.py:598: UserWarning: For a faster implementation, use the gensim.models.phrases.Phraser class\n",
            "  warnings.warn(\"For a faster implementation, use the gensim.models.phrases.Phraser class\")\n"
          ]
        },
        {
          "output_type": "stream",
          "name": "stdout",
          "text": [
            "['get', 'know', 'statistic', 'road', 'accident', 'minute', 'will', 'shock', 'people', 'love', 'good', 'irresponsible', 'assurance', 'must', 'there', 'come', 'may']\n"
          ]
        }
      ],
      "source": [
        "#BIGRAMS AND TRIGRAMS\n",
        "bigram_phrases = gensim.models.Phrases(df['cleaned_text1'], min_count=5, threshold=100)\n",
        "trigram_phrases = gensim.models.Phrases(bigram_phrases[df['cleaned_text1']], threshold=100)\n",
        "\n",
        "bigram = gensim.models.phrases.Phraser(bigram_phrases)\n",
        "trigram = gensim.models.phrases.Phraser(trigram_phrases)\n",
        "\n",
        "def make_bigrams(texts):\n",
        "    return([bigram[doc] for doc in texts])\n",
        "\n",
        "def make_trigrams(texts):\n",
        "    return ([trigram[bigram[doc]] for doc in texts])\n",
        "\n",
        "data_bigrams = make_bigrams(df['cleaned_text1'])\n",
        "df['cleaned_text1'] = make_trigrams(data_bigrams)\n",
        "\n",
        "print (df['cleaned_text1'][0][0:20])"
      ]
    },
    {
      "cell_type": "markdown",
      "source": [
        "## **Using Vader for Sentiment Analysis**"
      ],
      "metadata": {
        "id": "uVh0-17lMxlz"
      }
    },
    {
      "cell_type": "code",
      "source": [
        "nltk.download('vader_lexicon')\n",
        "from nltk.sentiment.vader import SentimentIntensityAnalyzer\n",
        "sentimentAnalyser = SentimentIntensityAnalyzer()"
      ],
      "metadata": {
        "colab": {
          "base_uri": "https://localhost:8080/"
        },
        "id": "zbj0gNiTGXG7",
        "outputId": "d0edd5d0-af45-41d7-d2a6-782a88d90475"
      },
      "execution_count": null,
      "outputs": [
        {
          "output_type": "stream",
          "name": "stdout",
          "text": [
            "[nltk_data] Downloading package vader_lexicon to /root/nltk_data...\n",
            "[nltk_data]   Package vader_lexicon is already up-to-date!\n"
          ]
        }
      ]
    },
    {
      "cell_type": "code",
      "source": [
        "df['labelFromVADER'] = df['cleaned_text'].apply(lambda review: \"pos\" if sentimentAnalyser.polarity_scores(review)['compound'] > 0.5 else \"neg\")"
      ],
      "metadata": {
        "id": "bKPx5kCpFo8Z"
      },
      "execution_count": null,
      "outputs": []
    },
    {
      "cell_type": "code",
      "execution_count": null,
      "metadata": {
        "id": "pvu2iqmiCx9B"
      },
      "outputs": [],
      "source": [
        "#TF-IDF REMOVAL\n",
        "from gensim.models import TfidfModel\n",
        "\n",
        "id2word = corpora.Dictionary(df['cleaned_text1'])\n",
        "\n",
        "texts = df['cleaned_text1'].copy()\n",
        "\n",
        "corpus = [id2word.doc2bow(text) for text in texts]\n",
        "# print (corpus[0][0:20])\n",
        "\n",
        "tfidf = TfidfModel(corpus, id2word=id2word)\n",
        "\n",
        "low_value = 0.03\n",
        "words  = []\n",
        "words_missing_in_tfidf = []\n",
        "for i in range(0, len(corpus)):\n",
        "    bow = corpus[i]\n",
        "    low_value_words = [] #reinitialize to be safe. You can skip this.\n",
        "    tfidf_ids = [id for id, value in tfidf[bow]]\n",
        "    bow_ids = [id for id, value in bow]\n",
        "    low_value_words = [id for id, value in tfidf[bow] if value < low_value]\n",
        "    drops = low_value_words+words_missing_in_tfidf\n",
        "    for item in drops:\n",
        "        words.append(id2word[item])\n",
        "    words_missing_in_tfidf = [id for id in bow_ids if id not in tfidf_ids] # The words with tf-idf socre 0 will be missing\n",
        "\n",
        "    new_bow = [b for b in bow if b[0] not in low_value_words and b[0] not in words_missing_in_tfidf]\n",
        "    corpus[i] = new_bow\n"
      ]
    },
    {
      "cell_type": "code",
      "execution_count": null,
      "metadata": {
        "id": "nbbK4y7FCx9C"
      },
      "outputs": [],
      "source": [
        "# id2word = corpora.Dictionary(all_texts)\n",
        "\n",
        "# corpus = []\n",
        "# for text in data_words:\n",
        "#     new = id2word.doc2bow(text)\n",
        "#     corpus.append(new)\n",
        "\n",
        "# print (corpus[0][0:20])\n",
        "\n",
        "# word = id2word[[0][:1][0]]\n",
        "# print (word)"
      ]
    },
    {
      "cell_type": "code",
      "execution_count": null,
      "metadata": {
        "id": "rF2fip-kCx9C"
      },
      "outputs": [],
      "source": [
        "lda_model = gensim.models.ldamodel.LdaModel(corpus=corpus[:-1],\n",
        "                                           id2word=id2word,\n",
        "                                           num_topics=10,\n",
        "                                           random_state=100,\n",
        "                                           update_every=1,\n",
        "                                           chunksize=100,\n",
        "                                           passes=10,\n",
        "                                           alpha=\"auto\")\n"
      ]
    },
    {
      "cell_type": "code",
      "execution_count": null,
      "metadata": {
        "id": "GHVOLumeCx9C",
        "outputId": "a6647441-1596-48e1-e15f-1bd586cbdac6",
        "colab": {
          "base_uri": "https://localhost:8080/"
        }
      },
      "outputs": [
        {
          "output_type": "stream",
          "name": "stdout",
          "text": [
            "[(0, 0.10521798), (1, 0.07117855), (2, 0.093112536), (3, 0.051537167), (4, 0.06528803), (5, 0.04355101), (6, 0.1833245), (7, 0.23362823), (8, 0.08564113), (9, 0.06752086)]\n",
            "[(7, 0.23362823), (6, 0.1833245), (0, 0.10521798), (2, 0.093112536), (8, 0.08564113), (1, 0.07117855), (9, 0.06752086), (4, 0.06528803), (3, 0.051537167), (5, 0.04355101)]\n"
          ]
        }
      ],
      "source": [
        "test_doc = corpus[-1]\n",
        "\n",
        "vector = lda_model[test_doc]\n",
        "print (vector)\n",
        "\n",
        "def Sort(sub_li):\n",
        "    sub_li.sort(key = lambda x: x[1])\n",
        "    sub_li.reverse()\n",
        "    return (sub_li)\n",
        "new_vector = Sort(vector)\n",
        "print (new_vector)"
      ]
    },
    {
      "cell_type": "code",
      "execution_count": null,
      "metadata": {
        "id": "sm9Rdi3wCx9D"
      },
      "outputs": [],
      "source": [
        "lda_model.save(\"test_model.model\")"
      ]
    },
    {
      "cell_type": "code",
      "execution_count": null,
      "metadata": {
        "id": "kC6H6AiwCx9E"
      },
      "outputs": [],
      "source": [
        "new_model = gensim.models.ldamodel.LdaModel.load(\"test_model.model\")"
      ]
    },
    {
      "cell_type": "code",
      "execution_count": null,
      "metadata": {
        "id": "CmNwqabDCx9E",
        "outputId": "90f4b9c8-2c73-4a7e-a319-7261b335b9bb",
        "colab": {
          "base_uri": "https://localhost:8080/"
        }
      },
      "outputs": [
        {
          "output_type": "stream",
          "name": "stdout",
          "text": [
            "[(0, 0.10521798), (1, 0.07117855), (2, 0.093112536), (3, 0.051537167), (4, 0.06528803), (5, 0.04355101), (6, 0.1833245), (7, 0.23362823), (8, 0.08564113), (9, 0.06752085)]\n",
            "[(7, 0.23362823), (6, 0.1833245), (0, 0.10521798), (2, 0.093112536), (8, 0.08564113), (1, 0.07117855), (9, 0.06752085), (4, 0.06528803), (3, 0.051537167), (5, 0.04355101)]\n"
          ]
        }
      ],
      "source": [
        "test_doc = corpus[-1]\n",
        "\n",
        "vector = new_model[test_doc]\n",
        "print (vector)\n",
        "\n",
        "def Sort(sub_li):\n",
        "    sub_li.sort(key = lambda x: x[1])\n",
        "    sub_li.reverse()\n",
        "    return (sub_li)\n",
        "new_vector = Sort(vector)\n",
        "print (new_vector)"
      ]
    },
    {
      "cell_type": "markdown",
      "metadata": {
        "id": "_XFbJLzGCx9E"
      },
      "source": [
        "## Vizualizing the Data"
      ]
    },
    {
      "cell_type": "code",
      "execution_count": null,
      "metadata": {
        "id": "zPyrzD_HCx9F",
        "colab": {
          "base_uri": "https://localhost:8080/",
          "height": 916
        },
        "outputId": "379b877c-b207-4889-8811-aefdd926ab7f"
      },
      "outputs": [
        {
          "output_type": "stream",
          "name": "stderr",
          "text": [
            "/usr/local/lib/python3.7/dist-packages/pyLDAvis/_prepare.py:247: FutureWarning: In a future version of pandas all arguments of DataFrame.drop except for the argument 'labels' will be keyword-only\n",
            "  by='saliency', ascending=False).head(R).drop('saliency', 1)\n"
          ]
        },
        {
          "output_type": "execute_result",
          "data": {
            "text/html": [
              "\n",
              "<link rel=\"stylesheet\" type=\"text/css\" href=\"https://cdn.jsdelivr.net/gh/bmabey/pyLDAvis@3.3.1/pyLDAvis/js/ldavis.v1.0.0.css\">\n",
              "\n",
              "\n",
              "<div id=\"ldavis_el1441401337067271205821871832\"></div>\n",
              "<script type=\"text/javascript\">\n",
              "\n",
              "var ldavis_el1441401337067271205821871832_data = {\"mdsDat\": {\"x\": [0.41656482780896004, 0.058194977626892234, -0.26913373065587526, -0.23771080154922572, 0.03032993306915699, -0.06719016065386449, -0.0688698825809075, -0.2573304217305284, 0.12941065541711103, 0.26573460324828097], \"y\": [0.18266357479994855, 0.44117566290113425, -0.19659804292656388, 0.19062141618120432, -0.3329870128232409, 0.09499063804749443, -0.17471451913169123, -0.012003829886145331, -0.007695935870176276, -0.18545195129196398], \"topics\": [1, 2, 3, 4, 5, 6, 7, 8, 9, 10], \"cluster\": [1, 1, 1, 1, 1, 1, 1, 1, 1, 1], \"Freq\": [21.214564441270333, 19.72935602349468, 9.503621362731476, 8.963562751854068, 8.415438836180753, 8.008293199538269, 6.749067120809256, 6.285413700521726, 6.1871301164846395, 4.943552447114797]}, \"tinfo\": {\"Term\": [\"kill\", \"http\", \"co\", \"road\", \"bit\", \"injure\", \"die\", \"time\", \"people\", \"when\", \"lead\", \"pilgrim\", \"bit_ly\", \"northern\", \"year\", \"second\", \"death\", \"person\", \"police\", \"com\", \"vehicle\", \"reduce\", \"traffic\", \"more\", \"safety\", \"dead\", \"news\", \"least\", \"hour\", \"family\", \"http\", \"bit\", \"die\", \"people\", \"year\", \"death\", \"more\", \"world\", \"high\", \"include\", \"number\", \"at_least\", \"say\", \"most\", \"woman\", \"last\", \"day\", \"cause\", \"account\", \"major\", \"lakh\", \"only\", \"late\", \"know\", \"annually\", \"case\", \"nearly\", \"week\", \"injury\", \"occur\", \"human_error\", \"bit_ly\", \"kill\", \"co\", \"injure\", \"person\", \"news\", \"least\", \"other\", \"bus\", \"report\", \"truck\", \"lose\", \"claim\", \"separate\", \"crash\", \"state\", \"critically\", \"head\", \"tourist\", \"cop\", \"district\", \"fall\", \"collide\", \"girl\", \"fall_gorge\", \"update\", \"show\", \"involve\", \"collision\", \"crush\", \"all\", \"bit_ly\", \"use_twitter_curb\", \"when\", \"drive\", \"can\", \"top\", \"man\", \"car\", \"now\", \"take\", \"speed\", \"tunnel\", \"percent\", \"hit\", \"drunk\", \"van\", \"need\", \"mishap\", \"place\", \"global\", \"wedding\", \"should\", \"carry\", \"why\", \"travel\", \"think\", \"suffer\", \"safe\", \"important\", \"run\", \"agra\", \"free\", \"bit_ly\", \"tinyurl_com\", \"use_twitter_curb\", \"cost_bn\", \"second\", \"police\", \"today\", \"amp\", \"meet\", \"youth\", \"increase\", \"go\", \"rise\", \"toll\", \"rule\", \"see\", \"official\", \"control\", \"use\", \"rail\", \"month\", \"hospital\", \"photo\", \"journalist\", \"private\", \"score\", \"yet\", \"constable\", \"first\", \"massive\", \"worst\", \"young\", \"fear\", \"blame\", \"bit_ly\", \"tinyurl_com\", \"use_twitter_curb\", \"dlvr\", \"time\", \"northern\", \"reduce\", \"way\", \"fatal\", \"make\", \"will\", \"lucknow\", \"check\", \"cost\", \"new\", \"southern\", \"would\", \"due\", \"leave\", \"share_friend\", \"big\", \"back\", \"part\", \"stop\", \"engineering_student\", \"loss\", \"government\", \"really\", \"video\", \"work\", \"give\", \"economic\", \"must\", \"concern\", \"bit_ly\", \"tinyurl_com\", \"use_twitter_curb\", \"use_twitter\", \"traffic\", \"safety\", \"life\", \"old\", \"country\", \"child\", \"list\", \"rate\", \"law\", \"be\", \"get\", \"statistic\", \"national\", \"policeman\", \"good\", \"close\", \"ppl\", \"low\", \"prevent\", \"great\", \"wildlife\", \"violence\", \"save\", \"everyday\", \"poor\", \"let\", \"race\", \"management\", \"kid\", \"rank\", \"bit_ly\", \"tinyurl_com\", \"pti\", \"use_twitter_curb\", \"uurl\", \"lead\", \"vehicle\", \"happen\", \"bad\", \"mountain\", \"may\", \"sad\", \"killer\", \"passenger\", \"break\", \"minor\", \"school\", \"mini\", \"daily\", \"care\", \"too\", \"live\", \"well\", \"capital\", \"story\", \"study\", \"employee\", \"coach\", \"fast\", \"scary\", \"rage\", \"fb\", \"india\", \"ever\", \"everywhere\", \"bit_ly\", \"use_twitter_curb\", \"tinyurl_com\", \"uurl\", \"com\", \"victim\", \"help\", \"so\", \"seriously\", \"read\", \"very\", \"become\", \"record\", \"urgent\", \"announce\", \"city\", \"awareness\", \"boy\", \"stat\", \"curb\", \"village\", \"look\", \"th\", \"worldwide\", \"insurance\", \"info\", \"ride\", \"always\", \"thank\", \"try\", \"change\", \"ago\", \"resident\", \"touch\", \"westbound\", \"payout\", \"bit_ly\", \"tinyurl_com\", \"use_twitter_curb\", \"pti\", \"pilgrim\", \"hour\", \"fatality\", \"student\", \"many\", \"driver\", \"indian\", \"hurt\", \"just\", \"minute\", \"former\", \"how\", \"pedestrian\", \"train\", \"home\", \"leader\", \"dozen\", \"turn\", \"labourer\", \"where\", \"serious\", \"deadly\", \"open\", \"few\", \"crore\", \"veer\", \"twitter\", \"worry\", \"result\", \"soldier\", \"bit_ly\", \"tinyurl_com\", \"use_twitter_curb\", \"road\", \"dead\", \"family\", \"son\", \"highway\", \"transport\", \"member\", \"come\", \"western\", \"want\", \"central\", \"local\", \"still\", \"friend\", \"hot\", \"tamil_nadu\", \"keep\", \"aim\", \"end\", \"launch\", \"pe\", \"singer\", \"shocking\", \"motorcycle\", \"business\", \"severely\", \"player\", \"pray\", \"relief\", \"medium\", \"use_twitter_curb\", \"lesson_fix_hospital\", \"tinyurl_com\", \"uurl\", \"bit_ly\"], \"Freq\": [26647.0, 18835.0, 10055.0, 4902.0, 9306.0, 7361.0, 7496.0, 4284.0, 6780.0, 2919.0, 2458.0, 2201.0, 10565.0, 2162.0, 3241.0, 2016.0, 3125.0, 2559.0, 1684.0, 1410.0, 1405.0, 1514.0, 1483.0, 2154.0, 1284.0, 1042.0, 1934.0, 1878.0, 1059.0, 976.0, 18834.585439847855, 9305.021674112531, 7495.571569318659, 6779.23893402796, 3239.8693216837837, 3123.857141391444, 2153.3661445132843, 1844.151708947072, 1491.213995360277, 1328.390325151146, 1182.9912559256215, 1057.2887344194082, 1021.911299426214, 966.9064891978285, 777.4612624061047, 631.3534550423162, 578.7556905598824, 572.9162121310496, 447.64730584082406, 378.5608955725354, 320.04414534537915, 309.751958747828, 309.5717521144412, 285.1420566488027, 254.12715188790943, 230.22332027201617, 223.1167989301783, 207.9830234724408, 193.31692713468325, 184.6715605352808, 185.1732289395289, 520.3036729432698, 26646.714867039427, 10054.481199188076, 7360.3682903977615, 2558.5284642323145, 1933.0539688002257, 1877.7229897781149, 1579.4338529996598, 1456.921194880932, 980.624994137984, 933.7244103676812, 875.9105927482426, 743.7468693870142, 665.2146248732485, 520.3311246536343, 388.3777048971127, 363.69119838921, 331.151148209808, 328.70682421423305, 275.96444280399345, 268.6417760755754, 267.52110525808286, 249.9297343966207, 241.47598749888496, 222.19455427509612, 215.56896714056705, 204.45018329072437, 186.0101379749601, 179.56371313426104, 150.12880730213215, 141.81263733768512, 468.67322421437524, 162.6039296947881, 2918.2424796821383, 1084.7736742612644, 996.091620115704, 873.2406717397245, 824.1368758451304, 801.1425158541889, 702.2848189404093, 624.9560044022853, 490.88024627739867, 442.4858565404596, 351.88718230936, 343.2399618268097, 332.63998573631784, 321.32589015916193, 315.14404159911544, 305.89374899846814, 301.15989528014927, 294.3538816189938, 282.4057597204618, 276.88496391089626, 276.27462123209386, 267.8733462685779, 247.63021659035735, 237.38026367754935, 233.44008776533752, 220.59546394699822, 218.80480005795542, 205.4012957594618, 195.0391923585314, 190.25080107795574, 2818.694029359548, 365.55088911144367, 243.97825573286715, 227.38434582718122, 2015.392385609388, 1683.118817536566, 1122.7274750206984, 616.3053473577501, 595.2483705295812, 515.9081652600448, 505.8837508739668, 447.98327566627444, 445.22540304607185, 400.78519882628694, 392.3947687143805, 379.87851727529505, 378.76525395725, 366.9053581045441, 365.65210925457836, 364.5673790235577, 311.4463377696768, 258.59007095207295, 240.61175115728844, 220.15373269458428, 203.91403951190944, 184.35263783963927, 158.90400905087031, 155.60790151891453, 154.92031717817295, 144.57726230147398, 145.78626122034723, 143.10539640683749, 134.12264463092336, 127.8194098348501, 1284.5127898803905, 442.58582450599687, 324.6821274541439, 150.63193607563736, 4283.154704129924, 2160.8161339468543, 1513.584713719247, 732.7106679573717, 632.0324889058185, 571.004637973204, 521.4147027398195, 500.8781247855558, 457.6026760757219, 414.4506310659545, 405.82323537574644, 322.06486097550106, 316.5688822749868, 308.37166791676873, 276.8311740354925, 278.972638195965, 267.94510122010314, 254.45896234270086, 251.65320798388535, 230.76161868955268, 223.10771805518215, 194.75124091774168, 182.85241876283044, 182.20446793662384, 177.59288735330466, 158.41044966500192, 134.896065539345, 118.78708743015066, 113.20957467066945, 113.11100563223783, 722.3668981850444, 286.11181900772675, 242.6891383467941, 148.37758676810003, 1481.7733727254783, 1282.9507722013263, 1146.4062020837912, 857.7305124708402, 727.3221085238509, 630.1271405544251, 576.9655872140042, 522.5493084517107, 464.24406818630496, 434.4134952102644, 397.615652580103, 355.84597736670526, 345.3104132847823, 306.9566424010291, 288.9111196389032, 283.27496763331027, 251.89246629165166, 245.34893124872954, 218.71702924983967, 196.06726924291672, 187.3797801619131, 181.1307157448948, 171.23402109388934, 166.8849598008871, 146.10257002912337, 137.23987458757625, 130.47359930414, 113.39044395487079, 107.56564934532935, 106.11645753895446, 1772.969048098388, 384.9815275549564, 231.52603670094032, 244.36495880716916, 172.99683087722582, 2457.277860555734, 1404.3557301529513, 473.62027476327967, 458.2796283211108, 449.6762656277677, 393.75875236649404, 370.66232213688284, 280.98691186334054, 264.31619040104187, 255.61177058798052, 231.09000054579667, 228.36444943322707, 218.66227750793715, 212.72613909062437, 200.81490648116736, 193.56379107711467, 180.14834567405052, 169.61493917617577, 166.25068902531183, 155.32206301660108, 148.63355113821487, 146.08092710776586, 148.58013828424117, 141.16246973197542, 128.56878702205807, 126.15407498056915, 125.3376417032966, 116.36192020061821, 110.44902230954555, 103.82668302247119, 1018.9132879330226, 306.38489010115507, 312.19511661736715, 137.86540108188728, 1408.8486761145996, 933.0272390538154, 749.4142157139778, 573.2796890002445, 392.61647436485015, 345.7892947401692, 335.46633498302344, 326.77246216548696, 283.4295127658861, 268.1969186914274, 255.1301102218235, 232.87082269818265, 227.4438343906978, 204.01524416460018, 170.34068598815023, 157.13440793831478, 157.04325582936735, 150.51000635196598, 137.36426055396123, 126.54504908362402, 109.18195409164491, 100.8489423699838, 98.83647713271333, 98.70791794922333, 89.9129553868015, 88.90922099477578, 75.40927972322102, 75.35624215121886, 70.54571889488365, 70.60140945089591, 219.42087912111845, 102.66631379561068, 1443.1392903404976, 288.11881676115934, 229.62169107279865, 165.87270718392062, 2199.983926455586, 1057.922876044771, 969.5262158373463, 815.7375980656237, 740.2002245292197, 564.0230439914202, 556.5925868431879, 526.7094546062668, 470.09239786512387, 385.1279884548555, 340.03881044682515, 307.8163836470375, 270.38869347863414, 239.26736208783316, 222.48579842540838, 215.5765313702629, 201.49654259471058, 193.6756444485213, 166.56708940200352, 161.90814093178878, 152.65150542657747, 141.48486241750962, 124.90274117890604, 122.51454628036089, 120.803458900345, 117.7844997252944, 111.34546587138381, 106.10242280417528, 103.37829108689301, 103.23407100476489, 452.1580963831359, 175.18583341222484, 166.41568769514288, 4901.022967800558, 1040.7586866789813, 974.8195848812724, 703.0116011524342, 695.217094153262, 617.739979750621, 477.95754859393554, 352.8236992833988, 211.02053184110267, 122.73677671344822, 119.36936398210324, 116.60446667657101, 110.89405915291026, 89.19766133413282, 82.80266531760876, 68.77678678516371, 68.58903595010467, 67.1325737359189, 66.40598800254838, 64.01454488754837, 53.607679985534816, 49.15715055327588, 48.166639919490024, 44.767419527572535, 42.883586160427186, 38.49364647438388, 37.69739861709994, 36.83047141674528, 37.449297125798154, 35.93589237425562, 132.23808182258176, 52.02343504857617, 73.32237404354525, 53.23407799392846, 63.367041423022364], \"Total\": [26647.0, 18835.0, 10055.0, 4902.0, 9306.0, 7361.0, 7496.0, 4284.0, 6780.0, 2919.0, 2458.0, 2201.0, 10565.0, 2162.0, 3241.0, 2016.0, 3125.0, 2559.0, 1684.0, 1410.0, 1405.0, 1514.0, 1483.0, 2154.0, 1284.0, 1042.0, 1934.0, 1878.0, 1059.0, 976.0, 18835.861391687802, 9306.299419134051, 7496.847334976101, 6780.514751910896, 3241.145084751286, 3125.1329881959973, 2154.6419614649194, 1845.4275304788289, 1492.489784743501, 1329.6663177813564, 1184.2670386962477, 1058.5646147235893, 1023.1871603750245, 968.1823942242977, 778.7372167733421, 632.6294335027039, 580.0313957662661, 574.1918737351783, 448.92326612974637, 379.83667267239423, 321.31991936861476, 311.02773902739955, 310.84750902774573, 286.4178462212038, 255.40284960701027, 231.49910682099278, 224.39274408594193, 209.25916465503136, 194.59278016667176, 185.94745772935673, 186.45813574694748, 10565.097378760694, 26647.980843313904, 10055.746889336253, 7361.634273292614, 2559.794645666101, 1934.3199058088069, 1878.9889381171563, 1580.6998711550439, 1458.1872814794299, 981.8910406607453, 934.9904387370544, 877.1766465770661, 745.0127778883565, 666.4806362371831, 521.5971600032595, 389.64376840842357, 364.9572920355238, 332.4174649813372, 329.97297805980435, 277.2306863157529, 269.90781394284033, 268.7875493333609, 251.19590835487023, 242.74224993630833, 223.4634500899851, 216.83578047757032, 205.71616302186325, 187.27627754270804, 180.83069090979487, 151.39618547597124, 143.07902556117958, 10565.097378760694, 2199.362502503004, 2919.478040577366, 1086.0091275255293, 997.327133022019, 874.476265656968, 825.372399816506, 802.3779829915674, 703.5203236107914, 626.1913875784755, 492.1155979377674, 443.7216779696724, 353.12290795482556, 344.475609723368, 333.87649835992084, 322.56264389217444, 316.379402294034, 307.12931000504034, 302.39532002206704, 295.58974332653673, 283.64311871196753, 278.12037807601524, 277.5101650506079, 269.10879052790676, 248.8657118080404, 238.61574087204133, 234.67557638057858, 221.8308465660163, 220.0402716217753, 206.63694967736095, 196.27510285945138, 191.48651313412012, 10565.097378760694, 2610.0940468197036, 2199.362502503004, 885.7510993041651, 2016.6297439576933, 1684.3542892662745, 1123.9628851446773, 617.5407078103149, 596.4838542231057, 517.1436192559548, 507.11913639610566, 449.21876275660907, 446.46088362147884, 402.0206174287456, 393.6302288663224, 381.1139547650165, 380.0008363887244, 368.14104266249586, 366.8877587380533, 365.80303547359773, 312.6830309982426, 259.8254425388483, 241.84736716193603, 221.38935629006463, 205.14985043444568, 185.59914897451355, 160.14032307749687, 156.84339498869193, 156.1557112144188, 145.8125848709015, 147.0346255932053, 144.3409568140927, 135.35818492519388, 129.05479239099319, 10565.097378760694, 2610.0940468197036, 2199.362502503004, 863.9677213323922, 4284.392495678615, 2162.0543200908733, 1514.8230810350858, 733.9487231701977, 633.2704401487896, 572.2426384228064, 522.6525065057612, 502.11645046528696, 458.84102904505914, 415.6884953535864, 407.0612001260804, 323.3028495645024, 317.8067437642999, 309.60947622493524, 278.06918362644717, 280.2510282407299, 269.18300371771625, 255.697156436241, 252.89134455923096, 231.99968661981782, 224.3491444864901, 195.98908580763225, 184.09028319193288, 183.44247536842775, 178.83071187426364, 159.64824774062052, 136.13382198270514, 120.02490969832468, 114.44733581745282, 114.34885493134429, 10565.097378760694, 2610.0940468197036, 2199.362502503004, 612.6436806499001, 1483.0088503573177, 1284.1863353357007, 1147.6416846775876, 858.9661622807663, 728.5577363427342, 631.3626578148604, 578.2014526898707, 523.7848626947905, 465.4797664128447, 435.649330270795, 398.8511972256961, 357.0816213477511, 346.54610451873475, 308.1924992369609, 290.14663570563675, 284.5106184961425, 253.12808817503708, 246.58475539344514, 219.95255686570246, 197.3029529141635, 188.62201668277845, 182.3664720539256, 172.46944378775103, 168.1204301709382, 147.33805854569565, 138.47546005002837, 131.7113887056094, 114.62675831450997, 108.80106867729295, 107.35205641417127, 10565.097378760694, 2610.0940468197036, 968.9896320135475, 2199.362502503004, 963.080606129396, 2458.5226078715323, 1405.5999067802418, 474.8643558051026, 459.5237375267364, 450.9229908236786, 395.0033915462867, 371.90641260727836, 282.23109798694094, 265.5604390068806, 256.8559006453374, 232.33427049277515, 229.60856353047853, 219.90684877000754, 213.97031760751216, 202.05899734384792, 194.80784846012344, 181.39235329776847, 170.8591850456062, 167.49485801032242, 156.56637541496733, 149.8778552795017, 147.33067063418417, 149.8677682755132, 142.40696932919624, 129.8132683900446, 127.39820595592194, 126.58178745440104, 117.60592582651925, 111.69343677759682, 105.07571961282783, 10565.097378760694, 2199.362502503004, 2610.0940468197036, 963.080606129396, 1410.0905314718168, 934.268174854455, 750.6552755267674, 574.5207501344731, 393.8576204008983, 347.0304247479588, 336.7074507041948, 328.0136156619805, 284.6705546311808, 269.4383417449188, 256.37166714183314, 234.11195634905923, 228.68527528965606, 205.25646120830913, 171.58182936418953, 158.37557384449636, 158.28449741684798, 151.75115290367256, 138.60539804322468, 127.7860317010419, 110.42317072689842, 102.09007317729164, 100.07803383397467, 99.94894306284529, 91.15426343432854, 90.15077457235058, 76.65018107122314, 76.59776911863881, 71.78712665812607, 71.8534918455526, 228.56206455700934, 113.71071627807508, 10565.097378760694, 2610.0940468197036, 2199.362502503004, 968.9896320135475, 2201.2410128413776, 1059.1799998592292, 970.7831868465499, 816.994644263605, 741.4571723229752, 565.2800452711397, 557.8495927504008, 527.9664678393726, 471.3494913809661, 386.3848102627707, 341.2958207011429, 309.0732460068553, 271.64592488946084, 240.52445767523662, 223.7428017898665, 216.83339730605638, 202.753956489193, 194.9331218413534, 167.82424182543775, 163.1650523953266, 153.90865755208353, 142.7418618231878, 126.15984199234225, 123.7718558018394, 122.06163305073164, 119.04843513523258, 112.61504052038033, 107.35977219832351, 104.63519598763203, 104.49111189328663, 10565.097378760694, 2610.0940468197036, 2199.362502503004, 4902.289495946618, 1042.0253148433437, 976.0862585388057, 704.2786459248357, 696.4841008295816, 619.0070544168943, 479.2243736950735, 354.0905803088108, 212.2872418275834, 124.0037120797645, 120.6368447227954, 117.87148674823582, 112.1605721195352, 90.46444651136407, 84.06939904430628, 70.04363262859579, 69.85612098128122, 68.4010672094415, 67.67328980572756, 65.28181282192898, 54.87485972735128, 50.429381699487905, 49.43308517675675, 46.034478911276096, 44.1507125098172, 39.76462237192348, 38.96736948738774, 38.09733570189294, 38.7381142509886, 37.20256889250903, 2199.362502503004, 235.18807922292888, 2610.0940468197036, 963.080606129396, 10565.097378760694], \"Category\": [\"Default\", \"Default\", \"Default\", \"Default\", \"Default\", \"Default\", \"Default\", \"Default\", \"Default\", \"Default\", \"Default\", \"Default\", \"Default\", \"Default\", \"Default\", \"Default\", \"Default\", \"Default\", \"Default\", \"Default\", \"Default\", \"Default\", \"Default\", \"Default\", \"Default\", \"Default\", \"Default\", \"Default\", \"Default\", \"Default\", \"Topic1\", \"Topic1\", \"Topic1\", \"Topic1\", \"Topic1\", \"Topic1\", \"Topic1\", \"Topic1\", \"Topic1\", \"Topic1\", \"Topic1\", \"Topic1\", \"Topic1\", \"Topic1\", \"Topic1\", \"Topic1\", \"Topic1\", \"Topic1\", \"Topic1\", \"Topic1\", \"Topic1\", \"Topic1\", \"Topic1\", \"Topic1\", \"Topic1\", \"Topic1\", \"Topic1\", \"Topic1\", \"Topic1\", \"Topic1\", \"Topic1\", \"Topic1\", \"Topic2\", \"Topic2\", \"Topic2\", \"Topic2\", \"Topic2\", \"Topic2\", \"Topic2\", \"Topic2\", \"Topic2\", \"Topic2\", \"Topic2\", \"Topic2\", \"Topic2\", \"Topic2\", \"Topic2\", \"Topic2\", \"Topic2\", \"Topic2\", \"Topic2\", \"Topic2\", \"Topic2\", \"Topic2\", \"Topic2\", \"Topic2\", \"Topic2\", \"Topic2\", \"Topic2\", \"Topic2\", \"Topic2\", \"Topic2\", \"Topic2\", \"Topic2\", \"Topic3\", \"Topic3\", \"Topic3\", \"Topic3\", \"Topic3\", \"Topic3\", \"Topic3\", \"Topic3\", \"Topic3\", \"Topic3\", \"Topic3\", \"Topic3\", \"Topic3\", \"Topic3\", \"Topic3\", \"Topic3\", \"Topic3\", \"Topic3\", \"Topic3\", \"Topic3\", \"Topic3\", \"Topic3\", \"Topic3\", \"Topic3\", \"Topic3\", \"Topic3\", \"Topic3\", \"Topic3\", \"Topic3\", \"Topic3\", \"Topic3\", \"Topic3\", \"Topic3\", \"Topic3\", \"Topic4\", \"Topic4\", \"Topic4\", \"Topic4\", \"Topic4\", \"Topic4\", \"Topic4\", \"Topic4\", \"Topic4\", \"Topic4\", \"Topic4\", \"Topic4\", \"Topic4\", \"Topic4\", \"Topic4\", \"Topic4\", \"Topic4\", \"Topic4\", \"Topic4\", \"Topic4\", \"Topic4\", \"Topic4\", \"Topic4\", \"Topic4\", \"Topic4\", \"Topic4\", \"Topic4\", \"Topic4\", \"Topic4\", \"Topic4\", \"Topic4\", \"Topic4\", \"Topic4\", \"Topic4\", \"Topic5\", \"Topic5\", \"Topic5\", \"Topic5\", \"Topic5\", \"Topic5\", \"Topic5\", \"Topic5\", \"Topic5\", \"Topic5\", \"Topic5\", \"Topic5\", \"Topic5\", \"Topic5\", \"Topic5\", \"Topic5\", \"Topic5\", \"Topic5\", \"Topic5\", \"Topic5\", \"Topic5\", \"Topic5\", \"Topic5\", \"Topic5\", \"Topic5\", \"Topic5\", \"Topic5\", \"Topic5\", \"Topic5\", \"Topic5\", \"Topic5\", \"Topic5\", \"Topic5\", \"Topic5\", \"Topic6\", \"Topic6\", \"Topic6\", \"Topic6\", \"Topic6\", \"Topic6\", \"Topic6\", \"Topic6\", \"Topic6\", \"Topic6\", \"Topic6\", \"Topic6\", \"Topic6\", \"Topic6\", \"Topic6\", \"Topic6\", \"Topic6\", \"Topic6\", \"Topic6\", \"Topic6\", \"Topic6\", \"Topic6\", \"Topic6\", \"Topic6\", \"Topic6\", \"Topic6\", \"Topic6\", \"Topic6\", \"Topic6\", \"Topic6\", \"Topic6\", \"Topic6\", \"Topic6\", \"Topic6\", \"Topic6\", \"Topic7\", \"Topic7\", \"Topic7\", \"Topic7\", \"Topic7\", \"Topic7\", \"Topic7\", \"Topic7\", \"Topic7\", \"Topic7\", \"Topic7\", \"Topic7\", \"Topic7\", \"Topic7\", \"Topic7\", \"Topic7\", \"Topic7\", \"Topic7\", \"Topic7\", \"Topic7\", \"Topic7\", \"Topic7\", \"Topic7\", \"Topic7\", \"Topic7\", \"Topic7\", \"Topic7\", \"Topic7\", \"Topic7\", \"Topic7\", \"Topic7\", \"Topic7\", \"Topic7\", \"Topic7\", \"Topic8\", \"Topic8\", \"Topic8\", \"Topic8\", \"Topic8\", \"Topic8\", \"Topic8\", \"Topic8\", \"Topic8\", \"Topic8\", \"Topic8\", \"Topic8\", \"Topic8\", \"Topic8\", \"Topic8\", \"Topic8\", \"Topic8\", \"Topic8\", \"Topic8\", \"Topic8\", \"Topic8\", \"Topic8\", \"Topic8\", \"Topic8\", \"Topic8\", \"Topic8\", \"Topic8\", \"Topic8\", \"Topic8\", \"Topic8\", \"Topic8\", \"Topic8\", \"Topic8\", \"Topic8\", \"Topic8\", \"Topic8\", \"Topic9\", \"Topic9\", \"Topic9\", \"Topic9\", \"Topic9\", \"Topic9\", \"Topic9\", \"Topic9\", \"Topic9\", \"Topic9\", \"Topic9\", \"Topic9\", \"Topic9\", \"Topic9\", \"Topic9\", \"Topic9\", \"Topic9\", \"Topic9\", \"Topic9\", \"Topic9\", \"Topic9\", \"Topic9\", \"Topic9\", \"Topic9\", \"Topic9\", \"Topic9\", \"Topic9\", \"Topic9\", \"Topic9\", \"Topic9\", \"Topic9\", \"Topic9\", \"Topic9\", \"Topic10\", \"Topic10\", \"Topic10\", \"Topic10\", \"Topic10\", \"Topic10\", \"Topic10\", \"Topic10\", \"Topic10\", \"Topic10\", \"Topic10\", \"Topic10\", \"Topic10\", \"Topic10\", \"Topic10\", \"Topic10\", \"Topic10\", \"Topic10\", \"Topic10\", \"Topic10\", \"Topic10\", \"Topic10\", \"Topic10\", \"Topic10\", \"Topic10\", \"Topic10\", \"Topic10\", \"Topic10\", \"Topic10\", \"Topic10\", \"Topic10\", \"Topic10\", \"Topic10\", \"Topic10\", \"Topic10\"], \"logprob\": [30.0, 29.0, 28.0, 27.0, 26.0, 25.0, 24.0, 23.0, 22.0, 21.0, 20.0, 19.0, 18.0, 17.0, 16.0, 15.0, 14.0, 13.0, 12.0, 11.0, 10.0, 9.0, 8.0, 7.0, 6.0, 5.0, 4.0, 3.0, 2.0, 1.0, -1.4479, -2.153, -2.3692, -2.4697, -3.208, -3.2445, -3.6165, -3.7715, -3.984, -4.0996, -4.2155, -4.3278, -4.3619, -4.4172, -4.6353, -4.8434, -4.9304, -4.9406, -5.1873, -5.3549, -5.5229, -5.5555, -5.5561, -5.6383, -5.7535, -5.8523, -5.8836, -5.9539, -6.027, -6.0727, -6.07, -5.0369, -1.0283, -2.003, -2.3149, -3.3715, -3.6519, -3.6809, -3.8539, -3.9346, -4.3305, -4.3795, -4.4435, -4.607, -4.7186, -4.9643, -5.2568, -5.3224, -5.4162, -5.4236, -5.5985, -5.6254, -5.6295, -5.6975, -5.732, -5.8152, -5.8454, -5.8984, -5.9929, -6.0282, -6.2072, -6.2642, -5.0688, -6.1274, -2.5096, -3.4992, -3.5845, -3.7161, -3.774, -3.8023, -3.934, -4.0506, -4.2921, -4.3959, -4.625, -4.6499, -4.6812, -4.7158, -4.7353, -4.7651, -4.7807, -4.8035, -4.8449, -4.8647, -4.8669, -4.8978, -4.9764, -5.0186, -5.0354, -5.092, -5.1001, -5.1633, -5.2151, -5.24, -2.5443, -4.5869, -4.9912, -5.0617, -2.8212, -3.0014, -3.4063, -4.006, -4.0408, -4.1839, -4.2035, -4.325, -4.3312, -4.4364, -4.4575, -4.4899, -4.4929, -4.5247, -4.5281, -4.5311, -4.6886, -4.8745, -4.9466, -5.0355, -5.1121, -5.2129, -5.3615, -5.3825, -5.3869, -5.456, -5.4476, -5.4662, -5.531, -5.5792, -3.2717, -4.3372, -4.6469, -5.415, -2.0042, -2.6884, -3.0445, -3.7699, -3.9177, -4.0193, -4.1101, -4.1503, -4.2407, -4.3397, -4.3608, -4.5919, -4.6091, -4.6354, -4.7433, -4.7356, -4.7759, -4.8276, -4.8386, -4.9253, -4.959, -5.095, -5.158, -5.1616, -5.1872, -5.3015, -5.4622, -5.5894, -5.6374, -5.6383, -3.7842, -4.7103, -4.8749, -5.3669, -3.0161, -3.1602, -3.2727, -3.5628, -3.7277, -3.8712, -3.9593, -4.0584, -4.1767, -4.2431, -4.3316, -4.4426, -4.4727, -4.5904, -4.651, -4.6707, -4.7881, -4.8144, -4.9293, -5.0386, -5.084, -5.1179, -5.1741, -5.1998, -5.3328, -5.3954, -5.4459, -5.5863, -5.639, -5.6526, -2.8367, -4.3639, -4.8724, -4.8184, -5.1638, -2.3392, -2.8987, -3.9856, -4.0185, -4.0375, -4.1703, -4.2307, -4.5077, -4.5689, -4.6024, -4.7032, -4.7151, -4.7585, -4.786, -4.8436, -4.8804, -4.9522, -5.0125, -5.0325, -5.1005, -5.1445, -5.1619, -5.1449, -5.1961, -5.2896, -5.3085, -5.315, -5.3893, -5.4415, -5.5033, -3.2195, -4.4212, -4.4024, -5.2197, -2.8243, -3.2364, -3.4556, -3.7235, -4.102, -4.229, -4.2593, -4.2856, -4.4279, -4.4831, -4.5331, -4.6244, -4.648, -4.7567, -4.9371, -5.0178, -5.0183, -5.0608, -5.1522, -5.2343, -5.3818, -5.4612, -5.4814, -5.4827, -5.576, -5.5872, -5.7519, -5.7526, -5.8186, -5.8178, -4.6839, -5.4434, -2.8003, -4.4115, -4.6384, -4.9636, -2.3629, -3.095, -3.1823, -3.355, -3.4522, -3.724, -3.7373, -3.7924, -3.9062, -4.1055, -4.23, -4.3296, -4.4592, -4.5815, -4.6542, -4.6858, -4.7533, -4.7929, -4.9437, -4.9721, -5.0309, -5.1069, -5.2316, -5.2509, -5.2649, -5.2902, -5.3465, -5.3947, -5.4207, -5.4221, -3.9451, -4.8932, -4.9446, -1.3375, -2.887, -2.9525, -3.2793, -3.2905, -3.4086, -3.6652, -3.9687, -4.4828, -5.0247, -5.0525, -5.0759, -5.1261, -5.3439, -5.4182, -5.6038, -5.6066, -5.628, -5.6389, -5.6756, -5.853, -5.9397, -5.96, -6.0332, -6.0762, -6.1842, -6.2051, -6.2284, -6.2117, -6.253, -4.9501, -5.883, -5.5398, -5.86, -5.6858], \"loglift\": [30.0, 29.0, 28.0, 27.0, 26.0, 25.0, 24.0, 23.0, 22.0, 21.0, 20.0, 19.0, 18.0, 17.0, 16.0, 15.0, 14.0, 13.0, 12.0, 11.0, 10.0, 9.0, 8.0, 7.0, 6.0, 5.0, 4.0, 3.0, 2.0, 1.0, 1.5504, 1.5503, 1.5503, 1.5503, 1.5501, 1.5501, 1.5499, 1.5498, 1.5496, 1.5495, 1.5494, 1.5493, 1.5492, 1.5492, 1.5488, 1.5485, 1.5483, 1.5483, 1.5476, 1.5471, 1.5465, 1.5464, 1.5464, 1.546, 1.5455, 1.545, 1.5448, 1.5444, 1.5439, 1.5436, 1.5436, -1.4604, 1.623, 1.6229, 1.6229, 1.6226, 1.6224, 1.6224, 1.6223, 1.6222, 1.6218, 1.6217, 1.6216, 1.6214, 1.6212, 1.6206, 1.6198, 1.6196, 1.6192, 1.6192, 1.6185, 1.6184, 1.6183, 1.618, 1.6178, 1.6174, 1.6172, 1.6169, 1.6163, 1.616, 1.6147, 1.6142, -1.4923, -0.9815, 2.3531, 2.3524, 2.3523, 2.3521, 2.352, 2.352, 2.3517, 2.3515, 2.351, 2.3507, 2.35, 2.3499, 2.3498, 2.3497, 2.3496, 2.3495, 2.3494, 2.3493, 2.3491, 2.349, 2.349, 2.3489, 2.3485, 2.3483, 2.3482, 2.3479, 2.3479, 2.3475, 2.3472, 2.347, 1.0322, 0.3878, 0.1547, 0.9937, 2.4114, 2.4113, 2.4109, 2.41, 2.4099, 2.4096, 2.4096, 2.4092, 2.4092, 2.4089, 2.4089, 2.4088, 2.4087, 2.4086, 2.4086, 2.4086, 2.408, 2.4072, 2.4069, 2.4064, 2.406, 2.4053, 2.4043, 2.4041, 2.4041, 2.4035, 2.4035, 2.4034, 2.4028, 2.4024, 0.3048, 0.6375, 0.4989, 0.6653, 2.4748, 2.4745, 2.4743, 2.4734, 2.4731, 2.4729, 2.4727, 2.4726, 2.4724, 2.4721, 2.4721, 2.4713, 2.4712, 2.4711, 2.4706, 2.4705, 2.4705, 2.4702, 2.4702, 2.4698, 2.4696, 2.4688, 2.4684, 2.4683, 2.4682, 2.4673, 2.466, 2.4647, 2.4642, 2.4642, -0.2077, 0.2643, 0.271, 1.0571, 2.5239, 2.5237, 2.5236, 2.5233, 2.523, 2.5227, 2.5226, 2.5223, 2.522, 2.5219, 2.5216, 2.5212, 2.5211, 2.5207, 2.5204, 2.5203, 2.5198, 2.5197, 2.5191, 2.5184, 2.5181, 2.5179, 2.5175, 2.5173, 2.5163, 2.5157, 2.5153, 2.5138, 2.5133, 2.5131, 0.7398, 0.6107, 1.0931, 0.3274, 0.8078, 2.6953, 2.6949, 2.6931, 2.6931, 2.693, 2.6926, 2.6924, 2.6913, 2.6911, 2.6909, 2.6904, 2.6903, 2.6901, 2.6899, 2.6896, 2.6894, 2.6889, 2.6885, 2.6883, 2.6878, 2.6874, 2.6872, 2.6871, 2.687, 2.6861, 2.686, 2.6859, 2.6851, 2.6846, 2.6838, 0.3569, 0.7247, 0.5723, 0.7519, 2.7661, 2.7656, 2.7653, 2.7648, 2.7638, 2.7634, 2.7632, 2.7631, 2.7626, 2.7623, 2.7621, 2.7616, 2.7615, 2.7609, 2.7597, 2.7591, 2.7591, 2.7587, 2.7579, 2.7572, 2.7556, 2.7547, 2.7545, 2.7544, 2.7532, 2.7531, 2.7506, 2.7506, 2.7495, 2.7494, 2.7261, 2.6648, 0.7762, 0.5632, 0.5074, 1.0019, 2.7821, 2.7815, 2.7814, 2.7812, 2.781, 2.7805, 2.7804, 2.7803, 2.78, 2.7794, 2.779, 2.7786, 2.7781, 2.7775, 2.7771, 2.7769, 2.7765, 2.7762, 2.7752, 2.775, 2.7745, 2.7739, 2.7727, 2.7725, 2.7723, 2.772, 2.7714, 2.7709, 2.7706, 2.7706, -0.3686, 0.0814, 0.2013, 3.0068, 3.0059, 3.0058, 3.0053, 3.0053, 3.005, 3.0044, 3.0035, 3.0011, 2.9968, 2.9965, 2.9963, 2.9957, 2.993, 2.9919, 2.9888, 2.9888, 2.9884, 2.9882, 2.9875, 2.9837, 2.9815, 2.9811, 2.9792, 2.978, 2.9746, 2.974, 2.9733, 2.9732, 2.9724, 0.1958, 1.4984, -0.5652, 0.1116, -2.1093]}, \"token.table\": {\"Topic\": [1, 8, 3, 10, 2, 8, 4, 8, 1, 1, 8, 5, 7, 6, 8, 5, 1, 1, 2, 3, 4, 5, 6, 7, 8, 9, 10, 4, 8, 7, 2, 10, 3, 7, 3, 7, 3, 1, 1, 10, 8, 5, 6, 8, 2, 6, 2, 7, 2, 2, 8, 10, 5, 4, 4, 2, 5, 1, 2, 3, 4, 5, 6, 7, 8, 9, 10, 6, 2, 2, 9, 2, 8, 7, 1, 10, 9, 1, 1, 2, 1, 2, 3, 4, 5, 6, 7, 8, 9, 10, 9, 3, 9, 3, 5, 5, 7, 10, 5, 7, 6, 7, 2, 2, 10, 7, 5, 9, 7, 4, 9, 4, 9, 3, 10, 6, 2, 5, 3, 4, 6, 5, 6, 7, 2, 8, 1, 10, 3, 9, 4, 10, 9, 9, 1, 1, 9, 3, 1, 4, 7, 9, 8, 2, 1, 8, 2, 4, 9, 10, 6, 2, 7, 1, 9, 1, 1, 1, 10, 6, 7, 9, 2, 5, 1, 2, 3, 4, 5, 6, 7, 8, 9, 10, 6, 6, 6, 7, 10, 8, 2, 5, 6, 5, 1, 5, 3, 6, 9, 4, 7, 10, 4, 10, 7, 7, 9, 3, 4, 1, 1, 10, 7, 5, 6, 1, 3, 5, 2, 5, 3, 1, 1, 4, 6, 1, 9, 2, 5, 7, 1, 2, 3, 4, 5, 6, 7, 8, 9, 10, 9, 1, 3, 2, 4, 9, 3, 10, 4, 6, 6, 6, 10, 6, 4, 1, 2, 3, 4, 5, 6, 7, 8, 9, 10, 6, 7, 4, 6, 6, 8, 5, 8, 5, 10, 2, 8, 9, 8, 4, 10, 4, 3, 7, 3, 6, 6, 1, 7, 7, 4, 4, 4, 2, 9, 8, 10, 5, 10, 3, 2, 10, 8, 9, 10, 5, 3, 8, 2, 6, 10, 5, 7, 9, 7, 3, 3, 10, 8, 8, 3, 5, 1, 2, 3, 4, 5, 6, 7, 8, 9, 10, 4, 4, 7, 3, 8, 2, 6, 9, 10, 3, 2, 8, 3, 9, 9, 2, 8, 4, 1, 2, 3, 4, 5, 6, 7, 8, 9, 10, 1, 2, 3, 4, 5, 6, 7, 8, 9, 10, 1, 2, 3, 4, 5, 6, 7, 8, 9, 10, 3, 9, 7, 8, 8, 5, 8, 6, 10, 5, 3, 1, 7, 3, 4, 6, 8, 10, 3, 9, 3, 6, 5, 1, 5, 1, 8, 9, 4, 5, 1, 4, 4, 4], \"Freq\": [0.9979433765202101, 0.9791407878189755, 0.9935034915744537, 0.9795168808528748, 0.9924585343173294, 0.9905057218839362, 0.9975050910962973, 0.9946496929355525, 0.9945073063626, 0.9985219468874861, 0.9926305911584318, 0.9933626307781637, 0.9966840939818745, 0.9962140874409934, 0.9969098366239009, 0.9956052064900917, 0.999860372090395, 0.049218666081144724, 0.04439145075395553, 0.2668219609283596, 0.12162689598898263, 0.06833822482805094, 0.16781672108051846, 0.0964496552628586, 0.1365817983751766, 0.042782378978225795, 0.005963030698292533, 0.9918267863482549, 0.9938785790181095, 0.9966677789251212, 0.9991857825846449, 0.9739367171127459, 0.9986693102212134, 0.991075200587768, 0.9982826261178931, 0.9947589696189286, 0.9945581631205023, 0.9935243515986782, 0.9979242587892702, 0.9864316351562691, 0.9784712697587785, 0.9981670578875445, 0.9978417193383331, 0.9952503222543606, 0.9986405899087704, 0.9946904670759661, 0.9998262795041007, 0.9942097738192917, 0.9952391407857618, 0.9954062504234459, 0.9992266230802369, 0.9969200527507406, 0.9882040363923701, 0.9946226936189903, 0.9969005285196034, 0.9955607861016107, 0.9959380753317453, 0.12193041598801677, 0.03612753066311608, 0.25627967064147966, 0.07677100265912166, 0.11967244532157201, 0.13773621065313005, 0.09709273865712446, 0.0948347679906797, 0.04741738399533985, 0.010160867999001398, 0.9978618903279323, 0.9969379434442289, 0.9973769751792475, 0.9913024836371769, 0.9907779349157193, 0.9913144823339551, 0.9954651765798095, 0.9982218276910623, 0.9990160365312258, 0.9877971199132499, 0.9996374592056476, 0.9998869744923112, 0.9966365777649083, 0.04745547661985646, 0.05324272986618042, 0.14931113375515814, 0.17477504803898355, 0.12153231817280313, 0.16435799219560043, 0.10995781168015521, 0.11343016362794958, 0.05208527921691563, 0.015046858440442292, 0.9913493353246279, 0.9990707927770105, 0.997735555532434, 0.9973747826989129, 0.9948015924946498, 0.9914608584093025, 0.9909681356335629, 0.975273999379502, 0.9939864068143511, 0.9848385292238006, 0.9933355501779351, 0.9897624340162359, 0.9970699932518668, 0.9934510538998849, 0.9988871285408404, 0.9901200809495229, 0.9979938426488199, 0.9991932422633997, 0.9875038306362134, 0.9899659933683028, 0.9937638827757811, 0.9925989820965825, 0.9962032330238302, 0.9922369825958502, 0.9838119110010792, 0.9978658777217748, 0.9928226341447957, 0.9916712690043391, 0.9946217913089747, 0.997286928201462, 0.9960480820229118, 0.9940774538827987, 0.993396181380365, 0.9981797837750169, 0.9957358889629436, 0.9977948925682221, 0.999001812435348, 0.9978691533262368, 0.995716359353996, 0.992210691133191, 0.9968230881056813, 0.9872795683511109, 0.9988859307583358, 0.9965275350722803, 0.9999542685269397, 0.9921798223440011, 0.9981694522318287, 0.995272358036517, 0.9987468150775326, 0.9977931489549795, 0.9863448562201861, 0.9984770218326915, 0.9893224371051376, 0.9997780012926555, 0.9918148033791001, 0.9871116658077294, 0.9931850549388617, 0.993724376305407, 0.9971369622633678, 0.9877445101552285, 0.9926373087412501, 0.9999631925840959, 0.9956379789621982, 0.9950497280811589, 0.9950886605148791, 0.9958921956310447, 0.9974243476253039, 0.997273553742166, 0.9803649321837091, 0.9968209866043194, 0.999380681769345, 0.9961565085618242, 0.9994736860355616, 0.9961549726132778, 0.055274910373657275, 0.02976341327812315, 0.11054982074731455, 0.16582473112097182, 0.10204598838213651, 0.09779407219954749, 0.09779407219954749, 0.06377874273883531, 0.0595268265562463, 0.2210996414946291, 0.9893449709465105, 0.99856951459719, 0.9979220863519429, 0.9923240794198043, 0.9926064668201119, 0.9950501008440484, 0.998658597921345, 0.9949533628183609, 0.9935731818014599, 0.9977765108785972, 0.9977972830624602, 0.9978284763501173, 0.9983372356322903, 0.9858082149540816, 0.9980347181504632, 0.9944271965851168, 0.9974597900479821, 0.9676751114692197, 0.99751233128508, 0.9974450930247288, 0.9958762140648199, 0.9942571085619647, 0.9964159816173184, 0.9963230145471241, 0.9946174533588551, 0.9992379423151106, 0.9987787484761639, 0.977528171584827, 0.9979531076426318, 0.9873536958539483, 0.9955385315299333, 0.993793274860044, 0.9956400376129669, 0.9973930206913563, 0.99931763830541, 0.999512352635604, 0.9978389769850736, 0.9989301072690138, 0.9949047018930706, 0.9973662258266701, 0.9988752033279159, 0.9966956676256165, 0.9908065674938571, 0.9989246085319146, 0.9964753852656187, 0.994123977906061, 0.008794245896354564, 0.008794245896354564, 0.01758849179270913, 0.01758849179270913, 0.008794245896354564, 0.01758849179270913, 0.008794245896354564, 0.9058073273245202, 0.008794245896354564, 0.9840571851718972, 0.9939409181634857, 0.9997766022247103, 0.99682006482862, 0.9996895666347898, 0.9964962729514907, 0.9994362212796609, 0.9953857750775864, 0.9751748834957709, 0.9991959593804552, 0.9961306675538395, 0.990918445926986, 0.9955434097291604, 0.9711965238073482, 0.9956692621387253, 0.9943950705690955, 0.044376119804962796, 0.05779215602506783, 0.11764831762245952, 0.1331283594148884, 0.07533620338982057, 0.23942464638956673, 0.0928802507545733, 0.17131246250287965, 0.047472128163448576, 0.021672058509400436, 0.987006524474246, 0.9890249164387315, 0.9978047326136644, 0.98740539809545, 0.998501555217246, 0.997030736573869, 0.9921366337565459, 0.9941316212583168, 0.9994566487364825, 0.9551316762677924, 0.9990925259281869, 0.9890352672579497, 0.9843724095683319, 0.9892280674122447, 0.996727857523309, 0.9997369604655775, 0.9958584764411577, 0.9920781366550521, 0.9975627938197573, 0.9962545940797776, 0.9990761968858743, 0.9914799760729825, 0.9988397426971334, 0.993735090410011, 0.9929943225734044, 0.99138385610414, 0.9991918477040337, 0.9970771084315101, 0.9977784257236001, 0.9940961245030935, 0.9978225115968928, 0.9556233086933721, 0.9955360440652682, 0.9710095946544203, 0.9959716073889809, 0.9916576169968674, 0.9716557758331108, 0.9973530109502273, 0.9857297729321758, 0.9981844601817274, 0.9959701884277933, 0.9977330571466494, 0.9907809039567236, 0.9957813558391095, 0.9969709408631319, 0.9896525838126224, 0.9956910001285647, 0.9899954545743569, 0.9987825571800394, 0.9941428620134402, 0.9928600308288527, 0.9980974066362, 0.9851002498095778, 0.9884174926381725, 0.9873372523583592, 0.9932286911746204, 0.9996749841010086, 0.05095601829445772, 0.05708606560807669, 0.140224832299034, 0.16972568499582533, 0.10957459573093915, 0.14750426348395657, 0.11953592261556999, 0.11034085164514153, 0.06704739249270752, 0.02796834086838657, 0.9991433123305016, 0.9974612808783955, 0.9958531010608189, 0.9983118287883331, 0.988121776358661, 0.9970513401869289, 0.9993197273522173, 0.9936619431970823, 0.9983731131822997, 0.9965213696907023, 0.9989406964007116, 0.9872350007217405, 0.9961199146781599, 0.9952131180553666, 0.9856587493738187, 0.9961455601297463, 0.9946617035437352, 0.9975802988327905, 0.053864915353396256, 0.062026266164516904, 0.10283302022012013, 0.11099437103124077, 0.2415759840091711, 0.10609756054456838, 0.08651031859787883, 0.1289493428157062, 0.05876172584006865, 0.047335834704499744, 0.06638287223404209, 0.07411238475444425, 0.11094123852812514, 0.14777009230180602, 0.11048656132104265, 0.11094123852812514, 0.1391312253672389, 0.10457575762897041, 0.07547641637569169, 0.06001739133488737, 0.05295506905176723, 0.07995177092129561, 0.11006347685269267, 0.12460016247474642, 0.09864179529250758, 0.17963190090109277, 0.14329018684595837, 0.08099010560858518, 0.07476009748484785, 0.05503173842634634, 0.9951555335939745, 0.9911932052358218, 0.9988617623176238, 0.994928978552082, 0.998642600819992, 0.9953547583322951, 0.9918848817299826, 0.992506999567763, 0.9919057900531327, 0.9987073713186668, 0.9942070912228402, 0.9939827502556119, 0.9949713850889733, 0.021875896202157685, 0.008750358480863073, 0.0043751792404315365, 0.9581642536545065, 0.9939363203530203, 0.9994937312229026, 0.9928596695295765, 0.9958797684544913, 0.9914007033149989, 0.996838230975282, 0.9977691874281543, 0.9896757542663518, 0.9992264499931577, 0.9938488448965936, 0.9873344347656435, 0.9929633881201033, 0.9974615272327317, 0.9996467036428967, 0.9928792258215625, 0.9907097968332037, 0.9977885848082197], \"Term\": [\"account\", \"ago\", \"agra\", \"aim\", \"all\", \"always\", \"amp\", \"announce\", \"annually\", \"at_least\", \"awareness\", \"back\", \"bad\", \"be\", \"become\", \"big\", \"bit\", \"bit_ly\", \"bit_ly\", \"bit_ly\", \"bit_ly\", \"bit_ly\", \"bit_ly\", \"bit_ly\", \"bit_ly\", \"bit_ly\", \"bit_ly\", \"blame\", \"boy\", \"break\", \"bus\", \"business\", \"can\", \"capital\", \"car\", \"care\", \"carry\", \"case\", \"cause\", \"central\", \"change\", \"check\", \"child\", \"city\", \"claim\", \"close\", \"co\", \"coach\", \"collide\", \"collision\", \"com\", \"come\", \"concern\", \"constable\", \"control\", \"cop\", \"cost\", \"cost_bn\", \"cost_bn\", \"cost_bn\", \"cost_bn\", \"cost_bn\", \"cost_bn\", \"cost_bn\", \"cost_bn\", \"cost_bn\", \"cost_bn\", \"country\", \"crash\", \"critically\", \"crore\", \"crush\", \"curb\", \"daily\", \"day\", \"dead\", \"deadly\", \"death\", \"die\", \"district\", \"dlvr\", \"dlvr\", \"dlvr\", \"dlvr\", \"dlvr\", \"dlvr\", \"dlvr\", \"dlvr\", \"dlvr\", \"dlvr\", \"dozen\", \"drive\", \"driver\", \"drunk\", \"due\", \"economic\", \"employee\", \"end\", \"engineering_student\", \"ever\", \"everyday\", \"everywhere\", \"fall\", \"fall_gorge\", \"family\", \"fast\", \"fatal\", \"fatality\", \"fb\", \"fear\", \"few\", \"first\", \"former\", \"free\", \"friend\", \"get\", \"girl\", \"give\", \"global\", \"go\", \"good\", \"government\", \"great\", \"happen\", \"head\", \"help\", \"high\", \"highway\", \"hit\", \"home\", \"hospital\", \"hot\", \"hour\", \"how\", \"http\", \"human_error\", \"hurt\", \"important\", \"include\", \"increase\", \"india\", \"indian\", \"info\", \"injure\", \"injury\", \"insurance\", \"involve\", \"journalist\", \"just\", \"keep\", \"kid\", \"kill\", \"killer\", \"know\", \"labourer\", \"lakh\", \"last\", \"late\", \"launch\", \"law\", \"lead\", \"leader\", \"least\", \"leave\", \"lesson_fix_hospital\", \"lesson_fix_hospital\", \"lesson_fix_hospital\", \"lesson_fix_hospital\", \"lesson_fix_hospital\", \"lesson_fix_hospital\", \"lesson_fix_hospital\", \"lesson_fix_hospital\", \"lesson_fix_hospital\", \"lesson_fix_hospital\", \"let\", \"life\", \"list\", \"live\", \"local\", \"look\", \"lose\", \"loss\", \"low\", \"lucknow\", \"major\", \"make\", \"man\", \"management\", \"many\", \"massive\", \"may\", \"medium\", \"meet\", \"member\", \"mini\", \"minor\", \"minute\", \"mishap\", \"month\", \"more\", \"most\", \"motorcycle\", \"mountain\", \"must\", \"national\", \"nearly\", \"need\", \"new\", \"news\", \"northern\", \"now\", \"number\", \"occur\", \"official\", \"old\", \"only\", \"open\", \"other\", \"part\", \"passenger\", \"payout\", \"payout\", \"payout\", \"payout\", \"payout\", \"payout\", \"payout\", \"payout\", \"payout\", \"pe\", \"pedestrian\", \"people\", \"percent\", \"person\", \"photo\", \"pilgrim\", \"place\", \"player\", \"police\", \"policeman\", \"poor\", \"ppl\", \"pray\", \"prevent\", \"private\", \"pti\", \"pti\", \"pti\", \"pti\", \"pti\", \"pti\", \"pti\", \"pti\", \"pti\", \"pti\", \"race\", \"rage\", \"rail\", \"rank\", \"rate\", \"read\", \"really\", \"record\", \"reduce\", \"relief\", \"report\", \"resident\", \"result\", \"ride\", \"rise\", \"road\", \"rule\", \"run\", \"sad\", \"safe\", \"safety\", \"save\", \"say\", \"scary\", \"school\", \"score\", \"second\", \"see\", \"separate\", \"serious\", \"seriously\", \"severely\", \"share_friend\", \"shocking\", \"should\", \"show\", \"singer\", \"so\", \"soldier\", \"son\", \"southern\", \"speed\", \"stat\", \"state\", \"statistic\", \"still\", \"stop\", \"story\", \"student\", \"study\", \"suffer\", \"take\", \"tamil_nadu\", \"th\", \"thank\", \"think\", \"time\", \"tinyurl_com\", \"tinyurl_com\", \"tinyurl_com\", \"tinyurl_com\", \"tinyurl_com\", \"tinyurl_com\", \"tinyurl_com\", \"tinyurl_com\", \"tinyurl_com\", \"tinyurl_com\", \"today\", \"toll\", \"too\", \"top\", \"touch\", \"tourist\", \"traffic\", \"train\", \"transport\", \"travel\", \"truck\", \"try\", \"tunnel\", \"turn\", \"twitter\", \"update\", \"urgent\", \"use\", \"use_twitter\", \"use_twitter\", \"use_twitter\", \"use_twitter\", \"use_twitter\", \"use_twitter\", \"use_twitter\", \"use_twitter\", \"use_twitter\", \"use_twitter\", \"use_twitter_curb\", \"use_twitter_curb\", \"use_twitter_curb\", \"use_twitter_curb\", \"use_twitter_curb\", \"use_twitter_curb\", \"use_twitter_curb\", \"use_twitter_curb\", \"use_twitter_curb\", \"use_twitter_curb\", \"uurl\", \"uurl\", \"uurl\", \"uurl\", \"uurl\", \"uurl\", \"uurl\", \"uurl\", \"uurl\", \"uurl\", \"van\", \"veer\", \"vehicle\", \"very\", \"victim\", \"video\", \"village\", \"violence\", \"want\", \"way\", \"wedding\", \"week\", \"well\", \"westbound\", \"westbound\", \"westbound\", \"westbound\", \"western\", \"when\", \"where\", \"why\", \"wildlife\", \"will\", \"woman\", \"work\", \"world\", \"worldwide\", \"worry\", \"worst\", \"would\", \"year\", \"yet\", \"young\", \"youth\"]}, \"R\": 30, \"lambda.step\": 0.01, \"plot.opts\": {\"xlab\": \"PC1\", \"ylab\": \"PC2\"}, \"topic.order\": [8, 7, 3, 1, 9, 5, 2, 10, 4, 6]};\n",
              "\n",
              "function LDAvis_load_lib(url, callback){\n",
              "  var s = document.createElement('script');\n",
              "  s.src = url;\n",
              "  s.async = true;\n",
              "  s.onreadystatechange = s.onload = callback;\n",
              "  s.onerror = function(){console.warn(\"failed to load library \" + url);};\n",
              "  document.getElementsByTagName(\"head\")[0].appendChild(s);\n",
              "}\n",
              "\n",
              "if(typeof(LDAvis) !== \"undefined\"){\n",
              "   // already loaded: just create the visualization\n",
              "   !function(LDAvis){\n",
              "       new LDAvis(\"#\" + \"ldavis_el1441401337067271205821871832\", ldavis_el1441401337067271205821871832_data);\n",
              "   }(LDAvis);\n",
              "}else if(typeof define === \"function\" && define.amd){\n",
              "   // require.js is available: use it to load d3/LDAvis\n",
              "   require.config({paths: {d3: \"https://d3js.org/d3.v5\"}});\n",
              "   require([\"d3\"], function(d3){\n",
              "      window.d3 = d3;\n",
              "      LDAvis_load_lib(\"https://cdn.jsdelivr.net/gh/bmabey/pyLDAvis@3.3.1/pyLDAvis/js/ldavis.v3.0.0.js\", function(){\n",
              "        new LDAvis(\"#\" + \"ldavis_el1441401337067271205821871832\", ldavis_el1441401337067271205821871832_data);\n",
              "      });\n",
              "    });\n",
              "}else{\n",
              "    // require.js not available: dynamically load d3 & LDAvis\n",
              "    LDAvis_load_lib(\"https://d3js.org/d3.v5.js\", function(){\n",
              "         LDAvis_load_lib(\"https://cdn.jsdelivr.net/gh/bmabey/pyLDAvis@3.3.1/pyLDAvis/js/ldavis.v3.0.0.js\", function(){\n",
              "                 new LDAvis(\"#\" + \"ldavis_el1441401337067271205821871832\", ldavis_el1441401337067271205821871832_data);\n",
              "            })\n",
              "         });\n",
              "}\n",
              "</script>"
            ],
            "text/plain": [
              "PreparedData(topic_coordinates=              x         y  topics  cluster       Freq\n",
              "topic                                                \n",
              "7      0.416565  0.182664       1        1  21.214564\n",
              "6      0.058195  0.441176       2        1  19.729356\n",
              "2     -0.269134 -0.196598       3        1   9.503621\n",
              "0     -0.237711  0.190621       4        1   8.963563\n",
              "8      0.030330 -0.332987       5        1   8.415439\n",
              "4     -0.067190  0.094991       6        1   8.008293\n",
              "1     -0.068870 -0.174715       7        1   6.749067\n",
              "9     -0.257330 -0.012004       8        1   6.285414\n",
              "3      0.129411 -0.007696       9        1   6.187130\n",
              "5      0.265735 -0.185452      10        1   4.943552, topic_info=                      Term          Freq  ...  logprob  loglift\n",
              "359                   kill  26647.000000  ...  30.0000  30.0000\n",
              "6521                  http  18835.000000  ...  29.0000  29.0000\n",
              "86                      co  10055.000000  ...  28.0000  28.0000\n",
              "12                    road   4902.000000  ...  27.0000  27.0000\n",
              "3294                   bit   9306.000000  ...  26.0000  26.0000\n",
              "...                    ...           ...  ...      ...      ...\n",
              "27307     use_twitter_curb    132.238082  ...  -4.9501   0.1958\n",
              "25508  lesson_fix_hospital     52.023435  ...  -5.8830   1.4984\n",
              "26588          tinyurl_com     73.322374  ...  -5.5398  -0.5652\n",
              "27162                 uurl     53.234078  ...  -5.8600   0.1116\n",
              "25957               bit_ly     63.367041  ...  -5.6858  -2.1093\n",
              "\n",
              "[369 rows x 6 columns], token_table=      Topic      Freq     Term\n",
              "term                          \n",
              "102       1  0.997943  account\n",
              "1233      8  0.979141      ago\n",
              "2133      3  0.993503     agra\n",
              "1291     10  0.979517      aim\n",
              "37        2  0.992459      all\n",
              "...     ...       ...      ...\n",
              "313       5  0.997462    would\n",
              "141       1  0.999647     year\n",
              "178       4  0.992879      yet\n",
              "258       4  0.990710    young\n",
              "696       4  0.997789    youth\n",
              "\n",
              "[404 rows x 3 columns], R=30, lambda_step=0.01, plot_opts={'xlab': 'PC1', 'ylab': 'PC2'}, topic_order=[8, 7, 3, 1, 9, 5, 2, 10, 4, 6])"
            ]
          },
          "metadata": {},
          "execution_count": 63
        }
      ],
      "source": [
        "pyLDAvis.enable_notebook()\n",
        "vis = gensim_models.prepare(lda_model, corpus, id2word, mds=\"mmds\", R=30)\n",
        "vis"
      ]
    },
    {
      "cell_type": "code",
      "source": [
        "#Finding out coherence of the model\n",
        "coherence_model_lda = CoherenceModel(model=lda_model,texts=df['cleaned_text1'],\\\n",
        "                                     dictionary=id2word , coherence='c_v')\n",
        "print('\\nCoherence Score: ', coherence_model_lda.get_coherence())"
      ],
      "metadata": {
        "colab": {
          "base_uri": "https://localhost:8080/"
        },
        "id": "30IkcZ4JRZxD",
        "outputId": "5508fcbd-8eaa-4125-c290-1876b6391b23"
      },
      "execution_count": null,
      "outputs": [
        {
          "output_type": "stream",
          "name": "stdout",
          "text": [
            "\n",
            "Coherence Score:  0.3872233987870872\n"
          ]
        }
      ]
    },
    {
      "cell_type": "code",
      "execution_count": null,
      "metadata": {
        "id": "KqFJ0UlaCx9F",
        "colab": {
          "base_uri": "https://localhost:8080/"
        },
        "outputId": "160a1d9f-8e15-4ea8-b1b4-f3630b457422"
      },
      "outputs": [
        {
          "output_type": "stream",
          "name": "stdout",
          "text": [
            "CPU times: user 20min 2s, sys: 11.4 s, total: 20min 13s\n",
            "Wall time: 20min 9s\n"
          ]
        }
      ],
      "source": [
        "%%time\n",
        "# Computing coherence score for different size of topic\n",
        "def calculate_topic_cv(ldamodel,texts,dictionary,topic_range):\n",
        "  cv_score =[]\n",
        "  topic_num = []\n",
        "  for i in range(2,topic_range):\n",
        "    topic_num.append(i)\n",
        "    Lda = gensim.models.ldamodel.LdaModel\n",
        "    ldamodel = Lda(corpus=corpus[:-1],id2word=id2word,num_topics=i,random_state=100,update_every=1,chunksize=100,passes=10,alpha=\"auto\")\n",
        "    cv_score.append(CoherenceModel(model=ldamodel,texts=texts, dictionary=dictionary , coherence='c_v').get_coherence())\n",
        "    clear_output()\n",
        "  return topic_num,cv_score\n",
        "\n",
        "topic_num,cv_score = calculate_topic_cv(lda_model,df['cleaned_text1'],id2word,10)"
      ]
    },
    {
      "cell_type": "code",
      "execution_count": null,
      "metadata": {
        "id": "AkUp_EsYCx9F",
        "colab": {
          "base_uri": "https://localhost:8080/",
          "height": 331
        },
        "outputId": "e464a796-56f6-4e7f-de00-9944a639e021"
      },
      "outputs": [
        {
          "output_type": "execute_result",
          "data": {
            "text/html": [
              "\n",
              "  <div id=\"df-48ac34d1-5091-491a-af34-15f0f9767bac\">\n",
              "    <div class=\"colab-df-container\">\n",
              "      <div>\n",
              "<style scoped>\n",
              "    .dataframe tbody tr th:only-of-type {\n",
              "        vertical-align: middle;\n",
              "    }\n",
              "\n",
              "    .dataframe tbody tr th {\n",
              "        vertical-align: top;\n",
              "    }\n",
              "\n",
              "    .dataframe thead th {\n",
              "        text-align: right;\n",
              "    }\n",
              "</style>\n",
              "<table border=\"1\" class=\"dataframe\">\n",
              "  <thead>\n",
              "    <tr style=\"text-align: right;\">\n",
              "      <th></th>\n",
              "      <th>Coherence_Score</th>\n",
              "    </tr>\n",
              "    <tr>\n",
              "      <th>Topic</th>\n",
              "      <th></th>\n",
              "    </tr>\n",
              "  </thead>\n",
              "  <tbody>\n",
              "    <tr>\n",
              "      <th>2</th>\n",
              "      <td>0.446570</td>\n",
              "    </tr>\n",
              "    <tr>\n",
              "      <th>9</th>\n",
              "      <td>0.378004</td>\n",
              "    </tr>\n",
              "    <tr>\n",
              "      <th>4</th>\n",
              "      <td>0.367553</td>\n",
              "    </tr>\n",
              "    <tr>\n",
              "      <th>7</th>\n",
              "      <td>0.361869</td>\n",
              "    </tr>\n",
              "    <tr>\n",
              "      <th>8</th>\n",
              "      <td>0.353492</td>\n",
              "    </tr>\n",
              "    <tr>\n",
              "      <th>3</th>\n",
              "      <td>0.348139</td>\n",
              "    </tr>\n",
              "    <tr>\n",
              "      <th>5</th>\n",
              "      <td>0.340558</td>\n",
              "    </tr>\n",
              "    <tr>\n",
              "      <th>6</th>\n",
              "      <td>0.329117</td>\n",
              "    </tr>\n",
              "  </tbody>\n",
              "</table>\n",
              "</div>\n",
              "      <button class=\"colab-df-convert\" onclick=\"convertToInteractive('df-48ac34d1-5091-491a-af34-15f0f9767bac')\"\n",
              "              title=\"Convert this dataframe to an interactive table.\"\n",
              "              style=\"display:none;\">\n",
              "        \n",
              "  <svg xmlns=\"http://www.w3.org/2000/svg\" height=\"24px\"viewBox=\"0 0 24 24\"\n",
              "       width=\"24px\">\n",
              "    <path d=\"M0 0h24v24H0V0z\" fill=\"none\"/>\n",
              "    <path d=\"M18.56 5.44l.94 2.06.94-2.06 2.06-.94-2.06-.94-.94-2.06-.94 2.06-2.06.94zm-11 1L8.5 8.5l.94-2.06 2.06-.94-2.06-.94L8.5 2.5l-.94 2.06-2.06.94zm10 10l.94 2.06.94-2.06 2.06-.94-2.06-.94-.94-2.06-.94 2.06-2.06.94z\"/><path d=\"M17.41 7.96l-1.37-1.37c-.4-.4-.92-.59-1.43-.59-.52 0-1.04.2-1.43.59L10.3 9.45l-7.72 7.72c-.78.78-.78 2.05 0 2.83L4 21.41c.39.39.9.59 1.41.59.51 0 1.02-.2 1.41-.59l7.78-7.78 2.81-2.81c.8-.78.8-2.07 0-2.86zM5.41 20L4 18.59l7.72-7.72 1.47 1.35L5.41 20z\"/>\n",
              "  </svg>\n",
              "      </button>\n",
              "      \n",
              "  <style>\n",
              "    .colab-df-container {\n",
              "      display:flex;\n",
              "      flex-wrap:wrap;\n",
              "      gap: 12px;\n",
              "    }\n",
              "\n",
              "    .colab-df-convert {\n",
              "      background-color: #E8F0FE;\n",
              "      border: none;\n",
              "      border-radius: 50%;\n",
              "      cursor: pointer;\n",
              "      display: none;\n",
              "      fill: #1967D2;\n",
              "      height: 32px;\n",
              "      padding: 0 0 0 0;\n",
              "      width: 32px;\n",
              "    }\n",
              "\n",
              "    .colab-df-convert:hover {\n",
              "      background-color: #E2EBFA;\n",
              "      box-shadow: 0px 1px 2px rgba(60, 64, 67, 0.3), 0px 1px 3px 1px rgba(60, 64, 67, 0.15);\n",
              "      fill: #174EA6;\n",
              "    }\n",
              "\n",
              "    [theme=dark] .colab-df-convert {\n",
              "      background-color: #3B4455;\n",
              "      fill: #D2E3FC;\n",
              "    }\n",
              "\n",
              "    [theme=dark] .colab-df-convert:hover {\n",
              "      background-color: #434B5C;\n",
              "      box-shadow: 0px 1px 3px 1px rgba(0, 0, 0, 0.15);\n",
              "      filter: drop-shadow(0px 1px 2px rgba(0, 0, 0, 0.3));\n",
              "      fill: #FFFFFF;\n",
              "    }\n",
              "  </style>\n",
              "\n",
              "      <script>\n",
              "        const buttonEl =\n",
              "          document.querySelector('#df-48ac34d1-5091-491a-af34-15f0f9767bac button.colab-df-convert');\n",
              "        buttonEl.style.display =\n",
              "          google.colab.kernel.accessAllowed ? 'block' : 'none';\n",
              "\n",
              "        async function convertToInteractive(key) {\n",
              "          const element = document.querySelector('#df-48ac34d1-5091-491a-af34-15f0f9767bac');\n",
              "          const dataTable =\n",
              "            await google.colab.kernel.invokeFunction('convertToInteractive',\n",
              "                                                     [key], {});\n",
              "          if (!dataTable) return;\n",
              "\n",
              "          const docLinkHtml = 'Like what you see? Visit the ' +\n",
              "            '<a target=\"_blank\" href=https://colab.research.google.com/notebooks/data_table.ipynb>data table notebook</a>'\n",
              "            + ' to learn more about interactive tables.';\n",
              "          element.innerHTML = '';\n",
              "          dataTable['output_type'] = 'display_data';\n",
              "          await google.colab.output.renderOutput(dataTable, element);\n",
              "          const docLink = document.createElement('div');\n",
              "          docLink.innerHTML = docLinkHtml;\n",
              "          element.appendChild(docLink);\n",
              "        }\n",
              "      </script>\n",
              "    </div>\n",
              "  </div>\n",
              "  "
            ],
            "text/plain": [
              "       Coherence_Score\n",
              "Topic                 \n",
              "2             0.446570\n",
              "9             0.378004\n",
              "4             0.367553\n",
              "7             0.361869\n",
              "8             0.353492\n",
              "3             0.348139\n",
              "5             0.340558\n",
              "6             0.329117"
            ]
          },
          "metadata": {},
          "execution_count": 111
        }
      ],
      "source": [
        "pd.DataFrame(zip(topic_num,cv_score),columns=['Topic','Coherence_Score']).set_index('Topic').sort_values('Coherence_Score',ascending=False)"
      ]
    },
    {
      "cell_type": "code",
      "execution_count": null,
      "metadata": {
        "id": "YvA493BiCx9F",
        "colab": {
          "base_uri": "https://localhost:8080/",
          "height": 497
        },
        "outputId": "db0a5022-a2cc-48a7-e2a9-4200ac3e36ca"
      },
      "outputs": [
        {
          "output_type": "display_data",
          "data": {
            "image/png": "[encoded data removed]",
            "text/plain": [
              "<Figure size 1152x576 with 1 Axes>"
            ]
          },
          "metadata": {
            "needs_background": "light"
          }
        }
      ],
      "source": [
        "import matplotlib.pyplot as plt\n",
        "\n",
        "plt.figure(figsize = (16,8))\n",
        "plt.plot(topic_num,cv_score,color='green', marker='*', linestyle='dashed')\n",
        "plt.xticks(range(2,10))\n",
        "plt.xlabel('Number of topics')\n",
        "plt.ylabel('Coherence score')\n",
        "plt.show()"
      ]
    },
    {
      "cell_type": "code",
      "execution_count": null,
      "metadata": {
        "id": "geR2AIshCx9F"
      },
      "outputs": [],
      "source": [
        "# Creating LDA model with number of topics as 2\n",
        "Lda2 = gensim.models.ldamodel.LdaModel\n",
        "ldamodel2 = Lda2(corpus=corpus,id2word=id2word,num_topics=2,random_state=100,update_every=1,chunksize=100,passes=10,alpha=\"auto\")\n",
        "clear_output()"
      ]
    },
    {
      "cell_type": "code",
      "execution_count": null,
      "metadata": {
        "id": "qCw-pffeCx9G",
        "colab": {
          "base_uri": "https://localhost:8080/"
        },
        "outputId": "1cd39d17-4448-4d46-c63e-eac50911ed45"
      },
      "outputs": [
        {
          "metadata": {
            "tags": null
          },
          "name": "stdout",
          "output_type": "stream",
          "text": [
            "0.4465703019887205\n"
          ]
        }
      ],
      "source": [
        "print(CoherenceModel(model=ldamodel2,texts=df['cleaned_text1'],dictionary=id2word , coherence='c_v').get_coherence())"
      ]
    },
    {
      "cell_type": "code",
      "execution_count": null,
      "metadata": {
        "id": "TDIaitVKCx9G",
        "colab": {
          "base_uri": "https://localhost:8080/"
        },
        "outputId": "1b4dc8dd-1748-4713-8133-be2311066a7a"
      },
      "outputs": [
        {
          "output_type": "execute_result",
          "data": {
            "text/plain": [
              "[(0,\n",
              "  '0.023*\"death\" + 0.020*\"year\" + 0.016*\"more\" + 0.014*\"lead\" + 0.014*\"world\" + 0.013*\"people\" + 0.011*\"high\" + 0.011*\"second\" + 0.009*\"number\" + 0.008*\"reduce\"'),\n",
              " (1,\n",
              "  '0.132*\"kill\" + 0.099*\"http\" + 0.050*\"co\" + 0.047*\"bit\" + 0.043*\"bit_ly\" + 0.040*\"die\" + 0.036*\"injure\" + 0.027*\"people\" + 0.024*\"road\" + 0.017*\"time\"')]"
            ]
          },
          "metadata": {},
          "execution_count": 96
        }
      ],
      "source": [
        "ldamodel2.print_topics()"
      ]
    },
    {
      "cell_type": "code",
      "execution_count": null,
      "metadata": {
        "id": "LEdN0fbCCx9G",
        "colab": {
          "base_uri": "https://localhost:8080/",
          "height": 916
        },
        "outputId": "a896b829-41d0-4bdd-cb88-5fdac4098a70"
      },
      "outputs": [
        {
          "output_type": "stream",
          "name": "stderr",
          "text": [
            "/usr/local/lib/python3.7/dist-packages/pyLDAvis/_prepare.py:247: FutureWarning: In a future version of pandas all arguments of DataFrame.drop except for the argument 'labels' will be keyword-only\n",
            "  by='saliency', ascending=False).head(R).drop('saliency', 1)\n"
          ]
        },
        {
          "output_type": "execute_result",
          "data": {
            "text/html": [
              "\n",
              "<link rel=\"stylesheet\" type=\"text/css\" href=\"https://cdn.jsdelivr.net/gh/bmabey/pyLDAvis@3.3.1/pyLDAvis/js/ldavis.v1.0.0.css\">\n",
              "\n",
              "\n",
              "<div id=\"ldavis_el1441401336864825123705730181\"></div>\n",
              "<script type=\"text/javascript\">\n",
              "\n",
              "var ldavis_el1441401336864825123705730181_data = {\"mdsDat\": {\"x\": [-0.01367856060964702, 0.01367856060964702], \"y\": [-0.241398925515952, 0.241398925515952], \"topics\": [1, 2], \"cluster\": [1, 1], \"Freq\": [68.82508646584742, 31.17491353415258]}, \"tinfo\": {\"Term\": [\"kill\", \"http\", \"co\", \"die\", \"bit\", \"bit_ly\", \"injure\", \"road\", \"death\", \"time\", \"people\", \"person\", \"more\", \"pilgrim\", \"world\", \"news\", \"least\", \"lead\", \"northern\", \"when\", \"high\", \"tinyurl_com\", \"second\", \"bus\", \"include\", \"other\", \"number\", \"reduce\", \"at_least\", \"traffic\", \"death\", \"world\", \"high\", \"more\", \"number\", \"traffic\", \"safety\", \"most\", \"drive\", \"life\", \"reduce\", \"lose\", \"can\", \"victim\", \"fatality\", \"cause\", \"day\", \"help\", \"claim\", \"last\", \"country\", \"highway\", \"vehicle\", \"now\", \"so\", \"account\", \"will\", \"second\", \"fatal\", \"many\", \"lead\", \"way\", \"driver\", \"year\", \"transport\", \"hour\", \"use_twitter_curb\", \"people\", \"say\", \"bit\", \"kill\", \"co\", \"injure\", \"road\", \"pilgrim\", \"northern\", \"least\", \"news\", \"include\", \"at_least\", \"die\", \"dead\", \"bus\", \"person\", \"truck\", \"woman\", \"separate\", \"student\", \"son\", \"hurt\", \"member\", \"youth\", \"critically\", \"tourist\", \"child\", \"former\", \"district\", \"collide\", \"policeman\", \"lucknow\", \"dlvr\", \"mountain\", \"http\", \"time\", \"pti\", \"bit_ly\", \"other\", \"old\", \"bit\", \"com\", \"when\", \"tinyurl_com\", \"people\", \"family\", \"police\", \"today\", \"use_twitter_curb\"], \"Freq\": [15554.0, 12481.0, 5873.0, 4765.0, 6689.0, 5548.0, 4298.0, 2880.0, 6011.0, 2100.0, 6501.0, 1497.0, 4107.0, 1197.0, 3569.0, 1130.0, 1097.0, 3633.0, 1028.0, 1611.0, 2897.0, 1550.0, 2831.0, 852.0, 845.0, 963.0, 2258.0, 2162.0, 672.0, 2083.0, 6010.77367788117, 3568.7841054372434, 2896.6608128322796, 4106.770044943503, 2258.5776932507883, 2082.8536791533834, 1804.8044638701704, 1847.0767070696809, 1572.9740679971678, 1613.2505697900833, 2162.2918854105674, 1535.4967847734486, 1400.524241493673, 1361.967142095267, 1586.65133606968, 1094.826842039453, 1104.7705679184658, 1094.5848789710526, 1305.5047756352444, 1206.1153284569295, 1024.0839339036631, 1227.7364655719823, 2093.1064253993927, 987.7718620245935, 836.9829349512937, 854.9830384631813, 795.3117260770165, 2830.655127611937, 903.693145454089, 1210.06747260217, 3617.966881653815, 1042.5616088444517, 922.568080420135, 5154.774915011546, 1057.4522024785667, 1523.8830416584585, 1991.043401305208, 3290.560952720668, 1089.5636913940407, 1167.674792557708, 15553.188414965038, 5872.521369115262, 4297.447600312071, 2879.4997876537964, 1196.2140043294885, 1027.018643428311, 1096.3045577711314, 1128.2489829773094, 843.900504590746, 671.143524497926, 4756.229724429292, 611.7772467657966, 850.2058332266297, 1493.5456348814942, 545.0867347304218, 494.07077931082927, 388.57988549444985, 443.2561487734232, 413.2803157669576, 286.877183602729, 281.0172972340902, 241.47579097188884, 212.4553465096877, 192.23248962626974, 294.78167985875757, 185.0992316018576, 157.12114507236544, 146.20789176542078, 143.92966387067906, 238.0325159409761, 424.54252946167344, 222.89514093315722, 11701.530246700198, 2003.0792836158068, 474.9504530339219, 5006.505940279162, 902.3612041423, 397.4809454000049, 5522.159492608085, 668.1195392373075, 1243.247159254346, 1163.4561651929953, 3210.579652950088, 546.302030846583, 686.0512153383432, 439.0201296053827, 453.08702041018716], \"Total\": [15554.0, 12481.0, 5873.0, 4765.0, 6689.0, 5548.0, 4298.0, 2880.0, 6011.0, 2100.0, 6501.0, 1497.0, 4107.0, 1197.0, 3569.0, 1130.0, 1097.0, 3633.0, 1028.0, 1611.0, 2897.0, 1550.0, 2831.0, 852.0, 845.0, 963.0, 2258.0, 2162.0, 672.0, 2083.0, 6011.198926665117, 3569.213808944769, 2897.054108268777, 4107.440186294004, 2258.9851025802814, 2083.2508636686944, 1805.2046445171077, 1847.4903973075047, 1573.364708364763, 1613.652700919593, 2162.8740070386416, 1535.9151583593145, 1400.9107832189527, 1362.384153438062, 1587.1713586352935, 1095.2079801157752, 1105.1701113349457, 1094.9846313620715, 1306.0155976992312, 1206.5941847517158, 1024.5015453722892, 1228.2447161729453, 2093.9888986953047, 988.1977976456876, 837.3622483420409, 855.379876534794, 795.6830165427505, 2831.9978047124723, 904.1335139448166, 1210.6616708490394, 3633.2359700528214, 1043.8947055626647, 923.1036308701869, 5498.375219689181, 1069.2790267201667, 1592.44107910305, 2444.130421715395, 6501.1406056707565, 1376.9336604110104, 6689.8342851657935, 15554.396353800568, 5873.755315443947, 4298.649262809704, 2880.700729218329, 1197.3624125782057, 1028.2212440018718, 1097.590444380484, 1130.0782429756568, 845.2729067183035, 672.393567174059, 4765.255211092732, 613.015308051539, 852.4922710770594, 1497.669483328742, 546.6051266973535, 495.51975495934437, 389.73138149762684, 444.60446211352877, 414.6335595613264, 288.2672049144506, 282.43170828352993, 242.86039813394675, 213.67688271796834, 193.39889413352245, 296.71350680480737, 186.4260918925459, 158.38296629888234, 147.42266533989124, 145.14566583288186, 240.15494937170072, 430.575493393718, 225.2861255490462, 12481.439915938736, 2100.0513923440403, 487.25556661862834, 5548.126228014662, 963.5244355104311, 410.39263949474076, 6689.8342851657935, 712.9604991072185, 1611.2107706747029, 1550.7307353228423, 6501.1406056707565, 627.8806994176434, 992.0360594132153, 699.7171794983421, 2444.130421715395], \"Category\": [\"Default\", \"Default\", \"Default\", \"Default\", \"Default\", \"Default\", \"Default\", \"Default\", \"Default\", \"Default\", \"Default\", \"Default\", \"Default\", \"Default\", \"Default\", \"Default\", \"Default\", \"Default\", \"Default\", \"Default\", \"Default\", \"Default\", \"Default\", \"Default\", \"Default\", \"Default\", \"Default\", \"Default\", \"Default\", \"Default\", \"Topic1\", \"Topic1\", \"Topic1\", \"Topic1\", \"Topic1\", \"Topic1\", \"Topic1\", \"Topic1\", \"Topic1\", \"Topic1\", \"Topic1\", \"Topic1\", \"Topic1\", \"Topic1\", \"Topic1\", \"Topic1\", \"Topic1\", \"Topic1\", \"Topic1\", \"Topic1\", \"Topic1\", \"Topic1\", \"Topic1\", \"Topic1\", \"Topic1\", \"Topic1\", \"Topic1\", \"Topic1\", \"Topic1\", \"Topic1\", \"Topic1\", \"Topic1\", \"Topic1\", \"Topic1\", \"Topic1\", \"Topic1\", \"Topic1\", \"Topic1\", \"Topic1\", \"Topic1\", \"Topic2\", \"Topic2\", \"Topic2\", \"Topic2\", \"Topic2\", \"Topic2\", \"Topic2\", \"Topic2\", \"Topic2\", \"Topic2\", \"Topic2\", \"Topic2\", \"Topic2\", \"Topic2\", \"Topic2\", \"Topic2\", \"Topic2\", \"Topic2\", \"Topic2\", \"Topic2\", \"Topic2\", \"Topic2\", \"Topic2\", \"Topic2\", \"Topic2\", \"Topic2\", \"Topic2\", \"Topic2\", \"Topic2\", \"Topic2\", \"Topic2\", \"Topic2\", \"Topic2\", \"Topic2\", \"Topic2\", \"Topic2\", \"Topic2\", \"Topic2\", \"Topic2\", \"Topic2\", \"Topic2\", \"Topic2\", \"Topic2\", \"Topic2\", \"Topic2\", \"Topic2\", \"Topic2\"], \"logprob\": [30.0, 29.0, 28.0, 27.0, 26.0, 25.0, 24.0, 23.0, 22.0, 21.0, 20.0, 19.0, 18.0, 17.0, 16.0, 15.0, 14.0, 13.0, 12.0, 11.0, 10.0, 9.0, 8.0, 7.0, 6.0, 5.0, 4.0, 3.0, 2.0, 1.0, -3.7669, -4.2882, -4.4969, -4.1478, -4.7457, -4.8267, -4.97, -4.9468, -5.1075, -5.0822, -4.7893, -5.1316, -5.2236, -5.2515, -5.0988, -5.4698, -5.4608, -5.4701, -5.2938, -5.373, -5.5366, -5.3553, -4.8218, -5.5727, -5.7384, -5.7171, -5.7895, -4.5199, -5.6617, -5.3698, -4.2745, -5.5188, -5.641, -3.9205, -5.5046, -5.1392, -4.8718, -4.3694, -5.4747, -5.4054, -2.0242, -2.9982, -3.3105, -3.7109, -4.5893, -4.7418, -4.6765, -4.6478, -4.9382, -5.1673, -3.209, -5.2599, -4.9308, -4.3673, -5.3753, -5.4736, -5.7137, -5.5821, -5.6521, -6.0172, -6.0378, -6.1895, -6.3175, -6.4175, -5.99, -6.4553, -6.6192, -6.6912, -6.7069, -6.2038, -5.6252, -6.2695, -2.3088, -4.0738, -5.513, -3.1577, -4.8712, -5.6911, -3.0597, -5.1718, -4.5508, -4.6171, -3.602, -5.3731, -5.1453, -5.5917, -5.5602], \"loglift\": [30.0, 29.0, 28.0, 27.0, 26.0, 25.0, 24.0, 23.0, 22.0, 21.0, 20.0, 19.0, 18.0, 17.0, 16.0, 15.0, 14.0, 13.0, 12.0, 11.0, 10.0, 9.0, 8.0, 7.0, 6.0, 5.0, 4.0, 3.0, 2.0, 1.0, 0.3735, 0.3735, 0.3735, 0.3734, 0.3734, 0.3734, 0.3734, 0.3734, 0.3734, 0.3734, 0.3733, 0.3733, 0.3733, 0.3733, 0.3733, 0.3733, 0.3732, 0.3732, 0.3732, 0.3732, 0.3732, 0.3732, 0.3732, 0.3732, 0.3731, 0.3731, 0.3731, 0.3731, 0.3731, 0.3731, 0.3694, 0.3723, 0.373, 0.3091, 0.3625, 0.3296, 0.1686, -0.3073, 0.1395, -1.372, 1.1655, 1.1653, 1.1653, 1.1651, 1.1646, 1.1644, 1.1644, 1.1639, 1.1639, 1.1637, 1.1637, 1.1635, 1.1629, 1.1628, 1.1628, 1.1626, 1.1626, 1.1625, 1.1623, 1.1607, 1.1605, 1.1598, 1.1598, 1.1595, 1.159, 1.1584, 1.1576, 1.1573, 1.1571, 1.1567, 1.1514, 1.1549, 1.101, 1.1183, 1.14, 1.0628, 1.1, 1.1336, 0.9737, 1.1006, 0.9063, 0.8782, 0.46, 1.0264, 0.7967, 0.6994, -0.5198]}, \"token.table\": {\"Topic\": [1, 1, 2, 1, 2, 1, 2, 1, 2, 1, 1, 1, 2, 1, 2, 1, 2, 1, 2, 1, 2, 1, 1, 2, 1, 1, 2, 1, 1, 2, 1, 2, 1, 2, 1, 1, 2, 1, 2, 1, 1, 2, 1, 2, 1, 1, 1, 2, 1, 2, 1, 2, 1, 2, 1, 2, 1, 2, 1, 2, 1, 1, 2, 1, 2, 1, 1, 1, 2, 1, 2, 1, 2, 1, 2, 1, 1, 2, 1, 2, 1, 2, 1, 1, 1, 2, 1, 2, 1, 2, 1, 2, 1, 2, 1, 2, 1, 2, 1, 2, 1, 2, 1, 2, 1, 1, 2, 1, 2, 1, 2, 1, 1, 2, 1, 2, 1, 2, 1, 2, 1, 2, 1, 2, 1, 1, 2, 1, 2, 1, 2, 1, 2, 1, 1, 2, 1, 2, 1, 1, 2, 1, 1, 2, 1, 2], \"Freq\": [0.9995558972741644, 0.0014872242222703112, 0.9979274531433787, 0.17459326348187018, 0.8254315076600061, 0.0976906396367173, 0.9024668499281246, 0.0023460623255541677, 0.9970764883605213, 1.0000636848414017, 0.9998100998901112, 0.006740508787541302, 0.9942250461623421, 0.9999880570344959, 0.000765687639383228, 0.00017024883508012087, 0.9998714084255499, 0.00678321747673225, 0.9903497516029085, 0.06311710123681435, 0.9369383028042664, 0.9995104493745718, 0.004679963444243511, 0.9921522501796245, 0.9998460767865499, 0.0016312806333963936, 0.998343747638593, 0.9999669073228912, 0.0018886711416944632, 0.9980577722109852, 0.00631381027498193, 0.991268213172163, 0.01393483858709442, 0.9870510665858547, 0.9997681984584859, 0.9998877364721346, 0.0010833019896772855, 0.1305980580005957, 0.8695919471746983, 0.9998523293929963, 0.9998920352018947, 0.0006300516919986735, 0.005364056017311084, 0.9923503632025505, 1.0000140354827716, 0.9999813230037291, 0.9998007594335859, 0.0008141699995387508, 0.9570212800955877, 0.04332970362637503, 0.06249278971442581, 0.9375520836387319, 0.0034690036984844365, 0.9956040614650332, 0.001183049867151676, 0.9984940878760146, 0.00023263121479847723, 0.9996163299890566, 6.429050522141667e-05, 0.9999102277086936, 0.9995075521171701, 0.9958065013727694, 0.004128551000716291, 0.0009110866490500769, 0.9985509673588843, 0.9995955133844966, 0.9994041608650492, 0.008327956618143615, 0.9910268375590903, 0.9994534634531088, 0.0008259945978951312, 0.0035406789346616547, 0.994930780639925, 0.9998928319649126, 0.00024346063597879537, 0.9997345602942135, 0.008877599519836332, 0.9898523464617509, 0.0017697889614560806, 0.9981609742612294, 0.0009725533350273587, 0.9988122750730974, 0.9997998400257936, 1.0000065947401342, 0.03167698138057517, 0.9673662775452571, 0.06330924027649075, 0.936146470973683, 0.5062188621377234, 0.4939133291778273, 0.002670816254538045, 0.9975498710699598, 0.0008351690260985915, 0.9988621552139154, 0.30845652947433944, 0.6915071216320159, 0.006889630456836254, 0.9921067857844205, 0.02462773300523895, 0.9748477647907086, 0.9995959047841911, 0.0004623477820463419, 0.000347137760565412, 0.9994096126678211, 0.9998866363889938, 0.7916140271236004, 0.2084341520958471, 0.9996476675543985, 0.00035310761835195993, 0.0025658698464498405, 0.998123370268988, 0.9995673935112813, 0.002411768118957807, 0.9960602331295743, 0.002249190202109695, 0.9963912595345948, 0.04618934581964221, 0.9537861822344674, 0.2495597663635857, 0.7499690136456078, 0.3730078489528045, 0.627396343640924, 0.005170660382936837, 0.9927667935238728, 0.9998795806721748, 0.9885165364574384, 0.011222515078040929, 0.0036589484845929152, 0.9970634620515694, 0.8146046472440824, 0.18534199156281736, 0.9995277440601902, 0.0004775574505782084, 0.9997180285479007, 0.9991429158919026, 0.0009579510219481329, 0.2283996648346002, 0.7714695200799131, 0.9991415971831117, 0.002018083012819633, 0.9969330083328988, 0.999940096347203, 0.9375496931421512, 0.06256393684595539, 0.004117591866288805, 0.992339639775602], \"Term\": [\"account\", \"at_least\", \"at_least\", \"bit\", \"bit\", \"bit_ly\", \"bit_ly\", \"bus\", \"bus\", \"can\", \"cause\", \"child\", \"child\", \"claim\", \"claim\", \"co\", \"co\", \"collide\", \"collide\", \"com\", \"com\", \"country\", \"critically\", \"critically\", \"day\", \"dead\", \"dead\", \"death\", \"die\", \"die\", \"district\", \"district\", \"dlvr\", \"dlvr\", \"drive\", \"driver\", \"driver\", \"family\", \"family\", \"fatal\", \"fatality\", \"fatality\", \"former\", \"former\", \"help\", \"high\", \"highway\", \"highway\", \"hour\", \"hour\", \"http\", \"http\", \"hurt\", \"hurt\", \"include\", \"include\", \"injure\", \"injure\", \"kill\", \"kill\", \"last\", \"lead\", \"lead\", \"least\", \"least\", \"life\", \"lose\", \"lucknow\", \"lucknow\", \"many\", \"many\", \"member\", \"member\", \"more\", \"more\", \"most\", \"mountain\", \"mountain\", \"news\", \"news\", \"northern\", \"northern\", \"now\", \"number\", \"old\", \"old\", \"other\", \"other\", \"people\", \"people\", \"person\", \"person\", \"pilgrim\", \"pilgrim\", \"police\", \"police\", \"policeman\", \"policeman\", \"pti\", \"pti\", \"reduce\", \"reduce\", \"road\", \"road\", \"safety\", \"say\", \"say\", \"second\", \"second\", \"separate\", \"separate\", \"so\", \"son\", \"son\", \"student\", \"student\", \"time\", \"time\", \"tinyurl_com\", \"tinyurl_com\", \"today\", \"today\", \"tourist\", \"tourist\", \"traffic\", \"transport\", \"transport\", \"truck\", \"truck\", \"use_twitter_curb\", \"use_twitter_curb\", \"vehicle\", \"vehicle\", \"victim\", \"way\", \"way\", \"when\", \"when\", \"will\", \"woman\", \"woman\", \"world\", \"year\", \"year\", \"youth\", \"youth\"]}, \"R\": 30, \"lambda.step\": 0.01, \"plot.opts\": {\"xlab\": \"PC1\", \"ylab\": \"PC2\"}, \"topic.order\": [1, 2]};\n",
              "\n",
              "function LDAvis_load_lib(url, callback){\n",
              "  var s = document.createElement('script');\n",
              "  s.src = url;\n",
              "  s.async = true;\n",
              "  s.onreadystatechange = s.onload = callback;\n",
              "  s.onerror = function(){console.warn(\"failed to load library \" + url);};\n",
              "  document.getElementsByTagName(\"head\")[0].appendChild(s);\n",
              "}\n",
              "\n",
              "if(typeof(LDAvis) !== \"undefined\"){\n",
              "   // already loaded: just create the visualization\n",
              "   !function(LDAvis){\n",
              "       new LDAvis(\"#\" + \"ldavis_el1441401336864825123705730181\", ldavis_el1441401336864825123705730181_data);\n",
              "   }(LDAvis);\n",
              "}else if(typeof define === \"function\" && define.amd){\n",
              "   // require.js is available: use it to load d3/LDAvis\n",
              "   require.config({paths: {d3: \"https://d3js.org/d3.v5\"}});\n",
              "   require([\"d3\"], function(d3){\n",
              "      window.d3 = d3;\n",
              "      LDAvis_load_lib(\"https://cdn.jsdelivr.net/gh/bmabey/pyLDAvis@3.3.1/pyLDAvis/js/ldavis.v3.0.0.js\", function(){\n",
              "        new LDAvis(\"#\" + \"ldavis_el1441401336864825123705730181\", ldavis_el1441401336864825123705730181_data);\n",
              "      });\n",
              "    });\n",
              "}else{\n",
              "    // require.js not available: dynamically load d3 & LDAvis\n",
              "    LDAvis_load_lib(\"https://d3js.org/d3.v5.js\", function(){\n",
              "         LDAvis_load_lib(\"https://cdn.jsdelivr.net/gh/bmabey/pyLDAvis@3.3.1/pyLDAvis/js/ldavis.v3.0.0.js\", function(){\n",
              "                 new LDAvis(\"#\" + \"ldavis_el1441401336864825123705730181\", ldavis_el1441401336864825123705730181_data);\n",
              "            })\n",
              "         });\n",
              "}\n",
              "</script>"
            ],
            "text/plain": [
              "PreparedData(topic_coordinates=              x         y  topics  cluster       Freq\n",
              "topic                                                \n",
              "0     -0.013679 -0.241399       1        1  68.825086\n",
              "1      0.013679  0.241399       2        1  31.174914, topic_info=                   Term          Freq         Total Category  logprob  loglift\n",
              "359                kill  15554.000000  15554.000000  Default  30.0000  30.0000\n",
              "6521               http  12481.000000  12481.000000  Default  29.0000  29.0000\n",
              "86                   co   5873.000000   5873.000000  Default  28.0000  28.0000\n",
              "25                  die   4765.000000   4765.000000  Default  27.0000  27.0000\n",
              "3294                bit   6689.000000   6689.000000  Default  26.0000  26.0000\n",
              "...                 ...           ...           ...      ...      ...      ...\n",
              "11               people   3210.579653   6501.140606   Topic2  -3.6020   0.4600\n",
              "411              family    546.302031    627.880699   Topic2  -5.3731   1.0264\n",
              "472              police    686.051215    992.036059   Topic2  -5.1453   0.7967\n",
              "312               today    439.020130    699.717179   Topic2  -5.5917   0.6994\n",
              "27307  use_twitter_curb    453.087020   2444.130422   Topic2  -5.5602  -0.5198\n",
              "\n",
              "[117 rows x 6 columns], token_table=      Topic      Freq      Term\n",
              "term                           \n",
              "102       1  0.999556   account\n",
              "486       1  0.001487  at_least\n",
              "486       2  0.997927  at_least\n",
              "3294      1  0.174593       bit\n",
              "3294      2  0.825432       bit\n",
              "...     ...       ...       ...\n",
              "207       1  0.999940     world\n",
              "141       1  0.937550      year\n",
              "141       2  0.062564      year\n",
              "696       1  0.004118     youth\n",
              "696       2  0.992340     youth\n",
              "\n",
              "[146 rows x 3 columns], R=30, lambda_step=0.01, plot_opts={'xlab': 'PC1', 'ylab': 'PC2'}, topic_order=[1, 2])"
            ]
          },
          "metadata": {},
          "execution_count": 116
        }
      ],
      "source": [
        "vis2 = gensim_models.prepare(ldamodel2, corpus, id2word, mds=\"mmds\", R=30)\n",
        "vis2"
      ]
    },
    {
      "cell_type": "code",
      "execution_count": null,
      "metadata": {
        "id": "QP39x0aSCx9G",
        "colab": {
          "base_uri": "https://localhost:8080/",
          "height": 146
        },
        "outputId": "8056d22c-24ca-414f-9bf8-b39fce71d775"
      },
      "outputs": [
        {
          "output_type": "execute_result",
          "data": {
            "text/html": [
              "<style type=\"text/css\">\n",
              "#T_45005_row0_col2, #T_45005_row1_col2 {\n",
              "  width: 300px;\n",
              "}\n",
              "</style>\n",
              "<table id=\"T_45005_\" class=\"dataframe\">\n",
              "  <thead>\n",
              "    <tr>\n",
              "      <th class=\"blank level0\" >&nbsp;</th>\n",
              "      <th class=\"col_heading level0 col0\" >TopicNumber</th>\n",
              "      <th class=\"col_heading level0 col1\" >TopicName</th>\n",
              "      <th class=\"col_heading level0 col2\" >TopKeywords</th>\n",
              "    </tr>\n",
              "  </thead>\n",
              "  <tbody>\n",
              "    <tr>\n",
              "      <th id=\"T_45005_level0_row0\" class=\"row_heading level0 row0\" >0</th>\n",
              "      <td id=\"T_45005_row0_col0\" class=\"data row0 col0\" >0</td>\n",
              "      <td id=\"T_45005_row0_col1\" class=\"data row0 col1\" >accident_event_data</td>\n",
              "      <td id=\"T_45005_row0_col2\" class=\"data row0 col2\" >['death', 'year', 'more', 'lead', 'world', 'people', 'high', 'second', 'number', 'reduce']</td>\n",
              "    </tr>\n",
              "    <tr>\n",
              "      <th id=\"T_45005_level0_row1\" class=\"row_heading level0 row1\" >1</th>\n",
              "      <td id=\"T_45005_row1_col0\" class=\"data row1 col0\" >1</td>\n",
              "      <td id=\"T_45005_row1_col1\" class=\"data row1 col1\" >information_data</td>\n",
              "      <td id=\"T_45005_row1_col2\" class=\"data row1 col2\" >['kill', 'http', 'co', 'bit', 'bit', 'ly', 'die', 'injure', 'people', 'road', 'time']</td>\n",
              "    </tr>\n",
              "  </tbody>\n",
              "</table>\n"
            ],
            "text/plain": [
              "<pandas.io.formats.style.Styler at 0x7f7368654d50>"
            ]
          },
          "metadata": {},
          "execution_count": 117
        }
      ],
      "source": [
        "# Creating a lookup table for topics\n",
        "topic_data = pd.DataFrame((ldamodel2.print_topics()),columns=['TopicNumber','TopKeywords'])\n",
        "topic_data['TopicName'] = ['accident_event_data', 'information_data'] #enter selected topics names here\n",
        "topic_data = topic_data[['TopicNumber','TopicName','TopKeywords']]\n",
        "topic_data['TopKeywords'] = topic_data.TopKeywords.str.replace(r'[^a-z]',' ',regex=True).apply(lambda x: x.split())\n",
        "topic_data.style.set_properties(subset=['TopKeywords'], **{'width': '300px'})"
      ]
    },
    {
      "cell_type": "code",
      "source": [
        "df.isnull().sum()"
      ],
      "metadata": {
        "colab": {
          "base_uri": "https://localhost:8080/"
        },
        "id": "aKhcpnjDau3T",
        "outputId": "f8a82198-49c8-414b-eb78-c6ecf57c9d92"
      },
      "execution_count": null,
      "outputs": [
        {
          "output_type": "execute_result",
          "data": {
            "text/plain": [
              "id                13\n",
              "tweet             13\n",
              "time              13\n",
              "cleaned_text      13\n",
              "cleaned_text1     13\n",
              "labelFromVADER    13\n",
              "TopicNumber       13\n",
              "dtype: int64"
            ]
          },
          "metadata": {},
          "execution_count": 120
        }
      ]
    },
    {
      "cell_type": "code",
      "source": [
        "#Creating new columns and inserting topic numbers and names\n",
        "for index,sent in enumerate(ldamodel2[corpus]):\n",
        "  topic_num =[]\n",
        "  topic_details = sorted(sent,key=lambda x: x[1], reverse=True)[:2] # Getting top 2 topics in descending order\n",
        "  topic_num.append(topic_details[0][0]) # Appending top topic\n",
        "  if len(topic_details) > 1:\n",
        "    if topic_details[1][1] > 0.35: # Appending second topic only if it has more than 35% influence on current row\n",
        "      topic_num.append(topic_details[1][0])\n",
        "  df.loc[index,'TopicNumber'] = ','.join(str(x) for x in sorted(topic_num))"
      ],
      "metadata": {
        "id": "eh7GhISrZtTX"
      },
      "execution_count": null,
      "outputs": []
    },
    {
      "cell_type": "code",
      "source": [
        "df.dropna(inplace = True)"
      ],
      "metadata": {
        "id": "IQirQ_nHlBKc"
      },
      "execution_count": null,
      "outputs": []
    },
    {
      "cell_type": "code",
      "execution_count": null,
      "metadata": {
        "id": "J1CDPRwTCx9G"
      },
      "outputs": [],
      "source": [
        "for index,topic_num in enumerate(df.TopicNumber):\n",
        "  topic_name_list=[]\n",
        "  for single_topic_num in (topic_num).split(','):\n",
        "    single_topic_num=int(single_topic_num)\n",
        "    topic_name_list.append(topic_data.loc[topic_data.TopicNumber == single_topic_num,'TopicName'][single_topic_num]) \n",
        "  # Extracting topic names from lookup table\n",
        "  df.loc[index,'TopicName'] =' & '.join(topic_name_list)"
      ]
    },
    {
      "cell_type": "code",
      "execution_count": null,
      "metadata": {
        "id": "6TgOEI4BCx9G",
        "colab": {
          "base_uri": "https://localhost:8080/",
          "height": 337
        },
        "outputId": "2d39fcfa-dba7-4eaf-de98-5eaed95a1ec9"
      },
      "outputs": [
        {
          "output_type": "execute_result",
          "data": {
            "text/html": [
              "\n",
              "  <div id=\"df-2180a424-5d28-4ebc-8d55-68037e8204f7\">\n",
              "    <div class=\"colab-df-container\">\n",
              "      <div>\n",
              "<style scoped>\n",
              "    .dataframe tbody tr th:only-of-type {\n",
              "        vertical-align: middle;\n",
              "    }\n",
              "\n",
              "    .dataframe tbody tr th {\n",
              "        vertical-align: top;\n",
              "    }\n",
              "\n",
              "    .dataframe thead th {\n",
              "        text-align: right;\n",
              "    }\n",
              "</style>\n",
              "<table border=\"1\" class=\"dataframe\">\n",
              "  <thead>\n",
              "    <tr style=\"text-align: right;\">\n",
              "      <th></th>\n",
              "      <th>id</th>\n",
              "      <th>tweet</th>\n",
              "      <th>time</th>\n",
              "      <th>cleaned_text</th>\n",
              "      <th>cleaned_text1</th>\n",
              "      <th>labelFromVADER</th>\n",
              "      <th>TopicNumber</th>\n",
              "      <th>TopicName</th>\n",
              "    </tr>\n",
              "  </thead>\n",
              "  <tbody>\n",
              "    <tr>\n",
              "      <th>0</th>\n",
              "      <td>1480483510896902145</td>\n",
              "      <td>If you get to know about the statistics of roa...</td>\n",
              "      <td>Mon Jan 10 10:15:49 +0000 2022</td>\n",
              "      <td>get know statistic road accident minute will s...</td>\n",
              "      <td>[get, know, statistic, road, accident, minute,...</td>\n",
              "      <td>neg</td>\n",
              "      <td>0</td>\n",
              "      <td>accident_event_data</td>\n",
              "    </tr>\n",
              "    <tr>\n",
              "      <th>1</th>\n",
              "      <td>1480500301941522433</td>\n",
              "      <td>That’s how a people’s leader acts.</td>\n",
              "      <td>Mon Jan 10 11:22:33 +0000 2022</td>\n",
              "      <td>s how people leader act</td>\n",
              "      <td>[how, people, leader, act]</td>\n",
              "      <td>neg</td>\n",
              "      <td>0</td>\n",
              "      <td>accident_event_data</td>\n",
              "    </tr>\n",
              "    <tr>\n",
              "      <th>2</th>\n",
              "      <td>1480537770539978752</td>\n",
              "      <td>who has posed a direct/Indirect challenge to E...</td>\n",
              "      <td>Mon Jan 10 13:51:26 +0000 2022</td>\n",
              "      <td>pose direct indirect challenge eaam die air cr...</td>\n",
              "      <td>[pose_direct_indirect_challenge, eaam, die, ai...</td>\n",
              "      <td>neg</td>\n",
              "      <td>0</td>\n",
              "      <td>accident_event_data</td>\n",
              "    </tr>\n",
              "    <tr>\n",
              "      <th>3</th>\n",
              "      <td>1480666410418331657</td>\n",
              "      <td>@Suhelseth No real life that we normally see i...</td>\n",
              "      <td>Mon Jan 10 22:22:36 +0000 2022</td>\n",
              "      <td>real life normally see road accident all doesn...</td>\n",
              "      <td>[real, life, normally, see, road, accident, al...</td>\n",
              "      <td>neg</td>\n",
              "      <td>0</td>\n",
              "      <td>accident_event_data</td>\n",
              "    </tr>\n",
              "    <tr>\n",
              "      <th>4</th>\n",
              "      <td>1480384703232294913</td>\n",
              "      <td>Namaskar,\\nrequest u all 2 help us Mysuru resi...</td>\n",
              "      <td>Mon Jan 10 03:43:12 +0000 2022</td>\n",
              "      <td>request help mysuru resident inside city road ...</td>\n",
              "      <td>[request, help, mysuru, resident, inside, city...</td>\n",
              "      <td>neg</td>\n",
              "      <td>0</td>\n",
              "      <td>accident_event_data</td>\n",
              "    </tr>\n",
              "  </tbody>\n",
              "</table>\n",
              "</div>\n",
              "      <button class=\"colab-df-convert\" onclick=\"convertToInteractive('df-2180a424-5d28-4ebc-8d55-68037e8204f7')\"\n",
              "              title=\"Convert this dataframe to an interactive table.\"\n",
              "              style=\"display:none;\">\n",
              "        \n",
              "  <svg xmlns=\"http://www.w3.org/2000/svg\" height=\"24px\"viewBox=\"0 0 24 24\"\n",
              "       width=\"24px\">\n",
              "    <path d=\"M0 0h24v24H0V0z\" fill=\"none\"/>\n",
              "    <path d=\"M18.56 5.44l.94 2.06.94-2.06 2.06-.94-2.06-.94-.94-2.06-.94 2.06-2.06.94zm-11 1L8.5 8.5l.94-2.06 2.06-.94-2.06-.94L8.5 2.5l-.94 2.06-2.06.94zm10 10l.94 2.06.94-2.06 2.06-.94-2.06-.94-.94-2.06-.94 2.06-2.06.94z\"/><path d=\"M17.41 7.96l-1.37-1.37c-.4-.4-.92-.59-1.43-.59-.52 0-1.04.2-1.43.59L10.3 9.45l-7.72 7.72c-.78.78-.78 2.05 0 2.83L4 21.41c.39.39.9.59 1.41.59.51 0 1.02-.2 1.41-.59l7.78-7.78 2.81-2.81c.8-.78.8-2.07 0-2.86zM5.41 20L4 18.59l7.72-7.72 1.47 1.35L5.41 20z\"/>\n",
              "  </svg>\n",
              "      </button>\n",
              "      \n",
              "  <style>\n",
              "    .colab-df-container {\n",
              "      display:flex;\n",
              "      flex-wrap:wrap;\n",
              "      gap: 12px;\n",
              "    }\n",
              "\n",
              "    .colab-df-convert {\n",
              "      background-color: #E8F0FE;\n",
              "      border: none;\n",
              "      border-radius: 50%;\n",
              "      cursor: pointer;\n",
              "      display: none;\n",
              "      fill: #1967D2;\n",
              "      height: 32px;\n",
              "      padding: 0 0 0 0;\n",
              "      width: 32px;\n",
              "    }\n",
              "\n",
              "    .colab-df-convert:hover {\n",
              "      background-color: #E2EBFA;\n",
              "      box-shadow: 0px 1px 2px rgba(60, 64, 67, 0.3), 0px 1px 3px 1px rgba(60, 64, 67, 0.15);\n",
              "      fill: #174EA6;\n",
              "    }\n",
              "\n",
              "    [theme=dark] .colab-df-convert {\n",
              "      background-color: #3B4455;\n",
              "      fill: #D2E3FC;\n",
              "    }\n",
              "\n",
              "    [theme=dark] .colab-df-convert:hover {\n",
              "      background-color: #434B5C;\n",
              "      box-shadow: 0px 1px 3px 1px rgba(0, 0, 0, 0.15);\n",
              "      filter: drop-shadow(0px 1px 2px rgba(0, 0, 0, 0.3));\n",
              "      fill: #FFFFFF;\n",
              "    }\n",
              "  </style>\n",
              "\n",
              "      <script>\n",
              "        const buttonEl =\n",
              "          document.querySelector('#df-2180a424-5d28-4ebc-8d55-68037e8204f7 button.colab-df-convert');\n",
              "        buttonEl.style.display =\n",
              "          google.colab.kernel.accessAllowed ? 'block' : 'none';\n",
              "\n",
              "        async function convertToInteractive(key) {\n",
              "          const element = document.querySelector('#df-2180a424-5d28-4ebc-8d55-68037e8204f7');\n",
              "          const dataTable =\n",
              "            await google.colab.kernel.invokeFunction('convertToInteractive',\n",
              "                                                     [key], {});\n",
              "          if (!dataTable) return;\n",
              "\n",
              "          const docLinkHtml = 'Like what you see? Visit the ' +\n",
              "            '<a target=\"_blank\" href=https://colab.research.google.com/notebooks/data_table.ipynb>data table notebook</a>'\n",
              "            + ' to learn more about interactive tables.';\n",
              "          element.innerHTML = '';\n",
              "          dataTable['output_type'] = 'display_data';\n",
              "          await google.colab.output.renderOutput(dataTable, element);\n",
              "          const docLink = document.createElement('div');\n",
              "          docLink.innerHTML = docLinkHtml;\n",
              "          element.appendChild(docLink);\n",
              "        }\n",
              "      </script>\n",
              "    </div>\n",
              "  </div>\n",
              "  "
            ],
            "text/plain": [
              "                    id  ...            TopicName\n",
              "0  1480483510896902145  ...  accident_event_data\n",
              "1  1480500301941522433  ...  accident_event_data\n",
              "2  1480537770539978752  ...  accident_event_data\n",
              "3  1480666410418331657  ...  accident_event_data\n",
              "4  1480384703232294913  ...  accident_event_data\n",
              "\n",
              "[5 rows x 8 columns]"
            ]
          },
          "metadata": {},
          "execution_count": 123
        }
      ],
      "source": [
        "df.head()"
      ]
    },
    {
      "cell_type": "code",
      "source": [
        "df.dropna(inplace = True)"
      ],
      "metadata": {
        "id": "jnAeX6fHn996"
      },
      "execution_count": null,
      "outputs": []
    },
    {
      "cell_type": "code",
      "source": [
        "range(df.shape[0])"
      ],
      "metadata": {
        "colab": {
          "base_uri": "https://localhost:8080/"
        },
        "id": "_HaYI1PlnoXk",
        "outputId": "76381f9f-f78b-4c0b-c99d-8597669f9896"
      },
      "execution_count": null,
      "outputs": [
        {
          "output_type": "execute_result",
          "data": {
            "text/plain": [
              "range(0, 41061)"
            ]
          },
          "metadata": {},
          "execution_count": 145
        }
      ]
    },
    {
      "cell_type": "code",
      "source": [
        "df['label'] = df.TopicName.str.cat(df.labelFromVADER, sep='_')"
      ],
      "metadata": {
        "id": "WfPCKjlzm2eq"
      },
      "execution_count": null,
      "outputs": []
    },
    {
      "cell_type": "code",
      "source": [
        "df['label'] = df['label'].str.replace('information_data_neg', 'accident_event_neg')\n",
        "df['label'] = df['label'].str.replace('accident_event_data_neg', 'information_neg')"
      ],
      "metadata": {
        "id": "7wYChVnxtE2u"
      },
      "execution_count": null,
      "outputs": []
    },
    {
      "cell_type": "code",
      "execution_count": null,
      "metadata": {
        "id": "kQpaUMZgCx9G",
        "colab": {
          "base_uri": "https://localhost:8080/"
        },
        "outputId": "6d9ab348-cbac-4fe8-ece0-0a449fddab69"
      },
      "outputs": [
        {
          "output_type": "execute_result",
          "data": {
            "text/plain": [
              "array(['information_neg', 'accident_event_neg', 'accident_event_data_pos',\n",
              "       'accident_event_data & accident_event_neg',\n",
              "       'accident_event_data & information_data_pos',\n",
              "       'information_data_pos'], dtype=object)"
            ]
          },
          "metadata": {},
          "execution_count": 187
        }
      ],
      "source": [
        "df.label.unique()"
      ]
    },
    {
      "cell_type": "code",
      "execution_count": 200,
      "metadata": {
        "id": "BoPRiyegCx9H",
        "colab": {
          "base_uri": "https://localhost:8080/"
        },
        "outputId": "76911d18-0b02-41bd-dd60-cc07805ef988"
      },
      "outputs": [
        {
          "output_type": "stream",
          "name": "stdout",
          "text": [
            "#Thanks_BSF for reaching in time and saving the precious lives of people when fire broke out at station road of #Barmer \n",
            "#BSF_The_FireFighters \n",
            "#Rajasthan #India  \n",
            "#Accident  #NishaDahiya https://t.co/wPxrIbV3lo\n",
            "\n",
            "Praises for #EveryDayHero #RPF Haridwar HC Manoj Bhandari. He helped 22 stranded injured pilgrims on road after an accident near #Haridwar when no passerby came for help. He assisted them coordinating with NHAI and other agencies.\n",
            "@AshwiniVaishnaw @sanjay_chander @RailMinIndia https://t.co/qgOO2fA8qV\n",
            "\n",
            "It will help reducing road accidents too. Good for road safety.\n",
            "From the Times of India:  https://t.co/vv2ZPxrrpk\n",
            "\n",
            "#BREAKING #BreakingNews \n",
            "@BSF_India rescued two siblings who got injured in a road accident in #WestBengal .\n",
            "The #BSF Jawans took them to nearby hospital in the mean time and saved their lives.\n",
            "Kudos to #BSF_Saviours . #JaiHind \n",
            "#WellDoneBSF\n",
            "#BSFSavioursOfDemocracy https://t.co/Lw6rjEjGxe\n",
            "\n",
            "Adequate awareness is definitely needed due to numerous road accidents in India. Awesome to see @apollotyreltd spreading the message to #DimTheLights for a brighter tomorrow!\n",
            "\n",
            "@AgentSaffron Japanese bullet train has carried 10 billion passengers with oly 120 million population. Amazing la\n",
            "\n",
            "Male blue ox rescued by me and Friends from patodi road gurugram road accident @PetaIndia @NWF @WCT_India @wti_org_india @Defenders @chkanwarpal @OPDhankar @PrakashJavdekar https://t.co/qPe9SYp75v\n",
            "\n",
            "Potholes absent from road maintenance.. Courtesy: Bangalore Mirror Read* https://t.co/kAmxoTtoa9 Awareness, education &amp; info sharing effort by* https://t.co/Dn2WHsnTLi Bus &amp; Car Operators Confederation of India #BOCI #SIMTA #AIRTRTI #TEUG #RTASG #Logistics #Safety #Accidents #IoT https://t.co/53hlMzVkA4\n",
            "\n",
            "@IITKanpur Great symposium on 29 August!!!!\n",
            "https://t.co/MK9MnMVguA https://t.co/F20Ak21ke4\n",
            "\n",
            "I express my heartfelt condolences towards the accidental demise of air passengers of Pakistan in Karanchi Aircrash on 22nd May’2020. Praying to God to give strength to the family members to bear the irreparable loss.\n",
            "\n",
            "Goyal's Son: Harvard\n",
            "Javdekar's Son: Boston Univ\n",
            "Rajnath's Son: Leeds Univ\n",
            "Nirmala's Daughter: NW Univ\n",
            "RS Prasad's Son: Cornell\n",
            "\n",
            "Their children are safe &amp; successful. Even Shah's son is relaxing in BCCI\n",
            "\n",
            "But India's children of the poor are left to fate &amp; told to be Aatma Nirbhar https://t.co/fXnLM0xlRr\n",
            "\n",
            "A girl of a #HimachalPradesh school did an act of bravery in 2018 by rescuing her family members, comprising his ex-serviceman grandfather, and the driver who met a road accident. #braveryaward #RepublicDay https://t.co/jCgJrhnJ47\n",
            "\n",
            "31st National Road Safety Week: India's most important road safety initiatives... Safety &amp; Accident Prevention Series* https://t.co/jHBQpraW5Y Awareness, education &amp; info* https://t.co/Hqci6Vdd8q All India Road Transport Research &amp; Technology Institute @ https://t.co/AUuBEqDW78 https://t.co/8wRckeeM7U\n",
            "\n",
            "MoRTH signs pact with Indian Roads Congress (IRC) &amp; IIT-Roorkee, to enhance Road Safety.. Vehicle &amp; Accident Prevention Series* https://t.co/jIif0ecWP2 Awareness, education &amp; info* https://t.co/JOk1Fevwtd All India Confederation Of Goods Vehicle Owners' Associations #DTiX #Safety https://t.co/9edWHBtWyN\n",
            "\n",
            "Road safety week: Can India meet its 2020 target?... Road Safety &amp; Accident Prevention Series* https://t.co/m2KBGtywyk Awareness, education &amp; info* https://t.co/Hqci6Vdd8q All India Road Transport Research &amp; Technology Institute @ https://t.co/AUuBEqDW78 #DTiX #BOCI #SIMTA #RTASG https://t.co/BALvprYevp\n",
            "\n",
            "@Subashini_BA PLEASE 🙏🙏#SaveIndianElephants from Road &amp; Train accidents \n",
            "@moefcc\n",
            "@drharshvardhan\n",
            "@RailMinIndia\n",
            "@PiyushGoyal\n",
            "@nitin_gadkari\n",
            "@PMOIndia\n",
            "@HMOIndia\n",
            "@narendramodi\n",
            "\n",
            "Pic1:how #Singapore saves #Elephants\n",
            "Pic2: Elephants in India\n",
            "\n",
            "Dont we have any Engineers to solve this ? https://t.co/iBXlYU5lH6\n",
            "\n",
            "@akshaykumar @MumMetro Sir plz see all road in India see da condition of road in various state sir when all states peoples freely move when govt gift clear road.when sir road acviednt vanish..sirr i have a plan to decreses road accident if u help govt allow all road are one way..\n",
            "\n",
            "Explained: What the government intends to do to improve road safety?.. Road Safety &amp; Accident Prevention Series. Read more* https://t.co/Wk5NgBFS7d *Weblink by https://t.co/4FqTKJyH3A Bus Operators Confederation of India #DTiX #AIRTRTI #TEUG #RTASG #Passengers #Buses #Cars #Tours https://t.co/9X3Ftf7Uui\n",
            "\n",
            "#SavingLivesOnRoads\n",
            "With the inspiration ot Dr. MSG, the dera volunteer across India tie radium tapes as reflector around the necks of stray animals. This has drastically brought down the no. Of road accident. @Gurmeetramrahim @derasachasauda https://t.co/w6La7b8ohH.\n",
            "\n",
            "#SavingLivesOnRoads\n",
            "With the inspiration ot Dr. MSG, the dera volunteer across India tie radium tapes as reflector around the necks of stray animals. This has drastically brought down the no. Of road accident. @Gurmeetramrahim @derasachasauda https://t.co/w6La7b8ohH..\n",
            "\n"
          ]
        }
      ],
      "source": [
        "for i in df[df.label == 'accident_event_data & information_data_pos']['tweet'][:20]:\n",
        "  print(i)\n",
        "  print()"
      ]
    },
    {
      "cell_type": "code",
      "execution_count": 194,
      "metadata": {
        "id": "yC5Hg3MyCx9H"
      },
      "outputs": [],
      "source": [
        "df.to_csv('Tweets_with_Labels.csv')"
      ]
    },
    {
      "cell_type": "code",
      "execution_count": null,
      "metadata": {
        "id": "ETCCXXSMCx9H"
      },
      "outputs": [],
      "source": [
        ""
      ]
    }
  ],
  "metadata": {
    "kernelspec": {
      "display_name": "Python 3",
      "language": "python",
      "name": "python3"
    },
    "language_info": {
      "codemirror_mode": {
        "name": "ipython",
        "version": 3
      },
      "file_extension": ".py",
      "mimetype": "text/x-python",
      "name": "python",
      "nbconvert_exporter": "python",
      "pygments_lexer": "ipython3",
      "version": "3.8.3"
    },
    "colab": {
      "name": "LDA_sentiment_analysis_twitter.ipynb",
      "provenance": [],
      "collapsed_sections": []
    }
  },
  "nbformat": 4,
  "nbformat_minor": 0
}