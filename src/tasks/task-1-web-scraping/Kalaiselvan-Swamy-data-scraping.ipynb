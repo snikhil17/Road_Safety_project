{
 "cells": [
  {
   "cell_type": "code",
   "execution_count": 1,
   "id": "bridal-application",
   "metadata": {},
   "outputs": [
    {
     "name": "stdout",
     "output_type": "stream",
     "text": [
      "Requirement already satisfied: newsapi-python in /opt/anaconda3/lib/python3.8/site-packages (0.2.6)\n",
      "Requirement already satisfied: requests<3.0.0 in /opt/anaconda3/lib/python3.8/site-packages (from newsapi-python) (2.25.1)\n",
      "Requirement already satisfied: idna<3,>=2.5 in /opt/anaconda3/lib/python3.8/site-packages (from requests<3.0.0->newsapi-python) (2.10)\n",
      "Requirement already satisfied: chardet<5,>=3.0.2 in /opt/anaconda3/lib/python3.8/site-packages (from requests<3.0.0->newsapi-python) (4.0.0)\n",
      "Requirement already satisfied: urllib3<1.27,>=1.21.1 in /opt/anaconda3/lib/python3.8/site-packages (from requests<3.0.0->newsapi-python) (1.26.3)\n",
      "Requirement already satisfied: certifi>=2017.4.17 in /opt/anaconda3/lib/python3.8/site-packages (from requests<3.0.0->newsapi-python) (2020.12.5)\n"
     ]
    }
   ],
   "source": [
    "!pip3 install newsapi-python"
   ]
  },
  {
   "cell_type": "code",
   "execution_count": 2,
   "id": "vertical-animal",
   "metadata": {},
   "outputs": [
    {
     "name": "stdout",
     "output_type": "stream",
     "text": [
      "Requirement already satisfied: newspaper3k in /opt/anaconda3/lib/python3.8/site-packages (0.2.8)\n",
      "Requirement already satisfied: python-dateutil>=2.5.3 in /opt/anaconda3/lib/python3.8/site-packages (from newspaper3k) (2.8.1)\n",
      "Requirement already satisfied: feedfinder2>=0.0.4 in /opt/anaconda3/lib/python3.8/site-packages (from newspaper3k) (0.0.4)\n",
      "Requirement already satisfied: requests>=2.10.0 in /opt/anaconda3/lib/python3.8/site-packages (from newspaper3k) (2.25.1)\n",
      "Requirement already satisfied: lxml>=3.6.0 in /opt/anaconda3/lib/python3.8/site-packages (from newspaper3k) (4.6.2)\n",
      "Requirement already satisfied: beautifulsoup4>=4.4.1 in /opt/anaconda3/lib/python3.8/site-packages (from newspaper3k) (4.9.3)\n",
      "Requirement already satisfied: cssselect>=0.9.2 in /opt/anaconda3/lib/python3.8/site-packages (from newspaper3k) (1.1.0)\n",
      "Requirement already satisfied: feedparser>=5.2.1 in /opt/anaconda3/lib/python3.8/site-packages (from newspaper3k) (6.0.8)\n",
      "Requirement already satisfied: jieba3k>=0.35.1 in /opt/anaconda3/lib/python3.8/site-packages (from newspaper3k) (0.35.1)\n",
      "Requirement already satisfied: tldextract>=2.0.1 in /opt/anaconda3/lib/python3.8/site-packages (from newspaper3k) (3.1.2)\n",
      "Requirement already satisfied: PyYAML>=3.11 in /opt/anaconda3/lib/python3.8/site-packages (from newspaper3k) (5.4.1)\n",
      "Requirement already satisfied: Pillow>=3.3.0 in /opt/anaconda3/lib/python3.8/site-packages (from newspaper3k) (8.1.0)\n",
      "Requirement already satisfied: nltk>=3.2.1 in /opt/anaconda3/lib/python3.8/site-packages (from newspaper3k) (3.5)\n",
      "Requirement already satisfied: tinysegmenter==0.3 in /opt/anaconda3/lib/python3.8/site-packages (from newspaper3k) (0.3)\n",
      "Requirement already satisfied: soupsieve>1.2 in /opt/anaconda3/lib/python3.8/site-packages (from beautifulsoup4>=4.4.1->newspaper3k) (2.2)\n",
      "Requirement already satisfied: six in /opt/anaconda3/lib/python3.8/site-packages (from feedfinder2>=0.0.4->newspaper3k) (1.15.0)\n",
      "Requirement already satisfied: sgmllib3k in /opt/anaconda3/lib/python3.8/site-packages (from feedparser>=5.2.1->newspaper3k) (1.0.0)\n",
      "Requirement already satisfied: regex in /opt/anaconda3/lib/python3.8/site-packages (from nltk>=3.2.1->newspaper3k) (2020.11.13)\n",
      "Requirement already satisfied: click in /opt/anaconda3/lib/python3.8/site-packages (from nltk>=3.2.1->newspaper3k) (7.1.2)\n",
      "Requirement already satisfied: tqdm in /opt/anaconda3/lib/python3.8/site-packages (from nltk>=3.2.1->newspaper3k) (4.56.0)\n",
      "Requirement already satisfied: joblib in /opt/anaconda3/lib/python3.8/site-packages (from nltk>=3.2.1->newspaper3k) (1.0.1)\n",
      "Requirement already satisfied: urllib3<1.27,>=1.21.1 in /opt/anaconda3/lib/python3.8/site-packages (from requests>=2.10.0->newspaper3k) (1.26.3)\n",
      "Requirement already satisfied: chardet<5,>=3.0.2 in /opt/anaconda3/lib/python3.8/site-packages (from requests>=2.10.0->newspaper3k) (4.0.0)\n",
      "Requirement already satisfied: certifi>=2017.4.17 in /opt/anaconda3/lib/python3.8/site-packages (from requests>=2.10.0->newspaper3k) (2020.12.5)\n",
      "Requirement already satisfied: idna<3,>=2.5 in /opt/anaconda3/lib/python3.8/site-packages (from requests>=2.10.0->newspaper3k) (2.10)\n",
      "Requirement already satisfied: requests-file>=1.4 in /opt/anaconda3/lib/python3.8/site-packages (from tldextract>=2.0.1->newspaper3k) (1.5.1)\n",
      "Requirement already satisfied: filelock>=3.0.8 in /opt/anaconda3/lib/python3.8/site-packages (from tldextract>=2.0.1->newspaper3k) (3.0.12)\n"
     ]
    }
   ],
   "source": [
    "!pip3 install newspaper3k"
   ]
  },
  {
   "cell_type": "code",
   "execution_count": 15,
   "id": "parliamentary-garlic",
   "metadata": {},
   "outputs": [],
   "source": [
    "# importing the requests library\n",
    "import requests\n",
    "import json\n",
    "import math\n",
    "  \n",
    "# api-endpoint\n",
    "URL = \"https://newsapi.org/v2/everything?q=\\\"road accident\\\"&from=2021-09-11&to=2021-10-10&sortBy=popularity&apiKey=<enter your api key>&pageSize=100\"\n",
    "  \n",
    "# sending get request and saving the response as response object\n",
    "r = requests.get(url = URL)\n",
    "  \n",
    "# extracting data in json format\n",
    "all_articles = r.json()\n",
    "#print(json.dumps(all_articles, indent = 1))\n",
    "news_urls = []\n",
    "total = all_articles['totalResults']\n",
    "\n",
    "pages = math.ceil(total/100)\n",
    "\n",
    "i=1\n",
    "while i<=pages:\n",
    "    URL = URL + \"&page=\" + str(i)\n",
    "    # sending get request and saving the response as response object\n",
    "    r = requests.get(url = URL)\n",
    "    # extracting data in json format\n",
    "    all_articles = r.json()\n",
    "    for article in all_articles['articles']:\n",
    "        news_urls.append(article['url'])\n",
    "    i=i+1"
   ]
  },
  {
   "cell_type": "code",
   "execution_count": 16,
   "id": "educational-accountability",
   "metadata": {},
   "outputs": [
    {
     "name": "stdout",
     "output_type": "stream",
     "text": [
      "['https://www.reuters.com/lifestyle/sports/former-danish-rider-sorensen-dies-road-accident-2021-09-18/', 'https://amp.theguardian.com/commentisfree/2021/oct/07/the-guardian-view-on-facebook-the-anti-social-network', 'https://www.theglobeandmail.com/sports/article-former-danish-rider-sorensen-dies-in-road-accident/', 'https://www.nybooks.com/articles/2021/10/07/robert-maxwell-mogul-mystery/', 'https://deadline.com/2021/09/levelk-latvian-dark-comedy-samuels-travels-fantastic-fest-premiere-watch-debut-trailer-1234839141/', 'https://indianexpress.com/article/cities/ahmedabad/ahmedabad-bhadaj-road-accident-7560648/', 'https://indianexpress.com/article/cities/bangalore/court-seizes-karnataka-governments-bus-for-not-paying-compensation-to-accident-victim-family-7548846/', 'https://indianexpress.com/article/india/nine-of-a-family-dead-in-a-road-accident-in-chhattisgarh-7520739/', 'https://indianexpress.com/article/india/reward-for-taking-accident-victims-to-hospital-7554534/', 'https://indianexpress.com/article/cities/bhopal/mp-tribal-assault-death-govt-to-take-care-of-son-says-cm-7504478/', 'https://indianexpress.com/article/cities/ahmedabad/gujarat-two-killed-in-surendranagar-bus-accident-7525923/', 'https://indianexpress.com/article/cities/bangalore/bengaluru-web-based-gis-system-to-make-commute-safer-for-school-goers-7510723/', 'https://indianexpress.com/article/cities/bangalore/karnataka-mother-kills-adult-daughter-to-hide-affair-father-helps-in-dumping-body-7539860/', 'https://indianexpress.com/article/cities/chandigarh/in-20-days-three-cops-severely-injured-in-road-accidents-while-on-duty-7545048/', 'https://indianexpress.com/article/cities/chennai/madras-hc-quashes-order-increasing-speed-limit-120-kmph-highways-7509780/', 'https://indianexpress.com/article/cities/delhi/delhi-govt-online-campaign-road-safety-7546826/', 'https://indianexpress.com/article/cities/bangalore/maximum-road-deaths-bengaluru-reported-sundays-7535746/', 'https://indianexpress.com/article/cities/jaipur/teenager-run-over-alwar-family-alleges-involvement-of-cow-vigilantes-7505344/', 'https://amp.theguardian.com/books/2021/sep/13/bewilderment-by-richard-powers-review-stars-in-their-eyes', 'https://amp.theguardian.com/books/2021/sep/12/the-making-of-incarnation-tom-mccarthy-review', 'https://amp.theguardian.com/books/2021/sep/17/the-best-recent-and-thrillers-review-roundup', 'https://apnews.com/article/lifestyle-travel-europe-drawing-sweden-b9fe3b9145797f0389468eb34286e237', 'https://www.telegraph.co.uk/world-news/2021/10/04/prophet-mohammed-cartoonist-lars-vilks-dies-car-crash-sweden/', 'https://www.euronews.com/2021/10/04/swedish-artist-who-lived-under-police-protection-after-drawing-prophet-muhammad-dies-in-cr', 'https://visual.ly/community/Infographics/health/online-ambulance-booking-meddco-ambulance', 'https://visual.ly/community/Infographics/other/get-best-two-wheeler-safety-tips-coverfox-and-reach-home-safe', 'https://trekhleb.dev/blog/2021/self-parking-car-evolution/?utm_source=feedburner&utm_medium=feed&utm_campaign=Feed%3A+thechangelog+%28The+Changelog%29', 'https://www.independent.co.uk/news/muhammad-swedish-stockholm-police-dogs-b1931741.html', 'https://www.yahoo.com/lifestyle/threatened-swedish-artist-reportedly-dead-215947498.html', 'https://finance.yahoo.com/news/automated-suturing-device-market-revenue-100000404.html', 'https://www.bbc.co.uk/news/world-africa-58681463', 'https://www.thestar.com.my/news/nation/2021/10/05/witnesses-of-fatal-accident-on-nkve-urged-to-contact-cops', 'https://www.thestar.com.my/news/nation/2021/10/07/sabah-health-director-lodges-police-report-against-woman-over-039aggressive039-behaviour', 'https://www.thestar.com.my/news/nation/2021/09/24/construction-worker-killed-after-row-with-friend', 'https://www.thestar.com.my/news/nation/2021/09/18/hr-ministry-to-table-proposal-to-provide-free-socso-protection-for-2-million-b40-housewives', 'https://www.thestar.com.my/news/nation/2021/09/25/denying-driving-licences-to-senior-citizens-would-be-a-last-resort-measure-says-transport-minister', 'https://www.thestar.com.my/news/nation/2021/09/26/cops-nab-trio-to-assist-in-murder-probe', 'https://www.dw.com/en/jeff-bezos-blue-origin-ethics-in-question-as-faa-investigates/a-59371785', 'https://www.news18.com/news/movies/tollywood-actor-sai-dharam-tej-meets-with-a-road-accident-suffers-collarbone-injury-4190489.html', 'https://www.hindustantimes.com/india-news/9-dead-27-injured-after-truck-collides-with-passenger-bus-in-up-s-barabanki-101633577172126.html', 'https://www.timesnownews.com/entertainment-news/telugu/article/sai-dharam-tej-injured-in-a-road-accident-pawan-kalyan-sundeep-kishan-and-more-rush-to-the-hospital/810509', 'https://www.mirchi9.com/movienews/failed-in-theaters-faces-rejection-on-ott/', 'https://english.newstracklive.com/news/tax-will-have-to-be-paid-up-to-40-thousand-rupees-on-iphone-13-sc84-nu612-ta325-1183016-1.html', 'https://www.mirchi9.com/movienews/tollywoods-plight-blame-is-on-chiranjeevi-now/', 'https://www.mirchi9.com/movienews/first-telugu-film-to-release-on-popular-u-s-ott-app/', 'https://www.bollywoodlife.com/box-office/amidst-divorce-rumours-with-samantha-ruth-prabhu-naga-chaitanyas-love-story-with-sai-pallavi-garners-a-great-response-from-the-audience-read-the-latest-box-office-news-and-gossip-1915604/', 'https://www.bbc.co.uk/sport/tennis/58545598', 'https://www.dw.com/en/lets-talk-about-sex-in-space/a-59202194', 'https://www.news24.com/news24/SouthAfrica/News/eastern-cape-woman-found-guilty-of-stealing-r330-000-in-road-accident-fund-money-from-stepchildren-20210930', 'https://www.bangkokpost.com/world/2192111/prophet-mohammed-cartoonist-killed-in-car-crash', 'https://www.nature.com/articles/s41598-021-98446-2?utm_source=feedburner&utm_medium=feed&utm_campaign=Feed%3A+srep%2Frss%2Fcurrent+%28Scientific+Reports%29', 'https://www.newsweek.com/emily-vancamp-resident-season-5-exit-nic-death-explained-1636048', 'https://www.israelnationalnews.com/News/News.aspx/314339', 'https://news.yahoo.com/kenyan-policeman-wakes-coma-sacked-143910829.html', 'https://www.mirror.co.uk/money/pip-disabled-son-rejected-pip-25090433', 'https://www.bt.dk/fodbold/klub-i-sorg-23-aarig-fransk-fodboldspiller-doed-efter-ulykke', 'https://www.vanguardngr.com/2021/10/overspeeding-leading-cause-of-road-crashes-frsc/', 'https://www.vanguardngr.com/2021/10/nupeng-to-commence-strike-on-monday-2/', 'https://www.vanguardngr.com/2021/10/ember-months-motorists-to-undergo-vision-test-―-frsc/', 'https://www.vanguardngr.com/2021/10/nupeng-to-commence-strike-on-monday/', 'https://www.independent.ie/regionals/wexford/news/heartbreak-as-gorey-man-22-passes-away-after-road-accident-40849022.html', 'https://www.sundayworld.com/crime/world-crime/kinahan-associate-raffaele-imperiale-involved-in-horror-ferrari-crash-that-killed-one-man-40922543.html', 'https://punchng.com/three-killed-two-injured-in-bauchi-road-accident/', 'https://punchng.com/ecowas-seeks-efficient-road-transportation/', 'https://punchng.com/why-well-go-on-strike-dec-11-nupeng/', 'https://ca.sports.yahoo.com/news/five-killed-road-accident-rajasthans-174303923.html', 'https://www.independent.ie/regionals/wexford/news/funeral-details-announced-for-gorey-man-22-who-died-following-collision-40849022.html', 'https://www.news24.com/news24/SouthAfrica/News/pedestrian-injured-in-crash-that-killed-joburg-mayor-dies-bodyguards-recovering-in-hospital-20210919', 'https://www.news24.com/news24/SouthAfrica/News/pics-mpumalanga-road-crash-kills-five-including-child-3-20211007', 'https://www.news24.com/news24/SouthAfrica/News/mystery-of-stolen-north-west-aircraft-parts-solved-20210930', 'https://www.news24.com/news24/SouthAfrica/News/hushed-up-mzwandile-masinas-high-speed-crash-in-borrowed-blue-light-car-20211001', 'https://punchng.com/alleged-cybercrime-fg-to-arraign-activist-on-adokes-complaint/', 'https://indianexpress.com/article/india/nine-killed-in-road-accident-in-barabanki-7558019/', 'http://observer.com/2021/09/titane-review-twisted-exploration-of-gender-violence-and-metal/', 'https://www.thejournal.ie/lars-vilk-cartoon-artist-dead-in-road-crash-two-police-officers-also-5564663-Oct2021/', 'https://www.irishtimes.com/news/ireland/irish-news/tyrone-village-in-shock-over-road-accident-fatality-1.4671913', 'https://abcnews.go.com/International/wireStory/swedish-artist-police-protection-dies-road-accident-80390420', 'https://abcnews.go.com/International/wireStory/threatened-swedish-artist-reportedly-dead-road-accident-80384171', 'http://www.borderlandbeat.com/2021/09/la-mitzy-girlfriend-of-union-tepito.html', 'https://www.dailymail.co.uk/news/article-10000461/Dr-Karl-Covid-19-Australia-Scientist-reveals-happen-drank-vaccine.html', 'https://www.news24.com/news24/SouthAfrica/News/attorney-sentenced-for-stealing-r14-million-in-road-accident-fund-payouts-meant-for-his-clients-20210927', 'https://www.news24.com/news24/SouthAfrica/News/former-pretoria-lawyer-in-court-for-alleged-theft-of-r12-million-from-trust-account-20211005', 'https://www.news24.com/news24/SouthAfrica/News/mmc-mpho-moerane-endorsed-as-ancs-mayoral-candidate-for-joburg-20210929', 'https://www.dailymail.co.uk/health/article-9980263/Dignity-disabled-people-little-brother-old-peoples-home-aged-26.html', 'https://www.aajtak.in/india/madhya-pradesh/story/madhya-pradesh-bhind-accident-death-toll-ntc-1334751-2021-10-01', 'https://www.nzherald.co.nz/nz/bunnies-and-ducks-killed-at-animal-rescue-centre/FUAUCUMHPO7GS6U4HLAKWEPKXM/', 'https://trekhleb.dev/blog/2021/self-parking-car-evolution/', 'https://economictimes.indiatimes.com/news/economy/policy/dedicated-corridors-and-hubs-jyotiraditya-scindia-announces-new-helicopter-policy/articleshow/86871212.cms', 'https://www.thestar.com/news/world/europe/2021/10/03/threatened-swedish-artist-reportedly-dead-in-road-accident.html', 'https://www.origo.hu/nagyvilag/20211007-12-halottja-van-az-indiai-buszbalesetnek.html', 'https://www.ndtv.com/cities/maha-5-dead-in-autorickshaw-truck-collision-in-nashik-2554227', 'https://www.ndtv.com/india-news/rajasthan-rti-activist-dies-family-claims-he-was-killed-by-people-he-exposed-2547832', 'https://www.ndtv.com/india-news/himachal-banjar-mla-6-others-injured-in-road-accident-2537428', 'https://www.ndtv.com/india-news/chhattisgarh-judge-steps-out-of-courtroom-to-award-compensation-to-paralysed-man-in-accident-case-2538544', 'https://www.ndtv.com/india-news/2-killed-10-injured-in-two-separate-road-accidents-in-jammu-and-kashmirs-udhampur-2570584', 'https://www.ndtv.com/india-news/madhya-pradesh-governments-assurance-for-son-of-tribal-dead-in-mob-attack-2538518', 'https://www.carandbike.com/news/humsafer-app-aims-building-skilled-drivers-community-to-prevent-road-accidents-2541581', 'https://www.carandbike.com/news/madras-high-court-turns-down-centres-proposal-of-increasing-highway-speed-limit-to-120-kmph-2541013', 'https://www.ndtv.com/india-news/madras-high-court-dismisses-order-increasing-highway-speed-limit-to-120-kmph-2540787', 'https://www.ndtv.com/india-news/no-landing-charges-parking-deposits-jyotiraditya-scindia-announces-new-helicopter-policy-2568947', 'https://www.reuters.com/lifestyle/sports/former-danish-rider-sorensen-dies-road-accident-2021-09-18/', 'https://amp.theguardian.com/commentisfree/2021/oct/07/the-guardian-view-on-facebook-the-anti-social-network', 'https://www.theglobeandmail.com/sports/article-former-danish-rider-sorensen-dies-in-road-accident/', 'https://www.nybooks.com/articles/2021/10/07/robert-maxwell-mogul-mystery/', 'https://deadline.com/2021/09/levelk-latvian-dark-comedy-samuels-travels-fantastic-fest-premiere-watch-debut-trailer-1234839141/', 'https://indianexpress.com/article/cities/ahmedabad/ahmedabad-bhadaj-road-accident-7560648/', 'https://indianexpress.com/article/cities/bangalore/court-seizes-karnataka-governments-bus-for-not-paying-compensation-to-accident-victim-family-7548846/', 'https://indianexpress.com/article/india/nine-of-a-family-dead-in-a-road-accident-in-chhattisgarh-7520739/', 'https://indianexpress.com/article/india/reward-for-taking-accident-victims-to-hospital-7554534/', 'https://indianexpress.com/article/cities/bhopal/mp-tribal-assault-death-govt-to-take-care-of-son-says-cm-7504478/', 'https://indianexpress.com/article/cities/ahmedabad/gujarat-two-killed-in-surendranagar-bus-accident-7525923/', 'https://indianexpress.com/article/cities/bangalore/bengaluru-web-based-gis-system-to-make-commute-safer-for-school-goers-7510723/', 'https://indianexpress.com/article/cities/bangalore/karnataka-mother-kills-adult-daughter-to-hide-affair-father-helps-in-dumping-body-7539860/', 'https://indianexpress.com/article/cities/chandigarh/in-20-days-three-cops-severely-injured-in-road-accidents-while-on-duty-7545048/', 'https://indianexpress.com/article/cities/chennai/madras-hc-quashes-order-increasing-speed-limit-120-kmph-highways-7509780/', 'https://indianexpress.com/article/cities/delhi/delhi-govt-online-campaign-road-safety-7546826/', 'https://indianexpress.com/article/cities/bangalore/maximum-road-deaths-bengaluru-reported-sundays-7535746/', 'https://indianexpress.com/article/cities/jaipur/teenager-run-over-alwar-family-alleges-involvement-of-cow-vigilantes-7505344/', 'https://amp.theguardian.com/books/2021/sep/13/bewilderment-by-richard-powers-review-stars-in-their-eyes', 'https://amp.theguardian.com/books/2021/sep/12/the-making-of-incarnation-tom-mccarthy-review', 'https://amp.theguardian.com/books/2021/sep/17/the-best-recent-and-thrillers-review-roundup', 'https://apnews.com/article/lifestyle-travel-europe-drawing-sweden-b9fe3b9145797f0389468eb34286e237', 'https://www.telegraph.co.uk/world-news/2021/10/04/prophet-mohammed-cartoonist-lars-vilks-dies-car-crash-sweden/', 'https://www.euronews.com/2021/10/04/swedish-artist-who-lived-under-police-protection-after-drawing-prophet-muhammad-dies-in-cr', 'https://visual.ly/community/Infographics/health/online-ambulance-booking-meddco-ambulance', 'https://visual.ly/community/Infographics/other/get-best-two-wheeler-safety-tips-coverfox-and-reach-home-safe', 'https://trekhleb.dev/blog/2021/self-parking-car-evolution/?utm_source=feedburner&utm_medium=feed&utm_campaign=Feed%3A+thechangelog+%28The+Changelog%29', 'https://www.independent.co.uk/news/muhammad-swedish-stockholm-police-dogs-b1931741.html', 'https://www.yahoo.com/lifestyle/threatened-swedish-artist-reportedly-dead-215947498.html', 'https://finance.yahoo.com/news/automated-suturing-device-market-revenue-100000404.html', 'https://www.bbc.co.uk/news/world-africa-58681463', 'https://www.thestar.com.my/news/nation/2021/10/05/witnesses-of-fatal-accident-on-nkve-urged-to-contact-cops', 'https://www.thestar.com.my/news/nation/2021/10/07/sabah-health-director-lodges-police-report-against-woman-over-039aggressive039-behaviour', 'https://www.thestar.com.my/news/nation/2021/09/24/construction-worker-killed-after-row-with-friend', 'https://www.thestar.com.my/news/nation/2021/09/18/hr-ministry-to-table-proposal-to-provide-free-socso-protection-for-2-million-b40-housewives', 'https://www.thestar.com.my/news/nation/2021/09/25/denying-driving-licences-to-senior-citizens-would-be-a-last-resort-measure-says-transport-minister', 'https://www.thestar.com.my/news/nation/2021/09/26/cops-nab-trio-to-assist-in-murder-probe', 'https://www.dw.com/en/jeff-bezos-blue-origin-ethics-in-question-as-faa-investigates/a-59371785', 'https://www.news18.com/news/movies/tollywood-actor-sai-dharam-tej-meets-with-a-road-accident-suffers-collarbone-injury-4190489.html', 'https://www.hindustantimes.com/india-news/9-dead-27-injured-after-truck-collides-with-passenger-bus-in-up-s-barabanki-101633577172126.html', 'https://www.timesnownews.com/entertainment-news/telugu/article/sai-dharam-tej-injured-in-a-road-accident-pawan-kalyan-sundeep-kishan-and-more-rush-to-the-hospital/810509', 'https://www.mirchi9.com/movienews/failed-in-theaters-faces-rejection-on-ott/', 'https://english.newstracklive.com/news/tax-will-have-to-be-paid-up-to-40-thousand-rupees-on-iphone-13-sc84-nu612-ta325-1183016-1.html', 'https://www.mirchi9.com/movienews/tollywoods-plight-blame-is-on-chiranjeevi-now/', 'https://www.mirchi9.com/movienews/first-telugu-film-to-release-on-popular-u-s-ott-app/', 'https://www.bollywoodlife.com/box-office/amidst-divorce-rumours-with-samantha-ruth-prabhu-naga-chaitanyas-love-story-with-sai-pallavi-garners-a-great-response-from-the-audience-read-the-latest-box-office-news-and-gossip-1915604/', 'https://www.bbc.co.uk/sport/tennis/58545598', 'https://www.dw.com/en/lets-talk-about-sex-in-space/a-59202194', 'https://www.news24.com/news24/SouthAfrica/News/eastern-cape-woman-found-guilty-of-stealing-r330-000-in-road-accident-fund-money-from-stepchildren-20210930', 'https://www.bangkokpost.com/world/2192111/prophet-mohammed-cartoonist-killed-in-car-crash', 'https://www.nature.com/articles/s41598-021-98446-2?utm_source=feedburner&utm_medium=feed&utm_campaign=Feed%3A+srep%2Frss%2Fcurrent+%28Scientific+Reports%29', 'https://www.newsweek.com/emily-vancamp-resident-season-5-exit-nic-death-explained-1636048', 'https://www.israelnationalnews.com/News/News.aspx/314339', 'https://news.yahoo.com/kenyan-policeman-wakes-coma-sacked-143910829.html', 'https://www.mirror.co.uk/money/pip-disabled-son-rejected-pip-25090433', 'https://www.bt.dk/fodbold/klub-i-sorg-23-aarig-fransk-fodboldspiller-doed-efter-ulykke', 'https://www.vanguardngr.com/2021/10/overspeeding-leading-cause-of-road-crashes-frsc/', 'https://www.vanguardngr.com/2021/10/nupeng-to-commence-strike-on-monday-2/', 'https://www.vanguardngr.com/2021/10/ember-months-motorists-to-undergo-vision-test-―-frsc/', 'https://www.vanguardngr.com/2021/10/nupeng-to-commence-strike-on-monday/', 'https://www.independent.ie/regionals/wexford/news/heartbreak-as-gorey-man-22-passes-away-after-road-accident-40849022.html', 'https://www.sundayworld.com/crime/world-crime/kinahan-associate-raffaele-imperiale-involved-in-horror-ferrari-crash-that-killed-one-man-40922543.html', 'https://punchng.com/three-killed-two-injured-in-bauchi-road-accident/', 'https://punchng.com/ecowas-seeks-efficient-road-transportation/', 'https://punchng.com/why-well-go-on-strike-dec-11-nupeng/', 'https://ca.sports.yahoo.com/news/five-killed-road-accident-rajasthans-174303923.html', 'https://www.independent.ie/regionals/wexford/news/funeral-details-announced-for-gorey-man-22-who-died-following-collision-40849022.html', 'https://www.news24.com/news24/SouthAfrica/News/pedestrian-injured-in-crash-that-killed-joburg-mayor-dies-bodyguards-recovering-in-hospital-20210919', 'https://www.news24.com/news24/SouthAfrica/News/pics-mpumalanga-road-crash-kills-five-including-child-3-20211007', 'https://www.news24.com/news24/SouthAfrica/News/mystery-of-stolen-north-west-aircraft-parts-solved-20210930', 'https://www.news24.com/news24/SouthAfrica/News/hushed-up-mzwandile-masinas-high-speed-crash-in-borrowed-blue-light-car-20211001', 'https://punchng.com/alleged-cybercrime-fg-to-arraign-activist-on-adokes-complaint/', 'https://indianexpress.com/article/india/nine-killed-in-road-accident-in-barabanki-7558019/', 'http://observer.com/2021/09/titane-review-twisted-exploration-of-gender-violence-and-metal/', 'https://www.thejournal.ie/lars-vilk-cartoon-artist-dead-in-road-crash-two-police-officers-also-5564663-Oct2021/', 'https://www.irishtimes.com/news/ireland/irish-news/tyrone-village-in-shock-over-road-accident-fatality-1.4671913', 'https://abcnews.go.com/International/wireStory/swedish-artist-police-protection-dies-road-accident-80390420', 'https://abcnews.go.com/International/wireStory/threatened-swedish-artist-reportedly-dead-road-accident-80384171', 'http://www.borderlandbeat.com/2021/09/la-mitzy-girlfriend-of-union-tepito.html', 'https://www.dailymail.co.uk/news/article-10000461/Dr-Karl-Covid-19-Australia-Scientist-reveals-happen-drank-vaccine.html', 'https://www.news24.com/news24/SouthAfrica/News/attorney-sentenced-for-stealing-r14-million-in-road-accident-fund-payouts-meant-for-his-clients-20210927', 'https://www.news24.com/news24/SouthAfrica/News/former-pretoria-lawyer-in-court-for-alleged-theft-of-r12-million-from-trust-account-20211005', 'https://www.news24.com/news24/SouthAfrica/News/mmc-mpho-moerane-endorsed-as-ancs-mayoral-candidate-for-joburg-20210929', 'https://www.dailymail.co.uk/health/article-9980263/Dignity-disabled-people-little-brother-old-peoples-home-aged-26.html', 'https://www.aajtak.in/india/madhya-pradesh/story/madhya-pradesh-bhind-accident-death-toll-ntc-1334751-2021-10-01', 'https://www.nzherald.co.nz/nz/bunnies-and-ducks-killed-at-animal-rescue-centre/FUAUCUMHPO7GS6U4HLAKWEPKXM/', 'https://trekhleb.dev/blog/2021/self-parking-car-evolution/', 'https://economictimes.indiatimes.com/news/economy/policy/dedicated-corridors-and-hubs-jyotiraditya-scindia-announces-new-helicopter-policy/articleshow/86871212.cms', 'https://www.thestar.com/news/world/europe/2021/10/03/threatened-swedish-artist-reportedly-dead-in-road-accident.html', 'https://www.origo.hu/nagyvilag/20211007-12-halottja-van-az-indiai-buszbalesetnek.html', 'https://www.ndtv.com/cities/maha-5-dead-in-autorickshaw-truck-collision-in-nashik-2554227', 'https://www.ndtv.com/india-news/rajasthan-rti-activist-dies-family-claims-he-was-killed-by-people-he-exposed-2547832', 'https://www.ndtv.com/india-news/himachal-banjar-mla-6-others-injured-in-road-accident-2537428', 'https://www.ndtv.com/india-news/chhattisgarh-judge-steps-out-of-courtroom-to-award-compensation-to-paralysed-man-in-accident-case-2538544', 'https://www.ndtv.com/india-news/2-killed-10-injured-in-two-separate-road-accidents-in-jammu-and-kashmirs-udhampur-2570584', 'https://www.ndtv.com/india-news/madhya-pradesh-governments-assurance-for-son-of-tribal-dead-in-mob-attack-2538518', 'https://www.carandbike.com/news/humsafer-app-aims-building-skilled-drivers-community-to-prevent-road-accidents-2541581', 'https://www.carandbike.com/news/madras-high-court-turns-down-centres-proposal-of-increasing-highway-speed-limit-to-120-kmph-2541013', 'https://www.ndtv.com/india-news/madras-high-court-dismisses-order-increasing-highway-speed-limit-to-120-kmph-2540787', 'https://www.ndtv.com/india-news/no-landing-charges-parking-deposits-jyotiraditya-scindia-announces-new-helicopter-policy-2568947', 'https://www.reuters.com/lifestyle/sports/former-danish-rider-sorensen-dies-road-accident-2021-09-18/', 'https://amp.theguardian.com/commentisfree/2021/oct/07/the-guardian-view-on-facebook-the-anti-social-network', 'https://www.theglobeandmail.com/sports/article-former-danish-rider-sorensen-dies-in-road-accident/', 'https://www.nybooks.com/articles/2021/10/07/robert-maxwell-mogul-mystery/', 'https://deadline.com/2021/09/levelk-latvian-dark-comedy-samuels-travels-fantastic-fest-premiere-watch-debut-trailer-1234839141/', 'https://indianexpress.com/article/cities/ahmedabad/ahmedabad-bhadaj-road-accident-7560648/', 'https://indianexpress.com/article/cities/bangalore/court-seizes-karnataka-governments-bus-for-not-paying-compensation-to-accident-victim-family-7548846/', 'https://indianexpress.com/article/india/nine-of-a-family-dead-in-a-road-accident-in-chhattisgarh-7520739/', 'https://indianexpress.com/article/india/reward-for-taking-accident-victims-to-hospital-7554534/', 'https://indianexpress.com/article/cities/bhopal/mp-tribal-assault-death-govt-to-take-care-of-son-says-cm-7504478/', 'https://indianexpress.com/article/cities/ahmedabad/gujarat-two-killed-in-surendranagar-bus-accident-7525923/', 'https://indianexpress.com/article/cities/bangalore/bengaluru-web-based-gis-system-to-make-commute-safer-for-school-goers-7510723/', 'https://indianexpress.com/article/cities/bangalore/karnataka-mother-kills-adult-daughter-to-hide-affair-father-helps-in-dumping-body-7539860/', 'https://indianexpress.com/article/cities/chandigarh/in-20-days-three-cops-severely-injured-in-road-accidents-while-on-duty-7545048/', 'https://indianexpress.com/article/cities/chennai/madras-hc-quashes-order-increasing-speed-limit-120-kmph-highways-7509780/', 'https://indianexpress.com/article/cities/delhi/delhi-govt-online-campaign-road-safety-7546826/', 'https://indianexpress.com/article/cities/bangalore/maximum-road-deaths-bengaluru-reported-sundays-7535746/', 'https://indianexpress.com/article/cities/jaipur/teenager-run-over-alwar-family-alleges-involvement-of-cow-vigilantes-7505344/', 'https://amp.theguardian.com/books/2021/sep/13/bewilderment-by-richard-powers-review-stars-in-their-eyes', 'https://amp.theguardian.com/books/2021/sep/12/the-making-of-incarnation-tom-mccarthy-review', 'https://amp.theguardian.com/books/2021/sep/17/the-best-recent-and-thrillers-review-roundup', 'https://apnews.com/article/lifestyle-travel-europe-drawing-sweden-b9fe3b9145797f0389468eb34286e237', 'https://www.telegraph.co.uk/world-news/2021/10/04/prophet-mohammed-cartoonist-lars-vilks-dies-car-crash-sweden/', 'https://www.euronews.com/2021/10/04/swedish-artist-who-lived-under-police-protection-after-drawing-prophet-muhammad-dies-in-cr', 'https://visual.ly/community/Infographics/health/online-ambulance-booking-meddco-ambulance', 'https://visual.ly/community/Infographics/other/get-best-two-wheeler-safety-tips-coverfox-and-reach-home-safe', 'https://trekhleb.dev/blog/2021/self-parking-car-evolution/?utm_source=feedburner&utm_medium=feed&utm_campaign=Feed%3A+thechangelog+%28The+Changelog%29', 'https://www.independent.co.uk/news/muhammad-swedish-stockholm-police-dogs-b1931741.html', 'https://www.yahoo.com/lifestyle/threatened-swedish-artist-reportedly-dead-215947498.html', 'https://finance.yahoo.com/news/automated-suturing-device-market-revenue-100000404.html', 'https://www.bbc.co.uk/news/world-africa-58681463', 'https://www.thestar.com.my/news/nation/2021/10/05/witnesses-of-fatal-accident-on-nkve-urged-to-contact-cops', 'https://www.thestar.com.my/news/nation/2021/10/07/sabah-health-director-lodges-police-report-against-woman-over-039aggressive039-behaviour', 'https://www.thestar.com.my/news/nation/2021/09/24/construction-worker-killed-after-row-with-friend', 'https://www.thestar.com.my/news/nation/2021/09/18/hr-ministry-to-table-proposal-to-provide-free-socso-protection-for-2-million-b40-housewives', 'https://www.thestar.com.my/news/nation/2021/09/25/denying-driving-licences-to-senior-citizens-would-be-a-last-resort-measure-says-transport-minister', 'https://www.thestar.com.my/news/nation/2021/09/26/cops-nab-trio-to-assist-in-murder-probe', 'https://www.dw.com/en/jeff-bezos-blue-origin-ethics-in-question-as-faa-investigates/a-59371785', 'https://www.news18.com/news/movies/tollywood-actor-sai-dharam-tej-meets-with-a-road-accident-suffers-collarbone-injury-4190489.html', 'https://www.hindustantimes.com/india-news/9-dead-27-injured-after-truck-collides-with-passenger-bus-in-up-s-barabanki-101633577172126.html', 'https://www.timesnownews.com/entertainment-news/telugu/article/sai-dharam-tej-injured-in-a-road-accident-pawan-kalyan-sundeep-kishan-and-more-rush-to-the-hospital/810509', 'https://www.mirchi9.com/movienews/failed-in-theaters-faces-rejection-on-ott/', 'https://english.newstracklive.com/news/tax-will-have-to-be-paid-up-to-40-thousand-rupees-on-iphone-13-sc84-nu612-ta325-1183016-1.html', 'https://www.mirchi9.com/movienews/tollywoods-plight-blame-is-on-chiranjeevi-now/', 'https://www.mirchi9.com/movienews/first-telugu-film-to-release-on-popular-u-s-ott-app/', 'https://www.bollywoodlife.com/box-office/amidst-divorce-rumours-with-samantha-ruth-prabhu-naga-chaitanyas-love-story-with-sai-pallavi-garners-a-great-response-from-the-audience-read-the-latest-box-office-news-and-gossip-1915604/', 'https://www.bbc.co.uk/sport/tennis/58545598', 'https://www.dw.com/en/lets-talk-about-sex-in-space/a-59202194', 'https://www.news24.com/news24/SouthAfrica/News/eastern-cape-woman-found-guilty-of-stealing-r330-000-in-road-accident-fund-money-from-stepchildren-20210930', 'https://www.bangkokpost.com/world/2192111/prophet-mohammed-cartoonist-killed-in-car-crash', 'https://www.nature.com/articles/s41598-021-98446-2?utm_source=feedburner&utm_medium=feed&utm_campaign=Feed%3A+srep%2Frss%2Fcurrent+%28Scientific+Reports%29', 'https://www.newsweek.com/emily-vancamp-resident-season-5-exit-nic-death-explained-1636048', 'https://www.israelnationalnews.com/News/News.aspx/314339', 'https://news.yahoo.com/kenyan-policeman-wakes-coma-sacked-143910829.html', 'https://www.mirror.co.uk/money/pip-disabled-son-rejected-pip-25090433', 'https://www.bt.dk/fodbold/klub-i-sorg-23-aarig-fransk-fodboldspiller-doed-efter-ulykke', 'https://www.vanguardngr.com/2021/10/overspeeding-leading-cause-of-road-crashes-frsc/', 'https://www.vanguardngr.com/2021/10/nupeng-to-commence-strike-on-monday-2/', 'https://www.vanguardngr.com/2021/10/ember-months-motorists-to-undergo-vision-test-―-frsc/', 'https://www.vanguardngr.com/2021/10/nupeng-to-commence-strike-on-monday/', 'https://www.independent.ie/regionals/wexford/news/heartbreak-as-gorey-man-22-passes-away-after-road-accident-40849022.html', 'https://www.sundayworld.com/crime/world-crime/kinahan-associate-raffaele-imperiale-involved-in-horror-ferrari-crash-that-killed-one-man-40922543.html', 'https://punchng.com/three-killed-two-injured-in-bauchi-road-accident/', 'https://punchng.com/ecowas-seeks-efficient-road-transportation/', 'https://punchng.com/why-well-go-on-strike-dec-11-nupeng/', 'https://ca.sports.yahoo.com/news/five-killed-road-accident-rajasthans-174303923.html', 'https://www.independent.ie/regionals/wexford/news/funeral-details-announced-for-gorey-man-22-who-died-following-collision-40849022.html', 'https://www.news24.com/news24/SouthAfrica/News/pedestrian-injured-in-crash-that-killed-joburg-mayor-dies-bodyguards-recovering-in-hospital-20210919', 'https://www.news24.com/news24/SouthAfrica/News/pics-mpumalanga-road-crash-kills-five-including-child-3-20211007', 'https://www.news24.com/news24/SouthAfrica/News/mystery-of-stolen-north-west-aircraft-parts-solved-20210930', 'https://www.news24.com/news24/SouthAfrica/News/hushed-up-mzwandile-masinas-high-speed-crash-in-borrowed-blue-light-car-20211001', 'https://punchng.com/alleged-cybercrime-fg-to-arraign-activist-on-adokes-complaint/', 'https://indianexpress.com/article/india/nine-killed-in-road-accident-in-barabanki-7558019/', 'http://observer.com/2021/09/titane-review-twisted-exploration-of-gender-violence-and-metal/', 'https://www.thejournal.ie/lars-vilk-cartoon-artist-dead-in-road-crash-two-police-officers-also-5564663-Oct2021/', 'https://www.irishtimes.com/news/ireland/irish-news/tyrone-village-in-shock-over-road-accident-fatality-1.4671913', 'https://abcnews.go.com/International/wireStory/swedish-artist-police-protection-dies-road-accident-80390420', 'https://abcnews.go.com/International/wireStory/threatened-swedish-artist-reportedly-dead-road-accident-80384171', 'http://www.borderlandbeat.com/2021/09/la-mitzy-girlfriend-of-union-tepito.html', 'https://www.dailymail.co.uk/news/article-10000461/Dr-Karl-Covid-19-Australia-Scientist-reveals-happen-drank-vaccine.html', 'https://www.news24.com/news24/SouthAfrica/News/attorney-sentenced-for-stealing-r14-million-in-road-accident-fund-payouts-meant-for-his-clients-20210927', 'https://www.news24.com/news24/SouthAfrica/News/former-pretoria-lawyer-in-court-for-alleged-theft-of-r12-million-from-trust-account-20211005', 'https://www.news24.com/news24/SouthAfrica/News/mmc-mpho-moerane-endorsed-as-ancs-mayoral-candidate-for-joburg-20210929', 'https://www.dailymail.co.uk/health/article-9980263/Dignity-disabled-people-little-brother-old-peoples-home-aged-26.html', 'https://www.aajtak.in/india/madhya-pradesh/story/madhya-pradesh-bhind-accident-death-toll-ntc-1334751-2021-10-01', 'https://www.nzherald.co.nz/nz/bunnies-and-ducks-killed-at-animal-rescue-centre/FUAUCUMHPO7GS6U4HLAKWEPKXM/', 'https://trekhleb.dev/blog/2021/self-parking-car-evolution/', 'https://economictimes.indiatimes.com/news/economy/policy/dedicated-corridors-and-hubs-jyotiraditya-scindia-announces-new-helicopter-policy/articleshow/86871212.cms', 'https://www.thestar.com/news/world/europe/2021/10/03/threatened-swedish-artist-reportedly-dead-in-road-accident.html', 'https://www.origo.hu/nagyvilag/20211007-12-halottja-van-az-indiai-buszbalesetnek.html', 'https://www.ndtv.com/cities/maha-5-dead-in-autorickshaw-truck-collision-in-nashik-2554227', 'https://www.ndtv.com/india-news/rajasthan-rti-activist-dies-family-claims-he-was-killed-by-people-he-exposed-2547832', 'https://www.ndtv.com/india-news/himachal-banjar-mla-6-others-injured-in-road-accident-2537428', 'https://www.ndtv.com/india-news/chhattisgarh-judge-steps-out-of-courtroom-to-award-compensation-to-paralysed-man-in-accident-case-2538544', 'https://www.ndtv.com/india-news/2-killed-10-injured-in-two-separate-road-accidents-in-jammu-and-kashmirs-udhampur-2570584', 'https://www.ndtv.com/india-news/madhya-pradesh-governments-assurance-for-son-of-tribal-dead-in-mob-attack-2538518', 'https://www.carandbike.com/news/humsafer-app-aims-building-skilled-drivers-community-to-prevent-road-accidents-2541581', 'https://www.carandbike.com/news/madras-high-court-turns-down-centres-proposal-of-increasing-highway-speed-limit-to-120-kmph-2541013', 'https://www.ndtv.com/india-news/madras-high-court-dismisses-order-increasing-highway-speed-limit-to-120-kmph-2540787', 'https://www.ndtv.com/india-news/no-landing-charges-parking-deposits-jyotiraditya-scindia-announces-new-helicopter-policy-2568947']\n"
     ]
    }
   ],
   "source": [
    "print(news_urls)"
   ]
  },
  {
   "cell_type": "code",
   "execution_count": 18,
   "id": "disciplinary-egypt",
   "metadata": {},
   "outputs": [
    {
     "data": {
      "text/html": [
       "<div>\n",
       "<style scoped>\n",
       "    .dataframe tbody tr th:only-of-type {\n",
       "        vertical-align: middle;\n",
       "    }\n",
       "\n",
       "    .dataframe tbody tr th {\n",
       "        vertical-align: top;\n",
       "    }\n",
       "\n",
       "    .dataframe thead th {\n",
       "        text-align: right;\n",
       "    }\n",
       "</style>\n",
       "<table border=\"1\" class=\"dataframe\">\n",
       "  <thead>\n",
       "    <tr style=\"text-align: right;\">\n",
       "      <th></th>\n",
       "      <th>Title</th>\n",
       "      <th>Text</th>\n",
       "      <th>Keywords</th>\n",
       "      <th>Summary</th>\n",
       "    </tr>\n",
       "  </thead>\n",
       "  <tbody>\n",
       "    <tr>\n",
       "      <th>0</th>\n",
       "      <td>Former Danish rider Sorensen dies in road acci...</td>\n",
       "      <td>Chris Anker Sorensen of Denmark celebrates on ...</td>\n",
       "      <td>[cycling, toussuire, sorensen, anker, dies, ro...</td>\n",
       "      <td>Chris Anker Sorensen of Denmark celebrates on ...</td>\n",
       "    </tr>\n",
       "    <tr>\n",
       "      <th>1</th>\n",
       "      <td>The Guardian view on Facebook: the anti-social...</td>\n",
       "      <td>Show caption Frances Haugen, a former employee...</td>\n",
       "      <td>[facebook, antisocial, products, information, ...</td>\n",
       "      <td>Show caption Frances Haugen, a former employee...</td>\n",
       "    </tr>\n",
       "    <tr>\n",
       "      <th>2</th>\n",
       "      <td>Former Danish cyclist Chris Anker Sorensen die...</td>\n",
       "      <td>Open this photo in gallery In this file photo ...</td>\n",
       "      <td>[cycling, world, sorensen, cyclist, dies, chri...</td>\n",
       "      <td>Open this photo in gallery In this file photo ...</td>\n",
       "    </tr>\n",
       "    <tr>\n",
       "      <th>3</th>\n",
       "      <td>Mogul of Mystery</td>\n",
       "      <td>Bride Lane Library/Popperfoto/Getty Images Rob...</td>\n",
       "      <td>[thought, mogul, stock, solotvino, maxwell, br...</td>\n",
       "      <td>Eight months later the yacht was cruising off ...</td>\n",
       "    </tr>\n",
       "    <tr>\n",
       "      <th>4</th>\n",
       "      <td>LevelK Boards Latvian Dark Comedy ‘Samuel’s Tr...</td>\n",
       "      <td>EXCLUSIVE: Sales company LevelK has boarded La...</td>\n",
       "      <td>[vilims, samuels, levelk, wants, truth, debut,...</td>\n",
       "      <td>EXCLUSIVE: Sales company LevelK has boarded La...</td>\n",
       "    </tr>\n",
       "  </tbody>\n",
       "</table>\n",
       "</div>"
      ],
      "text/plain": [
       "                                               Title  \\\n",
       "0  Former Danish rider Sorensen dies in road acci...   \n",
       "1  The Guardian view on Facebook: the anti-social...   \n",
       "2  Former Danish cyclist Chris Anker Sorensen die...   \n",
       "3                                   Mogul of Mystery   \n",
       "4  LevelK Boards Latvian Dark Comedy ‘Samuel’s Tr...   \n",
       "\n",
       "                                                Text  \\\n",
       "0  Chris Anker Sorensen of Denmark celebrates on ...   \n",
       "1  Show caption Frances Haugen, a former employee...   \n",
       "2  Open this photo in gallery In this file photo ...   \n",
       "3  Bride Lane Library/Popperfoto/Getty Images Rob...   \n",
       "4  EXCLUSIVE: Sales company LevelK has boarded La...   \n",
       "\n",
       "                                            Keywords  \\\n",
       "0  [cycling, toussuire, sorensen, anker, dies, ro...   \n",
       "1  [facebook, antisocial, products, information, ...   \n",
       "2  [cycling, world, sorensen, cyclist, dies, chri...   \n",
       "3  [thought, mogul, stock, solotvino, maxwell, br...   \n",
       "4  [vilims, samuels, levelk, wants, truth, debut,...   \n",
       "\n",
       "                                             Summary  \n",
       "0  Chris Anker Sorensen of Denmark celebrates on ...  \n",
       "1  Show caption Frances Haugen, a former employee...  \n",
       "2  Open this photo in gallery In this file photo ...  \n",
       "3  Eight months later the yacht was cruising off ...  \n",
       "4  EXCLUSIVE: Sales company LevelK has boarded La...  "
      ]
     },
     "execution_count": 18,
     "metadata": {},
     "output_type": "execute_result"
    }
   ],
   "source": [
    "import newspaper\n",
    "from newspaper import Article\n",
    "import pandas as pd\n",
    "\n",
    "data = []\n",
    "\n",
    "for news_url in news_urls:\n",
    "    article = Article(url=news_url, language='en')\n",
    "    try:\n",
    "        article.download()\n",
    "        article.parse()\n",
    "        article.nlp()\n",
    "    except:\n",
    "        pass\n",
    "    data.append([article.title,article.text,article.keywords,article.summary])\n",
    "\n",
    "df_news = pd.DataFrame(data, columns = ['Title','Text','Keywords','Summary'])\n",
    "df_news.head()"
   ]
  },
  {
   "cell_type": "code",
   "execution_count": 19,
   "id": "constitutional-prompt",
   "metadata": {},
   "outputs": [
    {
     "data": {
      "text/plain": [
       "Title       300\n",
       "Text        300\n",
       "Keywords    300\n",
       "Summary     300\n",
       "dtype: int64"
      ]
     },
     "execution_count": 19,
     "metadata": {},
     "output_type": "execute_result"
    }
   ],
   "source": [
    "df_news.count()"
   ]
  },
  {
   "cell_type": "code",
   "execution_count": 20,
   "id": "connected-theta",
   "metadata": {},
   "outputs": [],
   "source": [
    "df_news.to_csv('raw_data.csv')"
   ]
  },
  {
   "cell_type": "code",
   "execution_count": null,
   "id": "described-sperm",
   "metadata": {},
   "outputs": [],
   "source": []
  }
 ],
 "metadata": {
  "kernelspec": {
   "display_name": "Python 3",
   "language": "python",
   "name": "python3"
  },
  "language_info": {
   "codemirror_mode": {
    "name": "ipython",
    "version": 3
   },
   "file_extension": ".py",
   "mimetype": "text/x-python",
   "name": "python",
   "nbconvert_exporter": "python",
   "pygments_lexer": "ipython3",
   "version": "3.8.8"
  }
 },
 "nbformat": 4,
 "nbformat_minor": 5
}
